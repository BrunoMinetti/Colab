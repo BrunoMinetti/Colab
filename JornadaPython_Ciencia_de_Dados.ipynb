{
  "nbformat": 4,
  "nbformat_minor": 0,
  "metadata": {
    "kernelspec": {
      "display_name": "Python 3",
      "language": "python",
      "name": "python3"
    },
    "language_info": {
      "codemirror_mode": {
        "name": "ipython",
        "version": 3
      },
      "file_extension": ".py",
      "mimetype": "text/x-python",
      "name": "python",
      "nbconvert_exporter": "python",
      "pygments_lexer": "ipython3",
      "version": "3.6.4"
    },
    "colab": {
      "name": "JornadaPython_Ciencia_de_Dados.ipynb",
      "provenance": [],
      "include_colab_link": true
    }
  },
  "cells": [
    {
      "cell_type": "markdown",
      "metadata": {
        "id": "view-in-github",
        "colab_type": "text"
      },
      "source": [
        "<a href=\"https://colab.research.google.com/github/BrunoMinetti/Colab/blob/main/JornadaPython_Ciencia_de_Dados.ipynb\" target=\"_parent\"><img src=\"https://colab.research.google.com/assets/colab-badge.svg\" alt=\"Open In Colab\"/></a>"
      ]
    },
    {
      "cell_type": "markdown",
      "metadata": {
        "id": "lgncHzZkyf6D"
      },
      "source": [
        ""
      ]
    },
    {
      "cell_type": "markdown",
      "metadata": {
        "id": "rJR1RlZglujk"
      },
      "source": [
        "# Jornada Python: Ciência de Dados - Resolvendo problemas reais com Python e Pandas\n",
        "\n",
        "---\n",
        "Autor: Bruno Cesar Minetti Sanches<p>\n",
        "GitHub: https://github.com/BrunoMinetti<p>\n",
        "Linkedin: https://www.linkedin.com/in/brunocmsanches/<p>\n",
        "\n",
        "---\n",
        "###Breve currículo:<p> \n",
        "Gestor de Trânsito | Tecnólogo em Microeletrônica | Estudante de Análise e Desenvolvimento de Sistemas | Entusiasta da Ciência de Dados\n",
        "\n",
        "---\n",
        "\n"
      ]
    },
    {
      "cell_type": "markdown",
      "metadata": {
        "id": "jjkeEUizy2U5"
      },
      "source": [
        "Esta atividade é composta por duas partes com a seguinte programação:\n",
        "\n",
        "Ciência de Dados: Resolvendo problemas reais com Python e Pandas (Parte 1 e 2) [19/03]\n",
        "\n",
        "Totalizando a Carga Horária de 6 Horas.\n",
        "\n",
        "Ao se inscrever nesta atividade você estará automaticamente inscrito(a) nas demais partes.\n",
        "\n",
        "Todos os links serão enviados por e-mail com antecedência.\n",
        "\n",
        "Este evento faz parte da Jornada de Python.\n",
        "\n",
        "Público Alvo: Estudantes, Profissionais, interessados em geral.\n",
        "Pré-Requisitos: Acima de 18 anos.\n",
        "Duração: 3 hora(s), das 14:00 às 17:00 mais 3 hora(s), das 18:00 às 21:00\n",
        "Palestrante: Prof. Paulo Salvatore e Prof. Guilherme Feulo\n",
        "Informações Adicionais: Horário de Brasília. Informações de acesso serão enviadas por e-mail."
      ]
    },
    {
      "cell_type": "markdown",
      "metadata": {
        "id": "1rZE7D4gqnwy"
      },
      "source": [
        "Essa competição tem como objetivo ser uma tarefa prática para o curso de ciência de dados ministrado pela Ocean Brasil em 19/03/2021.\n",
        "\n",
        "Nele trabalharemos com um dataset utilizado no artigo:\n",
        "\n",
        "[Moro et al., 2014] S. Moro, P. Cortez and P. Rita. A Data-Driven Approach to Predict the Success of Bank Telemarketing. Decision Support Systems, Elsevier, 62:22-31, June 2014"
      ]
    },
    {
      "cell_type": "markdown",
      "metadata": {
        "id": "wh-fIpq4qsvK"
      },
      "source": [
        "A avaliação será feita em uma parte ja destacada do dataset utilzando a métrica Mean F1-Score.\n",
        "\n",
        "Formato de Submissão\n",
        "A submissão deve ser realizada seguindo o padrão do arquivo de exemplo disponibilizado junto com o dataset. Um arquivo csv com o cabeçalho:\n",
        "\n",
        "id,y\n",
        "Seguido das linhas com as predições realizadas por você para cada entradado arquivo de teste."
      ]
    },
    {
      "cell_type": "markdown",
      "metadata": {
        "id": "RZAkHhpwnaeG"
      },
      "source": [
        "Informações dos atributos. Conhecendo as Features:\n",
        "\n",
        "- Atributos de Entrada:\n",
        "\n",
        "- Relacionadas a informação bancária (Dados anonimizados):\n",
        "\n",
        "1. age (numeric)\n",
        "\n",
        "2. job : type of job (categorical: \"admin.\",\"blue-collar\",\"entrepreneur\",\"housemaid\",\"management\",\"retired\",\"self-employed\",\"services\",\"student\",\"technician\",\"unemployed\",\"unknown\")\n",
        "\n",
        "3. marital : marital status (categorical: \"divorced\",\"married\",\"single\",\"unknown\"; note: \"divorced\" means divorced or widowed)\n",
        "\n",
        "4. education (categorical: \"basic.4y\",\"basic.6y\",\"basic.9y\",\"high.school\",\"illiterate\",\"professional.course\",\"university.degree\",\"unknown\")\n",
        "\n",
        "5. default: has credit in default? (categorical: \"no\",\"yes\",\"unknown\")\n",
        "\n",
        "6. housing: has housing loan? (categorical: \"no\",\"yes\",\"unknown\")\n",
        "\n",
        "7. loan: has personal loan? (categorical: \"no\",\"yes\",\"unknown\")\n",
        "\n",
        "- Relacionadas com o último contato dessa mesma campanha:\n",
        "\n",
        "8. contact: contact communication type (categorical: \"cellular\",\"telephone\")\n",
        "\n",
        "9. month: last contact month of year (categorical: \"jan\", \"feb\", \"mar\", ..., \"nov\", \"dec\")\n",
        "\n",
        "10. day_of_week: last contact day of the week (categorical: \"mon\",\"tue\",\"wed\",\"thu\",\"fri\")\n",
        "\n",
        "11. duration: last contact duration, in seconds (numeric). Important note: this attribute highly affects the output target (e.g., if duration=0 then y=\"no\"). Yet, the duration is not known before a call is performed. Also, after the end of the call y is obviously known. Thus, this input should only be included for benchmark purposes and should be discarded if the intention is to have a realistic predictive model.\n",
        "\n",
        "- Outros atributos:\n",
        "\n",
        "12. campaign: number of contacts performed during this campaign and for this client (numeric, includes last contact)\n",
        "\n",
        "13. pdays: number of days that passed by after the client was last contacted from a previous campaign (numeric; 999 means client was not previously contacted)\n",
        "\n",
        "14. previous: number of contacts performed before this campaign and for this client (numeric)\n",
        "\n",
        "15. poutcome: outcome of the previous marketing campaign (categorical: \"failure\",\"nonexistent\",\"success\")\n",
        "\n",
        "- Atributos de contexto social e econômico:\n",
        "\n",
        "16. emp.var.rate: employment variation rate - quarterly indicator (numeric)\n",
        "\n",
        "17. cons.price.idx: consumer price index - monthly indicator (numeric)\n",
        "\n",
        "18. cons.conf.idx: consumer confidence index - monthly indicator (numeric)\n",
        "\n",
        "19. euribor3m: euribor 3 month rate - daily indicator (numeric)\n",
        "\n",
        "20. nr.employed: number of employees - quarterly indicator (numeric)\n",
        "\n",
        "- Atributo Alvo:\n",
        "\n",
        "21. y : has the client subscribed a term deposit? (binary: \"yes\",\"no\")"
      ]
    },
    {
      "cell_type": "markdown",
      "metadata": {
        "id": "0XJAxvtfq0gR"
      },
      "source": [
        "Site: https://www.kaggle.com/c/jornada-python-ocean/"
      ]
    },
    {
      "cell_type": "code",
      "metadata": {
        "_cell_guid": "b1076dfc-b9ad-4769-8c92-a6c4dae69d19",
        "_uuid": "8f2839f25d086af736a60e9eeb907d3b93b6e0e5",
        "id": "AfAkNZ4_nYsS"
      },
      "source": [
        "import numpy as np \n",
        "import pandas as pd \n",
        "import seaborn as sns\n",
        "import matplotlib.pyplot as plt"
      ],
      "execution_count": 1,
      "outputs": []
    },
    {
      "cell_type": "code",
      "metadata": {
        "colab": {
          "base_uri": "https://localhost:8080/"
        },
        "id": "3xx47KvnlNtK",
        "outputId": "3f7a93d6-4acd-4a73-a345-1e5686059bd4"
      },
      "source": [
        "from google.colab import drive\n",
        "drive.mount('/content/drive')"
      ],
      "execution_count": 2,
      "outputs": [
        {
          "output_type": "stream",
          "text": [
            "Mounted at /content/drive\n"
          ],
          "name": "stdout"
        }
      ]
    },
    {
      "cell_type": "markdown",
      "metadata": {
        "id": "UNoeirPYNH5S"
      },
      "source": [
        "# Conhecendo o Dataset"
      ]
    },
    {
      "cell_type": "markdown",
      "metadata": {
        "id": "P1D7qn6A1G9h"
      },
      "source": [
        ""
      ]
    },
    {
      "cell_type": "code",
      "metadata": {
        "id": "3Ib5WhCwREci"
      },
      "source": [
        "df = pd.read_csv('/content/drive/MyDrive/Jornada_Python_Ocean/train.csv', index_col='id')"
      ],
      "execution_count": 3,
      "outputs": []
    },
    {
      "cell_type": "code",
      "metadata": {
        "colab": {
          "base_uri": "https://localhost:8080/",
          "height": 255
        },
        "id": "CXiMNFObREmN",
        "outputId": "d0a077b1-5894-4a2a-c071-6ebfb95512d3"
      },
      "source": [
        "df.head()"
      ],
      "execution_count": 4,
      "outputs": [
        {
          "output_type": "execute_result",
          "data": {
            "text/html": [
              "<div>\n",
              "<style scoped>\n",
              "    .dataframe tbody tr th:only-of-type {\n",
              "        vertical-align: middle;\n",
              "    }\n",
              "\n",
              "    .dataframe tbody tr th {\n",
              "        vertical-align: top;\n",
              "    }\n",
              "\n",
              "    .dataframe thead th {\n",
              "        text-align: right;\n",
              "    }\n",
              "</style>\n",
              "<table border=\"1\" class=\"dataframe\">\n",
              "  <thead>\n",
              "    <tr style=\"text-align: right;\">\n",
              "      <th></th>\n",
              "      <th>age</th>\n",
              "      <th>job</th>\n",
              "      <th>marital</th>\n",
              "      <th>education</th>\n",
              "      <th>default</th>\n",
              "      <th>housing</th>\n",
              "      <th>loan</th>\n",
              "      <th>contact</th>\n",
              "      <th>month</th>\n",
              "      <th>day_of_week</th>\n",
              "      <th>duration</th>\n",
              "      <th>campaign</th>\n",
              "      <th>pdays</th>\n",
              "      <th>previous</th>\n",
              "      <th>poutcome</th>\n",
              "      <th>emp.var.rate</th>\n",
              "      <th>cons.price.idx</th>\n",
              "      <th>cons.conf.idx</th>\n",
              "      <th>euribor3m</th>\n",
              "      <th>nr.employed</th>\n",
              "      <th>y</th>\n",
              "    </tr>\n",
              "    <tr>\n",
              "      <th>id</th>\n",
              "      <th></th>\n",
              "      <th></th>\n",
              "      <th></th>\n",
              "      <th></th>\n",
              "      <th></th>\n",
              "      <th></th>\n",
              "      <th></th>\n",
              "      <th></th>\n",
              "      <th></th>\n",
              "      <th></th>\n",
              "      <th></th>\n",
              "      <th></th>\n",
              "      <th></th>\n",
              "      <th></th>\n",
              "      <th></th>\n",
              "      <th></th>\n",
              "      <th></th>\n",
              "      <th></th>\n",
              "      <th></th>\n",
              "      <th></th>\n",
              "      <th></th>\n",
              "    </tr>\n",
              "  </thead>\n",
              "  <tbody>\n",
              "    <tr>\n",
              "      <th>0</th>\n",
              "      <td>52</td>\n",
              "      <td>technician</td>\n",
              "      <td>divorced</td>\n",
              "      <td>professional.course</td>\n",
              "      <td>NaN</td>\n",
              "      <td>yes</td>\n",
              "      <td>no</td>\n",
              "      <td>telephone</td>\n",
              "      <td>jun</td>\n",
              "      <td>mon</td>\n",
              "      <td>56</td>\n",
              "      <td>8</td>\n",
              "      <td>999</td>\n",
              "      <td>0</td>\n",
              "      <td>nonexistent</td>\n",
              "      <td>1.4</td>\n",
              "      <td>94.465</td>\n",
              "      <td>-41.8</td>\n",
              "      <td>4.865</td>\n",
              "      <td>5228.1</td>\n",
              "      <td>no</td>\n",
              "    </tr>\n",
              "    <tr>\n",
              "      <th>1</th>\n",
              "      <td>36</td>\n",
              "      <td>management</td>\n",
              "      <td>married</td>\n",
              "      <td>university.degree</td>\n",
              "      <td>no</td>\n",
              "      <td>yes</td>\n",
              "      <td>no</td>\n",
              "      <td>cellular</td>\n",
              "      <td>nov</td>\n",
              "      <td>tue</td>\n",
              "      <td>267</td>\n",
              "      <td>2</td>\n",
              "      <td>999</td>\n",
              "      <td>0</td>\n",
              "      <td>nonexistent</td>\n",
              "      <td>-0.1</td>\n",
              "      <td>93.200</td>\n",
              "      <td>-42.0</td>\n",
              "      <td>4.153</td>\n",
              "      <td>5195.8</td>\n",
              "      <td>no</td>\n",
              "    </tr>\n",
              "    <tr>\n",
              "      <th>2</th>\n",
              "      <td>53</td>\n",
              "      <td>blue-collar</td>\n",
              "      <td>married</td>\n",
              "      <td>high.school</td>\n",
              "      <td>no</td>\n",
              "      <td>yes</td>\n",
              "      <td>yes</td>\n",
              "      <td>cellular</td>\n",
              "      <td>jul</td>\n",
              "      <td>mon</td>\n",
              "      <td>243</td>\n",
              "      <td>2</td>\n",
              "      <td>999</td>\n",
              "      <td>0</td>\n",
              "      <td>nonexistent</td>\n",
              "      <td>1.4</td>\n",
              "      <td>93.918</td>\n",
              "      <td>-42.7</td>\n",
              "      <td>4.962</td>\n",
              "      <td>5228.1</td>\n",
              "      <td>no</td>\n",
              "    </tr>\n",
              "    <tr>\n",
              "      <th>3</th>\n",
              "      <td>45</td>\n",
              "      <td>blue-collar</td>\n",
              "      <td>single</td>\n",
              "      <td>basic.9y</td>\n",
              "      <td>no</td>\n",
              "      <td>yes</td>\n",
              "      <td>no</td>\n",
              "      <td>cellular</td>\n",
              "      <td>aug</td>\n",
              "      <td>wed</td>\n",
              "      <td>249</td>\n",
              "      <td>1</td>\n",
              "      <td>4</td>\n",
              "      <td>1</td>\n",
              "      <td>success</td>\n",
              "      <td>-2.9</td>\n",
              "      <td>92.201</td>\n",
              "      <td>-31.4</td>\n",
              "      <td>0.879</td>\n",
              "      <td>5076.2</td>\n",
              "      <td>no</td>\n",
              "    </tr>\n",
              "    <tr>\n",
              "      <th>4</th>\n",
              "      <td>60</td>\n",
              "      <td>housemaid</td>\n",
              "      <td>married</td>\n",
              "      <td>high.school</td>\n",
              "      <td>NaN</td>\n",
              "      <td>yes</td>\n",
              "      <td>no</td>\n",
              "      <td>telephone</td>\n",
              "      <td>may</td>\n",
              "      <td>wed</td>\n",
              "      <td>74</td>\n",
              "      <td>1</td>\n",
              "      <td>999</td>\n",
              "      <td>0</td>\n",
              "      <td>nonexistent</td>\n",
              "      <td>1.1</td>\n",
              "      <td>93.994</td>\n",
              "      <td>-36.4</td>\n",
              "      <td>4.858</td>\n",
              "      <td>5191.0</td>\n",
              "      <td>no</td>\n",
              "    </tr>\n",
              "  </tbody>\n",
              "</table>\n",
              "</div>"
            ],
            "text/plain": [
              "    age          job   marital  ... euribor3m nr.employed   y\n",
              "id                              ...                          \n",
              "0    52   technician  divorced  ...     4.865      5228.1  no\n",
              "1    36   management   married  ...     4.153      5195.8  no\n",
              "2    53  blue-collar   married  ...     4.962      5228.1  no\n",
              "3    45  blue-collar    single  ...     0.879      5076.2  no\n",
              "4    60    housemaid   married  ...     4.858      5191.0  no\n",
              "\n",
              "[5 rows x 21 columns]"
            ]
          },
          "metadata": {
            "tags": []
          },
          "execution_count": 4
        }
      ]
    },
    {
      "cell_type": "code",
      "metadata": {
        "colab": {
          "base_uri": "https://localhost:8080/"
        },
        "id": "2gOGfDkVVm_0",
        "outputId": "854d5962-f649-467d-b894-b493dcc595a8"
      },
      "source": [
        "df.info()"
      ],
      "execution_count": 5,
      "outputs": [
        {
          "output_type": "stream",
          "text": [
            "<class 'pandas.core.frame.DataFrame'>\n",
            "Int64Index: 37069 entries, 0 to 37068\n",
            "Data columns (total 21 columns):\n",
            " #   Column          Non-Null Count  Dtype  \n",
            "---  ------          --------------  -----  \n",
            " 0   age             37069 non-null  int64  \n",
            " 1   job             36773 non-null  object \n",
            " 2   marital         37000 non-null  object \n",
            " 3   education       35505 non-null  object \n",
            " 4   default         29296 non-null  object \n",
            " 5   housing         36176 non-null  object \n",
            " 6   loan            36176 non-null  object \n",
            " 7   contact         37069 non-null  object \n",
            " 8   month           37069 non-null  object \n",
            " 9   day_of_week     37069 non-null  object \n",
            " 10  duration        37069 non-null  int64  \n",
            " 11  campaign        37069 non-null  int64  \n",
            " 12  pdays           37069 non-null  int64  \n",
            " 13  previous        37069 non-null  int64  \n",
            " 14  poutcome        37069 non-null  object \n",
            " 15  emp.var.rate    37069 non-null  float64\n",
            " 16  cons.price.idx  37069 non-null  float64\n",
            " 17  cons.conf.idx   37069 non-null  float64\n",
            " 18  euribor3m       37069 non-null  float64\n",
            " 19  nr.employed     37069 non-null  float64\n",
            " 20  y               37069 non-null  object \n",
            "dtypes: float64(5), int64(5), object(11)\n",
            "memory usage: 6.2+ MB\n"
          ],
          "name": "stdout"
        }
      ]
    },
    {
      "cell_type": "code",
      "metadata": {
        "colab": {
          "base_uri": "https://localhost:8080/",
          "height": 297
        },
        "id": "D9LPPI0VVnFO",
        "outputId": "3d601fe6-3383-4bc1-8578-56c045ef17f2"
      },
      "source": [
        "df.describe()"
      ],
      "execution_count": 6,
      "outputs": [
        {
          "output_type": "execute_result",
          "data": {
            "text/html": [
              "<div>\n",
              "<style scoped>\n",
              "    .dataframe tbody tr th:only-of-type {\n",
              "        vertical-align: middle;\n",
              "    }\n",
              "\n",
              "    .dataframe tbody tr th {\n",
              "        vertical-align: top;\n",
              "    }\n",
              "\n",
              "    .dataframe thead th {\n",
              "        text-align: right;\n",
              "    }\n",
              "</style>\n",
              "<table border=\"1\" class=\"dataframe\">\n",
              "  <thead>\n",
              "    <tr style=\"text-align: right;\">\n",
              "      <th></th>\n",
              "      <th>age</th>\n",
              "      <th>duration</th>\n",
              "      <th>campaign</th>\n",
              "      <th>pdays</th>\n",
              "      <th>previous</th>\n",
              "      <th>emp.var.rate</th>\n",
              "      <th>cons.price.idx</th>\n",
              "      <th>cons.conf.idx</th>\n",
              "      <th>euribor3m</th>\n",
              "      <th>nr.employed</th>\n",
              "    </tr>\n",
              "  </thead>\n",
              "  <tbody>\n",
              "    <tr>\n",
              "      <th>count</th>\n",
              "      <td>37069.000000</td>\n",
              "      <td>37069.000000</td>\n",
              "      <td>37069.000000</td>\n",
              "      <td>37069.000000</td>\n",
              "      <td>37069.000000</td>\n",
              "      <td>37069.000000</td>\n",
              "      <td>37069.000000</td>\n",
              "      <td>37069.000000</td>\n",
              "      <td>37069.000000</td>\n",
              "      <td>37069.000000</td>\n",
              "    </tr>\n",
              "    <tr>\n",
              "      <th>mean</th>\n",
              "      <td>40.023497</td>\n",
              "      <td>258.185492</td>\n",
              "      <td>2.566862</td>\n",
              "      <td>962.058189</td>\n",
              "      <td>0.173946</td>\n",
              "      <td>0.082222</td>\n",
              "      <td>93.576416</td>\n",
              "      <td>-40.505555</td>\n",
              "      <td>3.620484</td>\n",
              "      <td>5166.966047</td>\n",
              "    </tr>\n",
              "    <tr>\n",
              "      <th>std</th>\n",
              "      <td>10.412653</td>\n",
              "      <td>259.579105</td>\n",
              "      <td>2.765626</td>\n",
              "      <td>187.939691</td>\n",
              "      <td>0.497441</td>\n",
              "      <td>1.571009</td>\n",
              "      <td>0.578585</td>\n",
              "      <td>4.623600</td>\n",
              "      <td>1.735310</td>\n",
              "      <td>72.360902</td>\n",
              "    </tr>\n",
              "    <tr>\n",
              "      <th>min</th>\n",
              "      <td>17.000000</td>\n",
              "      <td>0.000000</td>\n",
              "      <td>1.000000</td>\n",
              "      <td>0.000000</td>\n",
              "      <td>0.000000</td>\n",
              "      <td>-3.400000</td>\n",
              "      <td>92.201000</td>\n",
              "      <td>-50.800000</td>\n",
              "      <td>0.634000</td>\n",
              "      <td>4963.600000</td>\n",
              "    </tr>\n",
              "    <tr>\n",
              "      <th>25%</th>\n",
              "      <td>32.000000</td>\n",
              "      <td>103.000000</td>\n",
              "      <td>1.000000</td>\n",
              "      <td>999.000000</td>\n",
              "      <td>0.000000</td>\n",
              "      <td>-1.800000</td>\n",
              "      <td>93.075000</td>\n",
              "      <td>-42.700000</td>\n",
              "      <td>1.344000</td>\n",
              "      <td>5099.100000</td>\n",
              "    </tr>\n",
              "    <tr>\n",
              "      <th>50%</th>\n",
              "      <td>38.000000</td>\n",
              "      <td>180.000000</td>\n",
              "      <td>2.000000</td>\n",
              "      <td>999.000000</td>\n",
              "      <td>0.000000</td>\n",
              "      <td>1.100000</td>\n",
              "      <td>93.749000</td>\n",
              "      <td>-41.800000</td>\n",
              "      <td>4.857000</td>\n",
              "      <td>5191.000000</td>\n",
              "    </tr>\n",
              "    <tr>\n",
              "      <th>75%</th>\n",
              "      <td>47.000000</td>\n",
              "      <td>319.000000</td>\n",
              "      <td>3.000000</td>\n",
              "      <td>999.000000</td>\n",
              "      <td>0.000000</td>\n",
              "      <td>1.400000</td>\n",
              "      <td>93.994000</td>\n",
              "      <td>-36.400000</td>\n",
              "      <td>4.961000</td>\n",
              "      <td>5228.100000</td>\n",
              "    </tr>\n",
              "    <tr>\n",
              "      <th>max</th>\n",
              "      <td>98.000000</td>\n",
              "      <td>4918.000000</td>\n",
              "      <td>56.000000</td>\n",
              "      <td>999.000000</td>\n",
              "      <td>7.000000</td>\n",
              "      <td>1.400000</td>\n",
              "      <td>94.767000</td>\n",
              "      <td>-26.900000</td>\n",
              "      <td>5.045000</td>\n",
              "      <td>5228.100000</td>\n",
              "    </tr>\n",
              "  </tbody>\n",
              "</table>\n",
              "</div>"
            ],
            "text/plain": [
              "                age      duration  ...     euribor3m   nr.employed\n",
              "count  37069.000000  37069.000000  ...  37069.000000  37069.000000\n",
              "mean      40.023497    258.185492  ...      3.620484   5166.966047\n",
              "std       10.412653    259.579105  ...      1.735310     72.360902\n",
              "min       17.000000      0.000000  ...      0.634000   4963.600000\n",
              "25%       32.000000    103.000000  ...      1.344000   5099.100000\n",
              "50%       38.000000    180.000000  ...      4.857000   5191.000000\n",
              "75%       47.000000    319.000000  ...      4.961000   5228.100000\n",
              "max       98.000000   4918.000000  ...      5.045000   5228.100000\n",
              "\n",
              "[8 rows x 10 columns]"
            ]
          },
          "metadata": {
            "tags": []
          },
          "execution_count": 6
        }
      ]
    },
    {
      "cell_type": "code",
      "metadata": {
        "colab": {
          "base_uri": "https://localhost:8080/",
          "height": 173
        },
        "id": "CCQdHioA9XjL",
        "outputId": "508c995c-e53a-44b4-948f-bf861aecb710"
      },
      "source": [
        "df.describe(include='object')"
      ],
      "execution_count": 7,
      "outputs": [
        {
          "output_type": "execute_result",
          "data": {
            "text/html": [
              "<div>\n",
              "<style scoped>\n",
              "    .dataframe tbody tr th:only-of-type {\n",
              "        vertical-align: middle;\n",
              "    }\n",
              "\n",
              "    .dataframe tbody tr th {\n",
              "        vertical-align: top;\n",
              "    }\n",
              "\n",
              "    .dataframe thead th {\n",
              "        text-align: right;\n",
              "    }\n",
              "</style>\n",
              "<table border=\"1\" class=\"dataframe\">\n",
              "  <thead>\n",
              "    <tr style=\"text-align: right;\">\n",
              "      <th></th>\n",
              "      <th>job</th>\n",
              "      <th>marital</th>\n",
              "      <th>education</th>\n",
              "      <th>default</th>\n",
              "      <th>housing</th>\n",
              "      <th>loan</th>\n",
              "      <th>contact</th>\n",
              "      <th>month</th>\n",
              "      <th>day_of_week</th>\n",
              "      <th>poutcome</th>\n",
              "      <th>y</th>\n",
              "    </tr>\n",
              "  </thead>\n",
              "  <tbody>\n",
              "    <tr>\n",
              "      <th>count</th>\n",
              "      <td>36773</td>\n",
              "      <td>37000</td>\n",
              "      <td>35505</td>\n",
              "      <td>29296</td>\n",
              "      <td>36176</td>\n",
              "      <td>36176</td>\n",
              "      <td>37069</td>\n",
              "      <td>37069</td>\n",
              "      <td>37069</td>\n",
              "      <td>37069</td>\n",
              "      <td>37069</td>\n",
              "    </tr>\n",
              "    <tr>\n",
              "      <th>unique</th>\n",
              "      <td>11</td>\n",
              "      <td>3</td>\n",
              "      <td>7</td>\n",
              "      <td>2</td>\n",
              "      <td>2</td>\n",
              "      <td>2</td>\n",
              "      <td>2</td>\n",
              "      <td>10</td>\n",
              "      <td>5</td>\n",
              "      <td>3</td>\n",
              "      <td>2</td>\n",
              "    </tr>\n",
              "    <tr>\n",
              "      <th>top</th>\n",
              "      <td>admin.</td>\n",
              "      <td>married</td>\n",
              "      <td>university.degree</td>\n",
              "      <td>no</td>\n",
              "      <td>yes</td>\n",
              "      <td>no</td>\n",
              "      <td>cellular</td>\n",
              "      <td>may</td>\n",
              "      <td>thu</td>\n",
              "      <td>nonexistent</td>\n",
              "      <td>no</td>\n",
              "    </tr>\n",
              "    <tr>\n",
              "      <th>freq</th>\n",
              "      <td>9364</td>\n",
              "      <td>22424</td>\n",
              "      <td>10967</td>\n",
              "      <td>29293</td>\n",
              "      <td>19432</td>\n",
              "      <td>30518</td>\n",
              "      <td>23515</td>\n",
              "      <td>12424</td>\n",
              "      <td>7735</td>\n",
              "      <td>31989</td>\n",
              "      <td>32893</td>\n",
              "    </tr>\n",
              "  </tbody>\n",
              "</table>\n",
              "</div>"
            ],
            "text/plain": [
              "           job  marital          education  ... day_of_week     poutcome      y\n",
              "count    36773    37000              35505  ...       37069        37069  37069\n",
              "unique      11        3                  7  ...           5            3      2\n",
              "top     admin.  married  university.degree  ...         thu  nonexistent     no\n",
              "freq      9364    22424              10967  ...        7735        31989  32893\n",
              "\n",
              "[4 rows x 11 columns]"
            ]
          },
          "metadata": {
            "tags": []
          },
          "execution_count": 7
        }
      ]
    },
    {
      "cell_type": "code",
      "metadata": {
        "colab": {
          "base_uri": "https://localhost:8080/",
          "height": 334
        },
        "id": "dB9nGZN2Y4h2",
        "outputId": "01076775-aa37-46e1-a3ed-5625d85c2bc2"
      },
      "source": [
        "plt.figure(figsize=(15,5))\n",
        "sns.countplot(data=df, x='y', hue='marital')\n",
        "plt.ylabel('Contagem')\n",
        "plt.show()"
      ],
      "execution_count": 8,
      "outputs": [
        {
          "output_type": "display_data",
          "data": {
            "image/png": "[encoded data removed]",
            "text/plain": [
              "<Figure size 1080x360 with 1 Axes>"
            ]
          },
          "metadata": {
            "tags": [],
            "needs_background": "light"
          }
        }
      ]
    },
    {
      "cell_type": "code",
      "metadata": {
        "colab": {
          "base_uri": "https://localhost:8080/",
          "height": 334
        },
        "id": "jdAmboUwag5q",
        "outputId": "40e290ac-3800-4d18-e635-b51e8ef0e35f"
      },
      "source": [
        "plt.figure(figsize=(15,5))\n",
        "sns.barplot(data=df, x='marital', y='age', hue='y')\n",
        "plt.ylabel('Contagem')\n",
        "plt.show()"
      ],
      "execution_count": 9,
      "outputs": [
        {
          "output_type": "display_data",
          "data": {
            "image/png": "[encoded data removed]",
            "text/plain": [
              "<Figure size 1080x360 with 1 Axes>"
            ]
          },
          "metadata": {
            "tags": [],
            "needs_background": "light"
          }
        }
      ]
    },
    {
      "cell_type": "code",
      "metadata": {
        "colab": {
          "base_uri": "https://localhost:8080/",
          "height": 336
        },
        "id": "VK10N2zjZ013",
        "outputId": "d0234622-7cf5-46c2-98a4-efc839c6e101"
      },
      "source": [
        "plt.figure(figsize=(15,5))\n",
        "sns.countplot(data=df, x='education', hue='marital')\n",
        "plt.ylabel('Contagem')\n",
        "plt.show()"
      ],
      "execution_count": 10,
      "outputs": [
        {
          "output_type": "display_data",
          "data": {
            "image/png": "[encoded data removed]",
            "text/plain": [
              "<Figure size 1080x360 with 1 Axes>"
            ]
          },
          "metadata": {
            "tags": [],
            "needs_background": "light"
          }
        }
      ]
    },
    {
      "cell_type": "code",
      "metadata": {
        "colab": {
          "base_uri": "https://localhost:8080/",
          "height": 334
        },
        "id": "fuoGvOtSaOn8",
        "outputId": "717f65f7-4e72-4f22-a0cf-2f9fe7c06a4b"
      },
      "source": [
        "plt.figure(figsize=(15,5))\n",
        "sns.countplot(data=df, x='job', hue='education')\n",
        "plt.ylabel('Contagem')\n",
        "plt.show()"
      ],
      "execution_count": 11,
      "outputs": [
        {
          "output_type": "display_data",
          "data": {
            "image/png": "[encoded data removed]",
            "text/plain": [
              "<Figure size 1080x360 with 1 Axes>"
            ]
          },
          "metadata": {
            "tags": [],
            "needs_background": "light"
          }
        }
      ]
    },
    {
      "cell_type": "code",
      "metadata": {
        "colab": {
          "base_uri": "https://localhost:8080/",
          "height": 334
        },
        "id": "tB8DkT2acBe1",
        "outputId": "3107f55e-ea15-4af3-9026-8d428134dd87"
      },
      "source": [
        "plt.figure(figsize=(15,5))\n",
        "sns.countplot(data=df, x='job')\n",
        "plt.ylabel('Contagem')\n",
        "plt.show()"
      ],
      "execution_count": 12,
      "outputs": [
        {
          "output_type": "display_data",
          "data": {
            "image/png": "[encoded data removed]",
            "text/plain": [
              "<Figure size 1080x360 with 1 Axes>"
            ]
          },
          "metadata": {
            "tags": [],
            "needs_background": "light"
          }
        }
      ]
    },
    {
      "cell_type": "code",
      "metadata": {
        "colab": {
          "base_uri": "https://localhost:8080/",
          "height": 606
        },
        "id": "Fd5PGOJEcGlT",
        "outputId": "5bd84ebe-a178-4b34-f9be-820b04f5b654"
      },
      "source": [
        "plt.figure(figsize=(10,10))\n",
        "sns.barplot(data=df, x='marital', y='age', hue='y')\n",
        "plt.show()"
      ],
      "execution_count": 13,
      "outputs": [
        {
          "output_type": "display_data",
          "data": {
            "image/png": "[encoded data removed]",
            "text/plain": [
              "<Figure size 720x720 with 1 Axes>"
            ]
          },
          "metadata": {
            "tags": [],
            "needs_background": "light"
          }
        }
      ]
    },
    {
      "cell_type": "code",
      "metadata": {
        "colab": {
          "base_uri": "https://localhost:8080/",
          "height": 383
        },
        "id": "vrCvI_M-VnJF",
        "outputId": "b16469a3-647d-46de-ab0b-86027fb5adcd"
      },
      "source": [
        "sns.catplot(data=df, x='marital', y='age', hue='y')\n",
        "plt.show()"
      ],
      "execution_count": 14,
      "outputs": [
        {
          "output_type": "display_data",
          "data": {
            "image/png": "[encoded data removed]",
            "text/plain": [
              "<Figure size 413.25x360 with 1 Axes>"
            ]
          },
          "metadata": {
            "tags": [],
            "needs_background": "light"
          }
        }
      ]
    },
    {
      "cell_type": "code",
      "metadata": {
        "colab": {
          "base_uri": "https://localhost:8080/",
          "height": 383
        },
        "id": "pt0V6XL5f4OB",
        "outputId": "1581e821-587d-4a00-dbdd-726c600e62f3"
      },
      "source": [
        "sns.figsize=(20,10)\n",
        "sns.catplot(data=df, x='marital', y='age', hue='y', kind='box')\n",
        "plt.show()"
      ],
      "execution_count": 15,
      "outputs": [
        {
          "output_type": "display_data",
          "data": {
            "image/png": "[encoded data removed]",
            "text/plain": [
              "<Figure size 413.25x360 with 1 Axes>"
            ]
          },
          "metadata": {
            "tags": [],
            "needs_background": "light"
          }
        }
      ]
    },
    {
      "cell_type": "code",
      "metadata": {
        "colab": {
          "base_uri": "https://localhost:8080/",
          "height": 599
        },
        "id": "bUTWWUd3g_jL",
        "outputId": "5b4cf44f-ec02-4b04-d2fc-0c1813fd4284"
      },
      "source": [
        "sns.catplot(data=df, x='job', y='duration', hue='y', kind='box', aspect=8/6, height=8);"
      ],
      "execution_count": 16,
      "outputs": [
        {
          "output_type": "display_data",
          "data": {
            "image/png": "[encoded data removed]",
            "text/plain": [
              "<Figure size 821.25x576 with 1 Axes>"
            ]
          },
          "metadata": {
            "tags": [],
            "needs_background": "light"
          }
        }
      ]
    },
    {
      "cell_type": "code",
      "metadata": {
        "colab": {
          "base_uri": "https://localhost:8080/",
          "height": 599
        },
        "id": "lHiDaDiDjdWm",
        "outputId": "14f316d2-591d-4abc-e467-8557de2d13c4"
      },
      "source": [
        "sns.catplot(data=df, x='y', y='campaign', aspect=8/6, height=8);"
      ],
      "execution_count": 17,
      "outputs": [
        {
          "output_type": "display_data",
          "data": {
            "image/png": "[encoded data removed]",
            "text/plain": [
              "<Figure size 768x576 with 1 Axes>"
            ]
          },
          "metadata": {
            "tags": [],
            "needs_background": "light"
          }
        }
      ]
    },
    {
      "cell_type": "code",
      "metadata": {
        "colab": {
          "base_uri": "https://localhost:8080/",
          "height": 334
        },
        "id": "nyHdMQkEREtg",
        "outputId": "ed87b92d-ee97-4ef4-b442-7e3ab5c17f33"
      },
      "source": [
        "plt.figure(figsize=(15,5))\n",
        "sns.scatterplot(x='age', y='duration', data=df, hue='y')\n",
        "plt.show()"
      ],
      "execution_count": 18,
      "outputs": [
        {
          "output_type": "display_data",
          "data": {
            "image/png": "[encoded data removed]",
            "text/plain": [
              "<Figure size 1080x360 with 1 Axes>"
            ]
          },
          "metadata": {
            "tags": [],
            "needs_background": "light"
          }
        }
      ]
    },
    {
      "cell_type": "code",
      "metadata": {
        "colab": {
          "base_uri": "https://localhost:8080/",
          "height": 297
        },
        "id": "L_oXpOkGhokr",
        "outputId": "be469378-2bb4-4a04-df9f-c2fff18f7601"
      },
      "source": [
        "df[df.duration<=10].describe()"
      ],
      "execution_count": 19,
      "outputs": [
        {
          "output_type": "execute_result",
          "data": {
            "text/html": [
              "<div>\n",
              "<style scoped>\n",
              "    .dataframe tbody tr th:only-of-type {\n",
              "        vertical-align: middle;\n",
              "    }\n",
              "\n",
              "    .dataframe tbody tr th {\n",
              "        vertical-align: top;\n",
              "    }\n",
              "\n",
              "    .dataframe thead th {\n",
              "        text-align: right;\n",
              "    }\n",
              "</style>\n",
              "<table border=\"1\" class=\"dataframe\">\n",
              "  <thead>\n",
              "    <tr style=\"text-align: right;\">\n",
              "      <th></th>\n",
              "      <th>age</th>\n",
              "      <th>duration</th>\n",
              "      <th>campaign</th>\n",
              "      <th>pdays</th>\n",
              "      <th>previous</th>\n",
              "      <th>emp.var.rate</th>\n",
              "      <th>cons.price.idx</th>\n",
              "      <th>cons.conf.idx</th>\n",
              "      <th>euribor3m</th>\n",
              "      <th>nr.employed</th>\n",
              "    </tr>\n",
              "  </thead>\n",
              "  <tbody>\n",
              "    <tr>\n",
              "      <th>count</th>\n",
              "      <td>320.000000</td>\n",
              "      <td>320.000000</td>\n",
              "      <td>320.000000</td>\n",
              "      <td>320.000000</td>\n",
              "      <td>320.000000</td>\n",
              "      <td>320.000000</td>\n",
              "      <td>320.000000</td>\n",
              "      <td>320.000000</td>\n",
              "      <td>320.000000</td>\n",
              "      <td>320.000000</td>\n",
              "    </tr>\n",
              "    <tr>\n",
              "      <th>mean</th>\n",
              "      <td>38.906250</td>\n",
              "      <td>7.631250</td>\n",
              "      <td>5.893750</td>\n",
              "      <td>986.609375</td>\n",
              "      <td>0.146875</td>\n",
              "      <td>-0.416562</td>\n",
              "      <td>93.664813</td>\n",
              "      <td>-42.614063</td>\n",
              "      <td>2.791716</td>\n",
              "      <td>5127.720938</td>\n",
              "    </tr>\n",
              "    <tr>\n",
              "      <th>std</th>\n",
              "      <td>9.935716</td>\n",
              "      <td>2.066669</td>\n",
              "      <td>5.965519</td>\n",
              "      <td>110.304653</td>\n",
              "      <td>0.462028</td>\n",
              "      <td>1.449205</td>\n",
              "      <td>0.626104</td>\n",
              "      <td>3.739624</td>\n",
              "      <td>1.850787</td>\n",
              "      <td>92.926943</td>\n",
              "    </tr>\n",
              "    <tr>\n",
              "      <th>min</th>\n",
              "      <td>21.000000</td>\n",
              "      <td>0.000000</td>\n",
              "      <td>1.000000</td>\n",
              "      <td>0.000000</td>\n",
              "      <td>0.000000</td>\n",
              "      <td>-1.800000</td>\n",
              "      <td>92.893000</td>\n",
              "      <td>-49.500000</td>\n",
              "      <td>0.655000</td>\n",
              "      <td>4963.600000</td>\n",
              "    </tr>\n",
              "    <tr>\n",
              "      <th>25%</th>\n",
              "      <td>31.000000</td>\n",
              "      <td>6.750000</td>\n",
              "      <td>1.000000</td>\n",
              "      <td>999.000000</td>\n",
              "      <td>0.000000</td>\n",
              "      <td>-1.800000</td>\n",
              "      <td>92.893000</td>\n",
              "      <td>-46.200000</td>\n",
              "      <td>1.250000</td>\n",
              "      <td>5099.100000</td>\n",
              "    </tr>\n",
              "    <tr>\n",
              "      <th>50%</th>\n",
              "      <td>37.000000</td>\n",
              "      <td>8.000000</td>\n",
              "      <td>4.000000</td>\n",
              "      <td>999.000000</td>\n",
              "      <td>0.000000</td>\n",
              "      <td>-1.100000</td>\n",
              "      <td>93.918000</td>\n",
              "      <td>-42.000000</td>\n",
              "      <td>1.405000</td>\n",
              "      <td>5099.100000</td>\n",
              "    </tr>\n",
              "    <tr>\n",
              "      <th>75%</th>\n",
              "      <td>46.250000</td>\n",
              "      <td>9.000000</td>\n",
              "      <td>7.000000</td>\n",
              "      <td>999.000000</td>\n",
              "      <td>0.000000</td>\n",
              "      <td>1.400000</td>\n",
              "      <td>94.203000</td>\n",
              "      <td>-40.300000</td>\n",
              "      <td>4.959000</td>\n",
              "      <td>5228.100000</td>\n",
              "    </tr>\n",
              "    <tr>\n",
              "      <th>max</th>\n",
              "      <td>72.000000</td>\n",
              "      <td>10.000000</td>\n",
              "      <td>31.000000</td>\n",
              "      <td>999.000000</td>\n",
              "      <td>4.000000</td>\n",
              "      <td>1.400000</td>\n",
              "      <td>94.601000</td>\n",
              "      <td>-34.800000</td>\n",
              "      <td>4.968000</td>\n",
              "      <td>5228.100000</td>\n",
              "    </tr>\n",
              "  </tbody>\n",
              "</table>\n",
              "</div>"
            ],
            "text/plain": [
              "              age    duration  ...   euribor3m  nr.employed\n",
              "count  320.000000  320.000000  ...  320.000000   320.000000\n",
              "mean    38.906250    7.631250  ...    2.791716  5127.720938\n",
              "std      9.935716    2.066669  ...    1.850787    92.926943\n",
              "min     21.000000    0.000000  ...    0.655000  4963.600000\n",
              "25%     31.000000    6.750000  ...    1.250000  5099.100000\n",
              "50%     37.000000    8.000000  ...    1.405000  5099.100000\n",
              "75%     46.250000    9.000000  ...    4.959000  5228.100000\n",
              "max     72.000000   10.000000  ...    4.968000  5228.100000\n",
              "\n",
              "[8 rows x 10 columns]"
            ]
          },
          "metadata": {
            "tags": []
          },
          "execution_count": 19
        }
      ]
    },
    {
      "cell_type": "markdown",
      "metadata": {
        "id": "FPVLTTYQRXBI"
      },
      "source": [
        "# Modelando"
      ]
    },
    {
      "cell_type": "code",
      "metadata": {
        "id": "nb345GIeREx6"
      },
      "source": [
        "from sklearn.preprocessing import MinMaxScaler, StandardScaler\n",
        "from sklearn.model_selection import train_test_split\n",
        "from sklearn.ensemble import RandomForestClassifier\n",
        "from sklearn.naive_bayes import CategoricalNB\n",
        "from sklearn.neighbors import KNeighborsClassifier\n",
        "from sklearn.pipeline import make_pipeline\n",
        "from sklearn.model_selection import GridSearchCV\n",
        "from sklearn.externals import joblib\n",
        "from sklearn import metrics\n",
        "from sklearn.linear_model import LogisticRegression\n",
        "from sklearn.metrics import plot_confusion_matrix, classification_report ,accuracy_score\n",
        "from sklearn import svm \n",
        "from sklearn.metrics import classification_report\n",
        "from sklearn.naive_bayes import BernoulliNB\n",
        "from sklearn.metrics import classification_report\n",
        "from sklearn.naive_bayes import GaussianNB\n",
        "from sklearn.tree import DecisionTreeClassifier\n",
        "from sklearn.model_selection import cross_validate, StratifiedKFold, RepeatedStratifiedKFold"
      ],
      "execution_count": 88,
      "outputs": []
    },
    {
      "cell_type": "code",
      "metadata": {
        "id": "dbw6vcuwTo09"
      },
      "source": [
        "#Transforma as categorias em números\n",
        "for c in df.columns[df.dtypes == object]: # df.dtypes == 'object'\n",
        "    df[c] = df[c].astype('category')"
      ],
      "execution_count": 21,
      "outputs": []
    },
    {
      "cell_type": "code",
      "metadata": {
        "colab": {
          "base_uri": "https://localhost:8080/"
        },
        "id": "-zYb_ji_qjul",
        "outputId": "a47bdaa6-6077-4cb9-fa9a-078b90bb27d2"
      },
      "source": [
        "df.info()"
      ],
      "execution_count": 22,
      "outputs": [
        {
          "output_type": "stream",
          "text": [
            "<class 'pandas.core.frame.DataFrame'>\n",
            "Int64Index: 37069 entries, 0 to 37068\n",
            "Data columns (total 21 columns):\n",
            " #   Column          Non-Null Count  Dtype   \n",
            "---  ------          --------------  -----   \n",
            " 0   age             37069 non-null  int64   \n",
            " 1   job             36773 non-null  category\n",
            " 2   marital         37000 non-null  category\n",
            " 3   education       35505 non-null  category\n",
            " 4   default         29296 non-null  category\n",
            " 5   housing         36176 non-null  category\n",
            " 6   loan            36176 non-null  category\n",
            " 7   contact         37069 non-null  category\n",
            " 8   month           37069 non-null  category\n",
            " 9   day_of_week     37069 non-null  category\n",
            " 10  duration        37069 non-null  int64   \n",
            " 11  campaign        37069 non-null  int64   \n",
            " 12  pdays           37069 non-null  int64   \n",
            " 13  previous        37069 non-null  int64   \n",
            " 14  poutcome        37069 non-null  category\n",
            " 15  emp.var.rate    37069 non-null  float64 \n",
            " 16  cons.price.idx  37069 non-null  float64 \n",
            " 17  cons.conf.idx   37069 non-null  float64 \n",
            " 18  euribor3m       37069 non-null  float64 \n",
            " 19  nr.employed     37069 non-null  float64 \n",
            " 20  y               37069 non-null  category\n",
            "dtypes: category(11), float64(5), int64(5)\n",
            "memory usage: 4.8 MB\n"
          ],
          "name": "stdout"
        }
      ]
    },
    {
      "cell_type": "code",
      "metadata": {
        "colab": {
          "base_uri": "https://localhost:8080/"
        },
        "id": "5a5tjLbEquwD",
        "outputId": "20c950c8-23b4-4eb3-81fa-d2eb327ffd1d"
      },
      "source": [
        "df.job"
      ],
      "execution_count": 23,
      "outputs": [
        {
          "output_type": "execute_result",
          "data": {
            "text/plain": [
              "id\n",
              "0         technician\n",
              "1         management\n",
              "2        blue-collar\n",
              "3        blue-collar\n",
              "4          housemaid\n",
              "            ...     \n",
              "37064       services\n",
              "37065     technician\n",
              "37066         admin.\n",
              "37067         admin.\n",
              "37068         admin.\n",
              "Name: job, Length: 37069, dtype: category\n",
              "Categories (11, object): ['admin.', 'blue-collar', 'entrepreneur', 'housemaid', ..., 'services',\n",
              "                          'student', 'technician', 'unemployed']"
            ]
          },
          "metadata": {
            "tags": []
          },
          "execution_count": 23
        }
      ]
    },
    {
      "cell_type": "code",
      "metadata": {
        "colab": {
          "base_uri": "https://localhost:8080/"
        },
        "id": "LGZnPfLOrQ5R",
        "outputId": "e16d3e0a-332c-4ebe-88ab-35121235be1d"
      },
      "source": [
        "df.job.cat.categories"
      ],
      "execution_count": 24,
      "outputs": [
        {
          "output_type": "execute_result",
          "data": {
            "text/plain": [
              "Index(['admin.', 'blue-collar', 'entrepreneur', 'housemaid', 'management',\n",
              "       'retired', 'self-employed', 'services', 'student', 'technician',\n",
              "       'unemployed'],\n",
              "      dtype='object')"
            ]
          },
          "metadata": {
            "tags": []
          },
          "execution_count": 24
        }
      ]
    },
    {
      "cell_type": "code",
      "metadata": {
        "colab": {
          "base_uri": "https://localhost:8080/"
        },
        "id": "gQOY_mAjrgRc",
        "outputId": "6c576ea8-e985-4b8a-fe7b-250223c21d61"
      },
      "source": [
        "df.job.cat.codes"
      ],
      "execution_count": 25,
      "outputs": [
        {
          "output_type": "execute_result",
          "data": {
            "text/plain": [
              "id\n",
              "0        9\n",
              "1        4\n",
              "2        1\n",
              "3        1\n",
              "4        3\n",
              "        ..\n",
              "37064    7\n",
              "37065    9\n",
              "37066    0\n",
              "37067    0\n",
              "37068    0\n",
              "Length: 37069, dtype: int8"
            ]
          },
          "metadata": {
            "tags": []
          },
          "execution_count": 25
        }
      ]
    },
    {
      "cell_type": "code",
      "metadata": {
        "colab": {
          "base_uri": "https://localhost:8080/"
        },
        "id": "6IbJ6Lkfr9oJ",
        "outputId": "7e28ae41-8c5b-43a7-abf3-edff7c5ecbcd"
      },
      "source": [
        "df.education.cat.categories"
      ],
      "execution_count": 26,
      "outputs": [
        {
          "output_type": "execute_result",
          "data": {
            "text/plain": [
              "Index(['basic.4y', 'basic.6y', 'basic.9y', 'high.school', 'illiterate',\n",
              "       'professional.course', 'university.degree'],\n",
              "      dtype='object')"
            ]
          },
          "metadata": {
            "tags": []
          },
          "execution_count": 26
        }
      ]
    },
    {
      "cell_type": "code",
      "metadata": {
        "id": "wGfsSyzMsKEt"
      },
      "source": [
        "df.education.cat.reorder_categories(['illiterate', 'basic.4y', 'basic.6y', 'basic.9y', \n",
        "                             'high.school','professional.course', \n",
        "                             'university.degree'], ordered=True, inplace=True)"
      ],
      "execution_count": 27,
      "outputs": []
    },
    {
      "cell_type": "code",
      "metadata": {
        "colab": {
          "base_uri": "https://localhost:8080/",
          "height": 255
        },
        "id": "ZBLKWjm_tKrD",
        "outputId": "08c25b10-13bc-47d0-cec0-d33cae8b52bf"
      },
      "source": [
        "df.head()"
      ],
      "execution_count": 28,
      "outputs": [
        {
          "output_type": "execute_result",
          "data": {
            "text/html": [
              "<div>\n",
              "<style scoped>\n",
              "    .dataframe tbody tr th:only-of-type {\n",
              "        vertical-align: middle;\n",
              "    }\n",
              "\n",
              "    .dataframe tbody tr th {\n",
              "        vertical-align: top;\n",
              "    }\n",
              "\n",
              "    .dataframe thead th {\n",
              "        text-align: right;\n",
              "    }\n",
              "</style>\n",
              "<table border=\"1\" class=\"dataframe\">\n",
              "  <thead>\n",
              "    <tr style=\"text-align: right;\">\n",
              "      <th></th>\n",
              "      <th>age</th>\n",
              "      <th>job</th>\n",
              "      <th>marital</th>\n",
              "      <th>education</th>\n",
              "      <th>default</th>\n",
              "      <th>housing</th>\n",
              "      <th>loan</th>\n",
              "      <th>contact</th>\n",
              "      <th>month</th>\n",
              "      <th>day_of_week</th>\n",
              "      <th>duration</th>\n",
              "      <th>campaign</th>\n",
              "      <th>pdays</th>\n",
              "      <th>previous</th>\n",
              "      <th>poutcome</th>\n",
              "      <th>emp.var.rate</th>\n",
              "      <th>cons.price.idx</th>\n",
              "      <th>cons.conf.idx</th>\n",
              "      <th>euribor3m</th>\n",
              "      <th>nr.employed</th>\n",
              "      <th>y</th>\n",
              "    </tr>\n",
              "    <tr>\n",
              "      <th>id</th>\n",
              "      <th></th>\n",
              "      <th></th>\n",
              "      <th></th>\n",
              "      <th></th>\n",
              "      <th></th>\n",
              "      <th></th>\n",
              "      <th></th>\n",
              "      <th></th>\n",
              "      <th></th>\n",
              "      <th></th>\n",
              "      <th></th>\n",
              "      <th></th>\n",
              "      <th></th>\n",
              "      <th></th>\n",
              "      <th></th>\n",
              "      <th></th>\n",
              "      <th></th>\n",
              "      <th></th>\n",
              "      <th></th>\n",
              "      <th></th>\n",
              "      <th></th>\n",
              "    </tr>\n",
              "  </thead>\n",
              "  <tbody>\n",
              "    <tr>\n",
              "      <th>0</th>\n",
              "      <td>52</td>\n",
              "      <td>technician</td>\n",
              "      <td>divorced</td>\n",
              "      <td>professional.course</td>\n",
              "      <td>NaN</td>\n",
              "      <td>yes</td>\n",
              "      <td>no</td>\n",
              "      <td>telephone</td>\n",
              "      <td>jun</td>\n",
              "      <td>mon</td>\n",
              "      <td>56</td>\n",
              "      <td>8</td>\n",
              "      <td>999</td>\n",
              "      <td>0</td>\n",
              "      <td>nonexistent</td>\n",
              "      <td>1.4</td>\n",
              "      <td>94.465</td>\n",
              "      <td>-41.8</td>\n",
              "      <td>4.865</td>\n",
              "      <td>5228.1</td>\n",
              "      <td>no</td>\n",
              "    </tr>\n",
              "    <tr>\n",
              "      <th>1</th>\n",
              "      <td>36</td>\n",
              "      <td>management</td>\n",
              "      <td>married</td>\n",
              "      <td>university.degree</td>\n",
              "      <td>no</td>\n",
              "      <td>yes</td>\n",
              "      <td>no</td>\n",
              "      <td>cellular</td>\n",
              "      <td>nov</td>\n",
              "      <td>tue</td>\n",
              "      <td>267</td>\n",
              "      <td>2</td>\n",
              "      <td>999</td>\n",
              "      <td>0</td>\n",
              "      <td>nonexistent</td>\n",
              "      <td>-0.1</td>\n",
              "      <td>93.200</td>\n",
              "      <td>-42.0</td>\n",
              "      <td>4.153</td>\n",
              "      <td>5195.8</td>\n",
              "      <td>no</td>\n",
              "    </tr>\n",
              "    <tr>\n",
              "      <th>2</th>\n",
              "      <td>53</td>\n",
              "      <td>blue-collar</td>\n",
              "      <td>married</td>\n",
              "      <td>high.school</td>\n",
              "      <td>no</td>\n",
              "      <td>yes</td>\n",
              "      <td>yes</td>\n",
              "      <td>cellular</td>\n",
              "      <td>jul</td>\n",
              "      <td>mon</td>\n",
              "      <td>243</td>\n",
              "      <td>2</td>\n",
              "      <td>999</td>\n",
              "      <td>0</td>\n",
              "      <td>nonexistent</td>\n",
              "      <td>1.4</td>\n",
              "      <td>93.918</td>\n",
              "      <td>-42.7</td>\n",
              "      <td>4.962</td>\n",
              "      <td>5228.1</td>\n",
              "      <td>no</td>\n",
              "    </tr>\n",
              "    <tr>\n",
              "      <th>3</th>\n",
              "      <td>45</td>\n",
              "      <td>blue-collar</td>\n",
              "      <td>single</td>\n",
              "      <td>basic.9y</td>\n",
              "      <td>no</td>\n",
              "      <td>yes</td>\n",
              "      <td>no</td>\n",
              "      <td>cellular</td>\n",
              "      <td>aug</td>\n",
              "      <td>wed</td>\n",
              "      <td>249</td>\n",
              "      <td>1</td>\n",
              "      <td>4</td>\n",
              "      <td>1</td>\n",
              "      <td>success</td>\n",
              "      <td>-2.9</td>\n",
              "      <td>92.201</td>\n",
              "      <td>-31.4</td>\n",
              "      <td>0.879</td>\n",
              "      <td>5076.2</td>\n",
              "      <td>no</td>\n",
              "    </tr>\n",
              "    <tr>\n",
              "      <th>4</th>\n",
              "      <td>60</td>\n",
              "      <td>housemaid</td>\n",
              "      <td>married</td>\n",
              "      <td>high.school</td>\n",
              "      <td>NaN</td>\n",
              "      <td>yes</td>\n",
              "      <td>no</td>\n",
              "      <td>telephone</td>\n",
              "      <td>may</td>\n",
              "      <td>wed</td>\n",
              "      <td>74</td>\n",
              "      <td>1</td>\n",
              "      <td>999</td>\n",
              "      <td>0</td>\n",
              "      <td>nonexistent</td>\n",
              "      <td>1.1</td>\n",
              "      <td>93.994</td>\n",
              "      <td>-36.4</td>\n",
              "      <td>4.858</td>\n",
              "      <td>5191.0</td>\n",
              "      <td>no</td>\n",
              "    </tr>\n",
              "  </tbody>\n",
              "</table>\n",
              "</div>"
            ],
            "text/plain": [
              "    age          job   marital  ... euribor3m nr.employed   y\n",
              "id                              ...                          \n",
              "0    52   technician  divorced  ...     4.865      5228.1  no\n",
              "1    36   management   married  ...     4.153      5195.8  no\n",
              "2    53  blue-collar   married  ...     4.962      5228.1  no\n",
              "3    45  blue-collar    single  ...     0.879      5076.2  no\n",
              "4    60    housemaid   married  ...     4.858      5191.0  no\n",
              "\n",
              "[5 rows x 21 columns]"
            ]
          },
          "metadata": {
            "tags": []
          },
          "execution_count": 28
        }
      ]
    },
    {
      "cell_type": "code",
      "metadata": {
        "id": "tEffykX1theC"
      },
      "source": [
        "#Transforma as categorias em números\n",
        "for c in df.columns[df.dtypes == 'category']: # df.dtypes == 'category'\n",
        "    df[c] = df[c].cat.codes"
      ],
      "execution_count": 29,
      "outputs": []
    },
    {
      "cell_type": "code",
      "metadata": {
        "id": "sHSh390Ep3Qa"
      },
      "source": [
        "#Separa os labels do conjunto de parâmetros\n",
        "y = df.y\n",
        "X = df.drop('y', axis=1)"
      ],
      "execution_count": 30,
      "outputs": []
    },
    {
      "cell_type": "code",
      "metadata": {
        "id": "YztzDaeyxX3z"
      },
      "source": [
        "x_train, x_test, y_train, y_test = train_test_split(X, y, test_size=0.15, random_state=42, shuffle=True, stratify=y)"
      ],
      "execution_count": 119,
      "outputs": []
    },
    {
      "cell_type": "code",
      "metadata": {
        "colab": {
          "base_uri": "https://localhost:8080/"
        },
        "id": "G1dzYj3yzS41",
        "outputId": "de9997de-ad6e-4406-e470-1bb7b83bd3e1"
      },
      "source": [
        "x_train.shape, x_test.shape, y_train.shape, y_test.shape"
      ],
      "execution_count": 120,
      "outputs": [
        {
          "output_type": "execute_result",
          "data": {
            "text/plain": [
              "((31508, 20), (5561, 20), (31508,), (5561,))"
            ]
          },
          "metadata": {
            "tags": []
          },
          "execution_count": 120
        }
      ]
    },
    {
      "cell_type": "code",
      "metadata": {
        "colab": {
          "base_uri": "https://localhost:8080/"
        },
        "id": "lCagaRD6z0i3",
        "outputId": "f7980e5c-4def-440b-d92b-a43baece7ca1"
      },
      "source": [
        "# verificando a divisão\n",
        "sum(y_train)/len(y_train), sum(y_test)/len(y_test)"
      ],
      "execution_count": 121,
      "outputs": [
        {
          "output_type": "execute_result",
          "data": {
            "text/plain": [
              "(0.11266979814650248, 0.11256968171192232)"
            ]
          },
          "metadata": {
            "tags": []
          },
          "execution_count": 121
        }
      ]
    },
    {
      "cell_type": "code",
      "metadata": {
        "id": "eO1W9DlY1W6F"
      },
      "source": [
        "# Normalizar os dados\n",
        "scaler = MinMaxScaler()\n",
        "x_norm = scaler.fit_transform(X)"
      ],
      "execution_count": 122,
      "outputs": []
    },
    {
      "cell_type": "code",
      "metadata": {
        "id": "hMivSqUR2JW9"
      },
      "source": [
        "df2 = pd.DataFrame(x_norm, columns=df.columns.drop('y'))"
      ],
      "execution_count": 123,
      "outputs": []
    },
    {
      "cell_type": "code",
      "metadata": {
        "colab": {
          "base_uri": "https://localhost:8080/",
          "height": 224
        },
        "id": "iez_rL602Sw8",
        "outputId": "a8e713cc-e988-4dc8-ac34-0d53c1392d2d"
      },
      "source": [
        "df2.head()"
      ],
      "execution_count": 124,
      "outputs": [
        {
          "output_type": "execute_result",
          "data": {
            "text/html": [
              "<div>\n",
              "<style scoped>\n",
              "    .dataframe tbody tr th:only-of-type {\n",
              "        vertical-align: middle;\n",
              "    }\n",
              "\n",
              "    .dataframe tbody tr th {\n",
              "        vertical-align: top;\n",
              "    }\n",
              "\n",
              "    .dataframe thead th {\n",
              "        text-align: right;\n",
              "    }\n",
              "</style>\n",
              "<table border=\"1\" class=\"dataframe\">\n",
              "  <thead>\n",
              "    <tr style=\"text-align: right;\">\n",
              "      <th></th>\n",
              "      <th>age</th>\n",
              "      <th>job</th>\n",
              "      <th>marital</th>\n",
              "      <th>education</th>\n",
              "      <th>default</th>\n",
              "      <th>housing</th>\n",
              "      <th>loan</th>\n",
              "      <th>contact</th>\n",
              "      <th>month</th>\n",
              "      <th>day_of_week</th>\n",
              "      <th>duration</th>\n",
              "      <th>campaign</th>\n",
              "      <th>pdays</th>\n",
              "      <th>previous</th>\n",
              "      <th>poutcome</th>\n",
              "      <th>emp.var.rate</th>\n",
              "      <th>cons.price.idx</th>\n",
              "      <th>cons.conf.idx</th>\n",
              "      <th>euribor3m</th>\n",
              "      <th>nr.employed</th>\n",
              "    </tr>\n",
              "  </thead>\n",
              "  <tbody>\n",
              "    <tr>\n",
              "      <th>0</th>\n",
              "      <td>0.432099</td>\n",
              "      <td>0.909091</td>\n",
              "      <td>0.333333</td>\n",
              "      <td>0.857143</td>\n",
              "      <td>0.0</td>\n",
              "      <td>1.0</td>\n",
              "      <td>0.5</td>\n",
              "      <td>1.0</td>\n",
              "      <td>0.444444</td>\n",
              "      <td>0.25</td>\n",
              "      <td>0.011387</td>\n",
              "      <td>0.127273</td>\n",
              "      <td>1.000000</td>\n",
              "      <td>0.000000</td>\n",
              "      <td>0.5</td>\n",
              "      <td>1.000000</td>\n",
              "      <td>0.882307</td>\n",
              "      <td>0.376569</td>\n",
              "      <td>0.959193</td>\n",
              "      <td>1.000000</td>\n",
              "    </tr>\n",
              "    <tr>\n",
              "      <th>1</th>\n",
              "      <td>0.234568</td>\n",
              "      <td>0.454545</td>\n",
              "      <td>0.666667</td>\n",
              "      <td>1.000000</td>\n",
              "      <td>0.5</td>\n",
              "      <td>1.0</td>\n",
              "      <td>0.5</td>\n",
              "      <td>0.0</td>\n",
              "      <td>0.777778</td>\n",
              "      <td>0.75</td>\n",
              "      <td>0.054290</td>\n",
              "      <td>0.018182</td>\n",
              "      <td>1.000000</td>\n",
              "      <td>0.000000</td>\n",
              "      <td>0.5</td>\n",
              "      <td>0.687500</td>\n",
              "      <td>0.389322</td>\n",
              "      <td>0.368201</td>\n",
              "      <td>0.797778</td>\n",
              "      <td>0.877883</td>\n",
              "    </tr>\n",
              "    <tr>\n",
              "      <th>2</th>\n",
              "      <td>0.444444</td>\n",
              "      <td>0.181818</td>\n",
              "      <td>0.666667</td>\n",
              "      <td>0.714286</td>\n",
              "      <td>0.5</td>\n",
              "      <td>1.0</td>\n",
              "      <td>1.0</td>\n",
              "      <td>0.0</td>\n",
              "      <td>0.333333</td>\n",
              "      <td>0.25</td>\n",
              "      <td>0.049410</td>\n",
              "      <td>0.018182</td>\n",
              "      <td>1.000000</td>\n",
              "      <td>0.000000</td>\n",
              "      <td>0.5</td>\n",
              "      <td>1.000000</td>\n",
              "      <td>0.669135</td>\n",
              "      <td>0.338912</td>\n",
              "      <td>0.981183</td>\n",
              "      <td>1.000000</td>\n",
              "    </tr>\n",
              "    <tr>\n",
              "      <th>3</th>\n",
              "      <td>0.345679</td>\n",
              "      <td>0.181818</td>\n",
              "      <td>1.000000</td>\n",
              "      <td>0.571429</td>\n",
              "      <td>0.5</td>\n",
              "      <td>1.0</td>\n",
              "      <td>0.5</td>\n",
              "      <td>0.0</td>\n",
              "      <td>0.111111</td>\n",
              "      <td>1.00</td>\n",
              "      <td>0.050630</td>\n",
              "      <td>0.000000</td>\n",
              "      <td>0.004004</td>\n",
              "      <td>0.142857</td>\n",
              "      <td>1.0</td>\n",
              "      <td>0.104167</td>\n",
              "      <td>0.000000</td>\n",
              "      <td>0.811715</td>\n",
              "      <td>0.055543</td>\n",
              "      <td>0.425709</td>\n",
              "    </tr>\n",
              "    <tr>\n",
              "      <th>4</th>\n",
              "      <td>0.530864</td>\n",
              "      <td>0.363636</td>\n",
              "      <td>0.666667</td>\n",
              "      <td>0.714286</td>\n",
              "      <td>0.0</td>\n",
              "      <td>1.0</td>\n",
              "      <td>0.5</td>\n",
              "      <td>1.0</td>\n",
              "      <td>0.666667</td>\n",
              "      <td>1.00</td>\n",
              "      <td>0.015047</td>\n",
              "      <td>0.000000</td>\n",
              "      <td>1.000000</td>\n",
              "      <td>0.000000</td>\n",
              "      <td>0.5</td>\n",
              "      <td>0.937500</td>\n",
              "      <td>0.698753</td>\n",
              "      <td>0.602510</td>\n",
              "      <td>0.957606</td>\n",
              "      <td>0.859735</td>\n",
              "    </tr>\n",
              "  </tbody>\n",
              "</table>\n",
              "</div>"
            ],
            "text/plain": [
              "        age       job   marital  ...  cons.conf.idx  euribor3m  nr.employed\n",
              "0  0.432099  0.909091  0.333333  ...       0.376569   0.959193     1.000000\n",
              "1  0.234568  0.454545  0.666667  ...       0.368201   0.797778     0.877883\n",
              "2  0.444444  0.181818  0.666667  ...       0.338912   0.981183     1.000000\n",
              "3  0.345679  0.181818  1.000000  ...       0.811715   0.055543     0.425709\n",
              "4  0.530864  0.363636  0.666667  ...       0.602510   0.957606     0.859735\n",
              "\n",
              "[5 rows x 20 columns]"
            ]
          },
          "metadata": {
            "tags": []
          },
          "execution_count": 124
        }
      ]
    },
    {
      "cell_type": "code",
      "metadata": {
        "id": "COXnaZ44cDSz"
      },
      "source": [
        "x_train, x_test, y_train, y_test = train_test_split(df2, y, test_size=0.15, random_state=42, shuffle=True, stratify=y)"
      ],
      "execution_count": 125,
      "outputs": []
    },
    {
      "cell_type": "code",
      "metadata": {
        "colab": {
          "base_uri": "https://localhost:8080/"
        },
        "id": "aFlWNTJ-2l3A",
        "outputId": "3066137b-3e41-47e0-9b52-02d229aae837"
      },
      "source": [
        "knn_class = KNeighborsClassifier()\n",
        "knn_class.fit(x_train, y_train)"
      ],
      "execution_count": 38,
      "outputs": [
        {
          "output_type": "execute_result",
          "data": {
            "text/plain": [
              "KNeighborsClassifier(algorithm='auto', leaf_size=30, metric='minkowski',\n",
              "                     metric_params=None, n_jobs=None, n_neighbors=5, p=2,\n",
              "                     weights='uniform')"
            ]
          },
          "metadata": {
            "tags": []
          },
          "execution_count": 38
        }
      ]
    },
    {
      "cell_type": "code",
      "metadata": {
        "id": "ak2VFAiJ3EDK"
      },
      "source": [
        "y_pred = knn_class.predict(x_test)"
      ],
      "execution_count": 39,
      "outputs": []
    },
    {
      "cell_type": "code",
      "metadata": {
        "colab": {
          "base_uri": "https://localhost:8080/"
        },
        "id": "9thMGX6h3cgu",
        "outputId": "6cb06c3c-8416-4944-d9ca-95dc3d752e58"
      },
      "source": [
        "print(accuracy_score(y_test,y_pred))\n",
        "print(metrics.classification_report(y_test,y_pred))"
      ],
      "execution_count": 40,
      "outputs": [
        {
          "output_type": "stream",
          "text": [
            "0.896601330695918\n",
            "              precision    recall  f1-score   support\n",
            "\n",
            "           0       0.92      0.97      0.94      4935\n",
            "           1       0.58      0.30      0.40       626\n",
            "\n",
            "    accuracy                           0.90      5561\n",
            "   macro avg       0.75      0.64      0.67      5561\n",
            "weighted avg       0.88      0.90      0.88      5561\n",
            "\n"
          ],
          "name": "stdout"
        }
      ]
    },
    {
      "cell_type": "code",
      "metadata": {
        "colab": {
          "base_uri": "https://localhost:8080/"
        },
        "id": "lqtPlRDY91jZ",
        "outputId": "82b4b2e0-4551-4549-cd2c-f26ec178a3ab"
      },
      "source": [
        "# Randon Forest\n",
        "Randon_forest_class = RandomForestClassifier()\n",
        "Randon_forest_class.fit(x_train, y_train)\n",
        "y_pred_rf = Randon_forest_class.predict(x_test)\n",
        "print(accuracy_score(y_test, y_pred_rf))\n",
        "print(metrics.classification_report(y_test,y_pred_rf))"
      ],
      "execution_count": 128,
      "outputs": [
        {
          "output_type": "stream",
          "text": [
            "0.9142240604207876\n",
            "              precision    recall  f1-score   support\n",
            "\n",
            "           0       0.94      0.96      0.95      4935\n",
            "           1       0.65      0.52      0.58       626\n",
            "\n",
            "    accuracy                           0.91      5561\n",
            "   macro avg       0.79      0.74      0.77      5561\n",
            "weighted avg       0.91      0.91      0.91      5561\n",
            "\n"
          ],
          "name": "stdout"
        }
      ]
    },
    {
      "cell_type": "code",
      "metadata": {
        "colab": {
          "base_uri": "https://localhost:8080/"
        },
        "id": "7KiwwCfg_GSP",
        "outputId": "16e53c5d-760a-4520-f209-373ab81b616e"
      },
      "source": [
        "# Naive Bayes\n",
        "naives_bayes_class = CategoricalNB()\n",
        "naives_bayes_class.fit(x_train, y_train)\n",
        "y_pred_nb = naives_bayes_class.predict(x_test)\n",
        "print(accuracy_score(y_test, y_pred_nb))\n",
        "print(metrics.classification_report(y_test,y_pred_nb))"
      ],
      "execution_count": 129,
      "outputs": [
        {
          "output_type": "stream",
          "text": [
            "0.8955223880597015\n",
            "              precision    recall  f1-score   support\n",
            "\n",
            "           0       0.91      0.97      0.94      4935\n",
            "           1       0.57      0.29      0.38       626\n",
            "\n",
            "    accuracy                           0.90      5561\n",
            "   macro avg       0.74      0.63      0.66      5561\n",
            "weighted avg       0.88      0.90      0.88      5561\n",
            "\n"
          ],
          "name": "stdout"
        }
      ]
    },
    {
      "cell_type": "code",
      "metadata": {
        "colab": {
          "base_uri": "https://localhost:8080/"
        },
        "id": "tIQNjtiifWKs",
        "outputId": "9c24602d-0db7-463d-bd39-884f7d397569"
      },
      "source": [
        "modelo_gaussiannb = GaussianNB()\n",
        "\n",
        "modelo_gaussiannb.fit(x_train, y_train)\n",
        "predicao_gaussiannb = modelo_gaussiannb.predict(x_test)\n",
        "print(accuracy_score(y_test, predicao_gaussiannb))\n",
        "print(metrics.classification_report(y_test,predicao_gaussiannb))"
      ],
      "execution_count": 43,
      "outputs": [
        {
          "output_type": "stream",
          "text": [
            "0.8460708505664449\n",
            "              precision    recall  f1-score   support\n",
            "\n",
            "           0       0.95      0.88      0.91      4935\n",
            "           1       0.38      0.61      0.47       626\n",
            "\n",
            "    accuracy                           0.85      5561\n",
            "   macro avg       0.67      0.74      0.69      5561\n",
            "weighted avg       0.88      0.85      0.86      5561\n",
            "\n"
          ],
          "name": "stdout"
        }
      ]
    },
    {
      "cell_type": "code",
      "metadata": {
        "colab": {
          "base_uri": "https://localhost:8080/"
        },
        "id": "hS_TlOw8FYlg",
        "outputId": "5abb4674-740b-4377-9f00-bba13a223631"
      },
      "source": [
        "modelo_bernoullinb = BernoulliNB()\n",
        "\n",
        "modelo_bernoullinb.fit(x_train, y_train)\n",
        "predicao_bernoullinb = modelo_bernoullinb.predict(x_test)\n",
        "print(accuracy_score(y_test, predicao_bernoullinb))\n",
        "print(metrics.classification_report(y_test,predicao_bernoullinb))"
      ],
      "execution_count": 44,
      "outputs": [
        {
          "output_type": "stream",
          "text": [
            "0.8786189534256429\n",
            "              precision    recall  f1-score   support\n",
            "\n",
            "           0       0.90      0.97      0.93      4935\n",
            "           1       0.40      0.16      0.23       626\n",
            "\n",
            "    accuracy                           0.88      5561\n",
            "   macro avg       0.65      0.56      0.58      5561\n",
            "weighted avg       0.84      0.88      0.85      5561\n",
            "\n"
          ],
          "name": "stdout"
        }
      ]
    },
    {
      "cell_type": "code",
      "metadata": {
        "colab": {
          "base_uri": "https://localhost:8080/"
        },
        "id": "ZmkYSBLSFgoZ",
        "outputId": "68ee5d43-b533-49fb-dc49-ca03ae919d89"
      },
      "source": [
        "modelo_arvore = DecisionTreeClassifier(max_depth=5)\n",
        "\n",
        "modelo_arvore.fit(x_train, y_train)\n",
        "predicao_arvore = modelo_arvore.predict(x_test)\n",
        "print(accuracy_score(y_test, predicao_arvore))\n",
        "print(metrics.classification_report(y_test,predicao_arvore))"
      ],
      "execution_count": 46,
      "outputs": [
        {
          "output_type": "stream",
          "text": [
            "0.9149433555115987\n",
            "              precision    recall  f1-score   support\n",
            "\n",
            "           0       0.94      0.97      0.95      4935\n",
            "           1       0.66      0.51      0.58       626\n",
            "\n",
            "    accuracy                           0.91      5561\n",
            "   macro avg       0.80      0.74      0.76      5561\n",
            "weighted avg       0.91      0.91      0.91      5561\n",
            "\n"
          ],
          "name": "stdout"
        }
      ]
    },
    {
      "cell_type": "code",
      "metadata": {
        "colab": {
          "base_uri": "https://localhost:8080/"
        },
        "id": "pt5M2lQ6F-jY",
        "outputId": "2d1e03fe-0a37-43c5-eaf4-0bfaeea99f28"
      },
      "source": [
        "modelo = LogisticRegression(max_iter=10000)\n",
        "modelo.fit(x_train, y_train)\n",
        "\n",
        "predicao_regressao_logistica = modelo.predict(x_test)\n",
        "print(accuracy_score(y_test, predicao_regressao_logistica))\n",
        "print(metrics.classification_report(y_test, predicao_regressao_logistica))"
      ],
      "execution_count": 47,
      "outputs": [
        {
          "output_type": "stream",
          "text": [
            "0.9135047653299766\n",
            "              precision    recall  f1-score   support\n",
            "\n",
            "           0       0.93      0.98      0.95      4935\n",
            "           1       0.71      0.39      0.51       626\n",
            "\n",
            "    accuracy                           0.91      5561\n",
            "   macro avg       0.82      0.69      0.73      5561\n",
            "weighted avg       0.90      0.91      0.90      5561\n",
            "\n"
          ],
          "name": "stdout"
        }
      ]
    },
    {
      "cell_type": "code",
      "metadata": {
        "colab": {
          "base_uri": "https://localhost:8080/"
        },
        "id": "X3YhmMqdHUIw",
        "outputId": "ca3cefde-a08b-49c1-875e-fc84f63f7c9b"
      },
      "source": [
        "modelo_random_forest = RandomForestClassifier(n_jobs=10, n_estimators=1000, max_depth=30)\n",
        "\n",
        "modelo_random_forest.fit(x_train, y_train)\n",
        "predicao_random_forest = modelo_random_forest.predict(x_test)\n",
        "print(accuracy_score(y_test, predicao_random_forest))\n",
        "print(metrics.classification_report(y_test, predicao_random_forest))"
      ],
      "execution_count": 48,
      "outputs": [
        {
          "output_type": "stream",
          "text": [
            "0.9126056464664629\n",
            "              precision    recall  f1-score   support\n",
            "\n",
            "           0       0.94      0.96      0.95      4935\n",
            "           1       0.64      0.52      0.57       626\n",
            "\n",
            "    accuracy                           0.91      5561\n",
            "   macro avg       0.79      0.74      0.76      5561\n",
            "weighted avg       0.91      0.91      0.91      5561\n",
            "\n"
          ],
          "name": "stdout"
        }
      ]
    },
    {
      "cell_type": "code",
      "metadata": {
        "colab": {
          "base_uri": "https://localhost:8080/"
        },
        "id": "RWoLul-Bgj6T",
        "outputId": "a14ce2ad-2632-4eb2-9c87-e1484037a9b5"
      },
      "source": [
        "modelo_svm = svm.SVC(gamma='scale', kernel='poly', degree=5, C=10)\n",
        "\n",
        "modelo_svm.fit(x_train, y_train)\n",
        "predicao_svm = modelo_svm.predict(x_test)\n",
        "\n",
        "print(accuracy_score(y_test, predicao_svm))\n",
        "print(metrics.classification_report(y_test, predicao_svm))"
      ],
      "execution_count": 49,
      "outputs": [
        {
          "output_type": "stream",
          "text": [
            "0.9061319906491638\n",
            "              precision    recall  f1-score   support\n",
            "\n",
            "           0       0.93      0.96      0.95      4935\n",
            "           1       0.61      0.45      0.52       626\n",
            "\n",
            "    accuracy                           0.91      5561\n",
            "   macro avg       0.77      0.71      0.73      5561\n",
            "weighted avg       0.90      0.91      0.90      5561\n",
            "\n"
          ],
          "name": "stdout"
        }
      ]
    },
    {
      "cell_type": "code",
      "metadata": {
        "id": "G9E95BiiTHSl"
      },
      "source": [
        "random_classifier = RandomForestClassifier()\n",
        "\n",
        "n_splits = 5\n",
        "n_repeats = 10\n",
        "\n",
        "parameters = {'max_features':['auto',None,'log2'],\n",
        "              'n_estimators':[200],\n",
        "              'min_samples_leaf': [50,100],\n",
        "              'max_depth' : [5, 10, 15],\n",
        "              'criterion': ['gini','entropy']}\n",
        "cv = RepeatedStratifiedKFold(n_splits = n_splits, n_repeats=n_repeats)\n",
        "random_grid = GridSearchCV(random_classifier, parameters, cv = cv, scoring='roc_auc',\n",
        "                         return_train_score=True)"
      ],
      "execution_count": 91,
      "outputs": []
    },
    {
      "cell_type": "code",
      "metadata": {
        "id": "HmqkxhzmTVZL"
      },
      "source": [
        "random_grid.fit(x_train, y_train)"
      ],
      "execution_count": null,
      "outputs": []
    },
    {
      "cell_type": "code",
      "metadata": {
        "id": "yOA4or5_o_GX"
      },
      "source": [
        "import warnings\n",
        "warnings.simplefilter(action='ignore', category=FutureWarning)"
      ],
      "execution_count": 96,
      "outputs": []
    },
    {
      "cell_type": "code",
      "metadata": {
        "colab": {
          "base_uri": "https://localhost:8080/"
        },
        "id": "d3ycqtUhYgJ8",
        "outputId": "dee3bc57-16b4-4551-e714-4b8af7e8da83"
      },
      "source": [
        "random_classifier = RandomForestClassifier(n_jobs=10, n_estimators=1000,criterion='entropy',max_depth=30, min_samples_leaf=10, min_samples_split=5)\n",
        "random_classifier.fit(x_test,y_test)\n",
        "\n",
        "predicao_random_classifier = random_classifier.predict(x_test)\n",
        "print(accuracy_score(y_test, predicao_random_classifier))\n",
        "print(metrics.classification_report(y_test, predicao_random_classifier))"
      ],
      "execution_count": 152,
      "outputs": [
        {
          "output_type": "stream",
          "text": [
            "0.933465204099982\n",
            "              precision    recall  f1-score   support\n",
            "\n",
            "           0       0.94      0.99      0.96      4935\n",
            "           1       0.88      0.48      0.62       626\n",
            "\n",
            "    accuracy                           0.93      5561\n",
            "   macro avg       0.91      0.73      0.79      5561\n",
            "weighted avg       0.93      0.93      0.92      5561\n",
            "\n"
          ],
          "name": "stdout"
        }
      ]
    },
    {
      "cell_type": "code",
      "metadata": {
        "colab": {
          "base_uri": "https://localhost:8080/"
        },
        "id": "z6HVx340qLTW",
        "outputId": "584d737f-ff0e-4959-ac28-4630144a2c44"
      },
      "source": [
        "random_classifier = RandomForestClassifier(n_jobs=10, n_estimators=500,criterion='gini',max_depth=15, min_samples_leaf=3, min_samples_split=3)\n",
        "random_classifier.fit(x_test,y_test)\n",
        "\n",
        "predicao_random_classifier = random_classifier.predict(x_test)\n",
        "print(accuracy_score(y_test, predicao_random_classifier))\n",
        "print(metrics.classification_report(y_test, predicao_random_classifier))"
      ],
      "execution_count": 176,
      "outputs": [
        {
          "output_type": "stream",
          "text": [
            "0.9678115446862076\n",
            "              precision    recall  f1-score   support\n",
            "\n",
            "           0       0.97      0.99      0.98      4935\n",
            "           1       0.95      0.76      0.84       626\n",
            "\n",
            "    accuracy                           0.97      5561\n",
            "   macro avg       0.96      0.88      0.91      5561\n",
            "weighted avg       0.97      0.97      0.97      5561\n",
            "\n"
          ],
          "name": "stdout"
        }
      ]
    },
    {
      "cell_type": "markdown",
      "metadata": {
        "id": "HoGY-N3n47L2"
      },
      "source": [
        "# Submetendo pro Kaggle"
      ]
    },
    {
      "cell_type": "code",
      "metadata": {
        "id": "fsLxRyHI45eS"
      },
      "source": [
        "aval = pd.read_csv('/content/drive/MyDrive/Jornada_Python_Ocean/test.csv', index_col='id')\n",
        "sub =  pd.read_csv('/content/drive/MyDrive/Jornada_Python_Ocean/sample.csv')"
      ],
      "execution_count": 130,
      "outputs": []
    },
    {
      "cell_type": "code",
      "metadata": {
        "id": "rEMRCvyy7sWE"
      },
      "source": [
        "for c in aval.columns[aval.dtypes == object]: # df.dtypes == 'object'\n",
        "    aval[c] = aval[c].astype('category')"
      ],
      "execution_count": 131,
      "outputs": []
    },
    {
      "cell_type": "code",
      "metadata": {
        "id": "fqQGISDb71M6"
      },
      "source": [
        "aval.education.cat.reorder_categories(['illiterate', 'basic.4y', 'basic.6y', 'basic.9y', 'high.school', \n",
        "       'professional.course', 'university.degree'], ordered=True, inplace=True)"
      ],
      "execution_count": 132,
      "outputs": []
    },
    {
      "cell_type": "code",
      "metadata": {
        "id": "im0nJYDj7209"
      },
      "source": [
        "#Transforma as categorias em números\n",
        "for c in aval.columns[aval.dtypes == 'category']: # df.dtypes == 'object'\n",
        "    aval[c] = aval[c].cat.codes"
      ],
      "execution_count": 133,
      "outputs": []
    },
    {
      "cell_type": "code",
      "metadata": {
        "colab": {
          "base_uri": "https://localhost:8080/",
          "height": 255
        },
        "id": "tlY9FK-y7_Kr",
        "outputId": "4cceb41a-f5b3-4061-fa70-8b11192657c8"
      },
      "source": [
        "aval.head()"
      ],
      "execution_count": 134,
      "outputs": [
        {
          "output_type": "execute_result",
          "data": {
            "text/html": [
              "<div>\n",
              "<style scoped>\n",
              "    .dataframe tbody tr th:only-of-type {\n",
              "        vertical-align: middle;\n",
              "    }\n",
              "\n",
              "    .dataframe tbody tr th {\n",
              "        vertical-align: top;\n",
              "    }\n",
              "\n",
              "    .dataframe thead th {\n",
              "        text-align: right;\n",
              "    }\n",
              "</style>\n",
              "<table border=\"1\" class=\"dataframe\">\n",
              "  <thead>\n",
              "    <tr style=\"text-align: right;\">\n",
              "      <th></th>\n",
              "      <th>age</th>\n",
              "      <th>job</th>\n",
              "      <th>marital</th>\n",
              "      <th>education</th>\n",
              "      <th>default</th>\n",
              "      <th>housing</th>\n",
              "      <th>loan</th>\n",
              "      <th>contact</th>\n",
              "      <th>month</th>\n",
              "      <th>day_of_week</th>\n",
              "      <th>duration</th>\n",
              "      <th>campaign</th>\n",
              "      <th>pdays</th>\n",
              "      <th>previous</th>\n",
              "      <th>poutcome</th>\n",
              "      <th>emp.var.rate</th>\n",
              "      <th>cons.price.idx</th>\n",
              "      <th>cons.conf.idx</th>\n",
              "      <th>euribor3m</th>\n",
              "      <th>nr.employed</th>\n",
              "    </tr>\n",
              "    <tr>\n",
              "      <th>id</th>\n",
              "      <th></th>\n",
              "      <th></th>\n",
              "      <th></th>\n",
              "      <th></th>\n",
              "      <th></th>\n",
              "      <th></th>\n",
              "      <th></th>\n",
              "      <th></th>\n",
              "      <th></th>\n",
              "      <th></th>\n",
              "      <th></th>\n",
              "      <th></th>\n",
              "      <th></th>\n",
              "      <th></th>\n",
              "      <th></th>\n",
              "      <th></th>\n",
              "      <th></th>\n",
              "      <th></th>\n",
              "      <th></th>\n",
              "      <th></th>\n",
              "    </tr>\n",
              "  </thead>\n",
              "  <tbody>\n",
              "    <tr>\n",
              "      <th>0</th>\n",
              "      <td>49</td>\n",
              "      <td>1</td>\n",
              "      <td>1</td>\n",
              "      <td>1</td>\n",
              "      <td>-1</td>\n",
              "      <td>0</td>\n",
              "      <td>0</td>\n",
              "      <td>1</td>\n",
              "      <td>4</td>\n",
              "      <td>0</td>\n",
              "      <td>115</td>\n",
              "      <td>1</td>\n",
              "      <td>999</td>\n",
              "      <td>0</td>\n",
              "      <td>1</td>\n",
              "      <td>1.4</td>\n",
              "      <td>94.465</td>\n",
              "      <td>-41.8</td>\n",
              "      <td>4.959</td>\n",
              "      <td>5228.1</td>\n",
              "    </tr>\n",
              "    <tr>\n",
              "      <th>1</th>\n",
              "      <td>23</td>\n",
              "      <td>8</td>\n",
              "      <td>2</td>\n",
              "      <td>4</td>\n",
              "      <td>0</td>\n",
              "      <td>1</td>\n",
              "      <td>0</td>\n",
              "      <td>0</td>\n",
              "      <td>0</td>\n",
              "      <td>1</td>\n",
              "      <td>637</td>\n",
              "      <td>1</td>\n",
              "      <td>999</td>\n",
              "      <td>0</td>\n",
              "      <td>1</td>\n",
              "      <td>-1.8</td>\n",
              "      <td>93.075</td>\n",
              "      <td>-47.1</td>\n",
              "      <td>1.405</td>\n",
              "      <td>5099.1</td>\n",
              "    </tr>\n",
              "    <tr>\n",
              "      <th>2</th>\n",
              "      <td>42</td>\n",
              "      <td>9</td>\n",
              "      <td>1</td>\n",
              "      <td>5</td>\n",
              "      <td>0</td>\n",
              "      <td>0</td>\n",
              "      <td>0</td>\n",
              "      <td>0</td>\n",
              "      <td>1</td>\n",
              "      <td>2</td>\n",
              "      <td>295</td>\n",
              "      <td>1</td>\n",
              "      <td>6</td>\n",
              "      <td>2</td>\n",
              "      <td>2</td>\n",
              "      <td>-1.7</td>\n",
              "      <td>94.027</td>\n",
              "      <td>-38.3</td>\n",
              "      <td>0.899</td>\n",
              "      <td>4991.6</td>\n",
              "    </tr>\n",
              "    <tr>\n",
              "      <th>3</th>\n",
              "      <td>51</td>\n",
              "      <td>1</td>\n",
              "      <td>1</td>\n",
              "      <td>3</td>\n",
              "      <td>-1</td>\n",
              "      <td>0</td>\n",
              "      <td>1</td>\n",
              "      <td>0</td>\n",
              "      <td>6</td>\n",
              "      <td>4</td>\n",
              "      <td>22</td>\n",
              "      <td>2</td>\n",
              "      <td>999</td>\n",
              "      <td>0</td>\n",
              "      <td>1</td>\n",
              "      <td>-1.8</td>\n",
              "      <td>92.893</td>\n",
              "      <td>-46.2</td>\n",
              "      <td>1.334</td>\n",
              "      <td>5099.1</td>\n",
              "    </tr>\n",
              "    <tr>\n",
              "      <th>4</th>\n",
              "      <td>32</td>\n",
              "      <td>9</td>\n",
              "      <td>1</td>\n",
              "      <td>4</td>\n",
              "      <td>0</td>\n",
              "      <td>0</td>\n",
              "      <td>0</td>\n",
              "      <td>0</td>\n",
              "      <td>9</td>\n",
              "      <td>2</td>\n",
              "      <td>245</td>\n",
              "      <td>1</td>\n",
              "      <td>999</td>\n",
              "      <td>0</td>\n",
              "      <td>1</td>\n",
              "      <td>-1.1</td>\n",
              "      <td>94.199</td>\n",
              "      <td>-37.5</td>\n",
              "      <td>0.878</td>\n",
              "      <td>4963.6</td>\n",
              "    </tr>\n",
              "  </tbody>\n",
              "</table>\n",
              "</div>"
            ],
            "text/plain": [
              "    age  job  marital  ...  cons.conf.idx  euribor3m  nr.employed\n",
              "id                     ...                                       \n",
              "0    49    1        1  ...          -41.8      4.959       5228.1\n",
              "1    23    8        2  ...          -47.1      1.405       5099.1\n",
              "2    42    9        1  ...          -38.3      0.899       4991.6\n",
              "3    51    1        1  ...          -46.2      1.334       5099.1\n",
              "4    32    9        1  ...          -37.5      0.878       4963.6\n",
              "\n",
              "[5 rows x 20 columns]"
            ]
          },
          "metadata": {
            "tags": []
          },
          "execution_count": 134
        }
      ]
    },
    {
      "cell_type": "code",
      "metadata": {
        "id": "4VzcV-SW8DQc"
      },
      "source": [
        "x_aval = scaler.fit_transform(aval.values)"
      ],
      "execution_count": 135,
      "outputs": []
    },
    {
      "cell_type": "code",
      "metadata": {
        "id": "Kouhv56dN0tb"
      },
      "source": [
        "aval_norm = pd.DataFrame(x_aval, columns=aval.columns)"
      ],
      "execution_count": 136,
      "outputs": []
    },
    {
      "cell_type": "code",
      "metadata": {
        "colab": {
          "base_uri": "https://localhost:8080/",
          "height": 224
        },
        "id": "4wRzDYtDOB7O",
        "outputId": "80bf82c3-6e51-4bc3-bc37-a32a876b72ed"
      },
      "source": [
        "aval_norm.head()"
      ],
      "execution_count": 137,
      "outputs": [
        {
          "output_type": "execute_result",
          "data": {
            "text/html": [
              "<div>\n",
              "<style scoped>\n",
              "    .dataframe tbody tr th:only-of-type {\n",
              "        vertical-align: middle;\n",
              "    }\n",
              "\n",
              "    .dataframe tbody tr th {\n",
              "        vertical-align: top;\n",
              "    }\n",
              "\n",
              "    .dataframe thead th {\n",
              "        text-align: right;\n",
              "    }\n",
              "</style>\n",
              "<table border=\"1\" class=\"dataframe\">\n",
              "  <thead>\n",
              "    <tr style=\"text-align: right;\">\n",
              "      <th></th>\n",
              "      <th>age</th>\n",
              "      <th>job</th>\n",
              "      <th>marital</th>\n",
              "      <th>education</th>\n",
              "      <th>default</th>\n",
              "      <th>housing</th>\n",
              "      <th>loan</th>\n",
              "      <th>contact</th>\n",
              "      <th>month</th>\n",
              "      <th>day_of_week</th>\n",
              "      <th>duration</th>\n",
              "      <th>campaign</th>\n",
              "      <th>pdays</th>\n",
              "      <th>previous</th>\n",
              "      <th>poutcome</th>\n",
              "      <th>emp.var.rate</th>\n",
              "      <th>cons.price.idx</th>\n",
              "      <th>cons.conf.idx</th>\n",
              "      <th>euribor3m</th>\n",
              "      <th>nr.employed</th>\n",
              "    </tr>\n",
              "  </thead>\n",
              "  <tbody>\n",
              "    <tr>\n",
              "      <th>0</th>\n",
              "      <td>0.3875</td>\n",
              "      <td>0.181818</td>\n",
              "      <td>0.666667</td>\n",
              "      <td>0.285714</td>\n",
              "      <td>0.0</td>\n",
              "      <td>0.5</td>\n",
              "      <td>0.5</td>\n",
              "      <td>1.0</td>\n",
              "      <td>0.444444</td>\n",
              "      <td>0.00</td>\n",
              "      <td>0.041651</td>\n",
              "      <td>0.000</td>\n",
              "      <td>1.000000</td>\n",
              "      <td>0.0</td>\n",
              "      <td>0.5</td>\n",
              "      <td>1.000000</td>\n",
              "      <td>0.882307</td>\n",
              "      <td>0.376569</td>\n",
              "      <td>0.990607</td>\n",
              "      <td>1.000000</td>\n",
              "    </tr>\n",
              "    <tr>\n",
              "      <th>1</th>\n",
              "      <td>0.0625</td>\n",
              "      <td>0.818182</td>\n",
              "      <td>1.000000</td>\n",
              "      <td>0.714286</td>\n",
              "      <td>1.0</td>\n",
              "      <td>1.0</td>\n",
              "      <td>0.5</td>\n",
              "      <td>0.0</td>\n",
              "      <td>0.000000</td>\n",
              "      <td>0.25</td>\n",
              "      <td>0.235775</td>\n",
              "      <td>0.000</td>\n",
              "      <td>1.000000</td>\n",
              "      <td>0.0</td>\n",
              "      <td>0.5</td>\n",
              "      <td>0.333333</td>\n",
              "      <td>0.340608</td>\n",
              "      <td>0.154812</td>\n",
              "      <td>0.176403</td>\n",
              "      <td>0.512287</td>\n",
              "    </tr>\n",
              "    <tr>\n",
              "      <th>2</th>\n",
              "      <td>0.3000</td>\n",
              "      <td>0.909091</td>\n",
              "      <td>0.666667</td>\n",
              "      <td>0.857143</td>\n",
              "      <td>1.0</td>\n",
              "      <td>0.5</td>\n",
              "      <td>0.5</td>\n",
              "      <td>0.0</td>\n",
              "      <td>0.111111</td>\n",
              "      <td>0.50</td>\n",
              "      <td>0.108591</td>\n",
              "      <td>0.000</td>\n",
              "      <td>0.006006</td>\n",
              "      <td>0.4</td>\n",
              "      <td>1.0</td>\n",
              "      <td>0.354167</td>\n",
              "      <td>0.711613</td>\n",
              "      <td>0.523013</td>\n",
              "      <td>0.060481</td>\n",
              "      <td>0.105860</td>\n",
              "    </tr>\n",
              "    <tr>\n",
              "      <th>3</th>\n",
              "      <td>0.4125</td>\n",
              "      <td>0.181818</td>\n",
              "      <td>0.666667</td>\n",
              "      <td>0.571429</td>\n",
              "      <td>0.0</td>\n",
              "      <td>0.5</td>\n",
              "      <td>1.0</td>\n",
              "      <td>0.0</td>\n",
              "      <td>0.666667</td>\n",
              "      <td>1.00</td>\n",
              "      <td>0.007066</td>\n",
              "      <td>0.025</td>\n",
              "      <td>1.000000</td>\n",
              "      <td>0.0</td>\n",
              "      <td>0.5</td>\n",
              "      <td>0.333333</td>\n",
              "      <td>0.269680</td>\n",
              "      <td>0.192469</td>\n",
              "      <td>0.160137</td>\n",
              "      <td>0.512287</td>\n",
              "    </tr>\n",
              "    <tr>\n",
              "      <th>4</th>\n",
              "      <td>0.1750</td>\n",
              "      <td>0.909091</td>\n",
              "      <td>0.666667</td>\n",
              "      <td>0.714286</td>\n",
              "      <td>1.0</td>\n",
              "      <td>0.5</td>\n",
              "      <td>0.5</td>\n",
              "      <td>0.0</td>\n",
              "      <td>1.000000</td>\n",
              "      <td>0.50</td>\n",
              "      <td>0.089996</td>\n",
              "      <td>0.000</td>\n",
              "      <td>1.000000</td>\n",
              "      <td>0.0</td>\n",
              "      <td>0.5</td>\n",
              "      <td>0.479167</td>\n",
              "      <td>0.778644</td>\n",
              "      <td>0.556485</td>\n",
              "      <td>0.055670</td>\n",
              "      <td>0.000000</td>\n",
              "    </tr>\n",
              "  </tbody>\n",
              "</table>\n",
              "</div>"
            ],
            "text/plain": [
              "      age       job   marital  ...  cons.conf.idx  euribor3m  nr.employed\n",
              "0  0.3875  0.181818  0.666667  ...       0.376569   0.990607     1.000000\n",
              "1  0.0625  0.818182  1.000000  ...       0.154812   0.176403     0.512287\n",
              "2  0.3000  0.909091  0.666667  ...       0.523013   0.060481     0.105860\n",
              "3  0.4125  0.181818  0.666667  ...       0.192469   0.160137     0.512287\n",
              "4  0.1750  0.909091  0.666667  ...       0.556485   0.055670     0.000000\n",
              "\n",
              "[5 rows x 20 columns]"
            ]
          },
          "metadata": {
            "tags": []
          },
          "execution_count": 137
        }
      ]
    },
    {
      "cell_type": "code",
      "metadata": {
        "id": "A2FHl1GI8O9G"
      },
      "source": [
        "y_aval = random_classifier.predict(x_aval)"
      ],
      "execution_count": 177,
      "outputs": []
    },
    {
      "cell_type": "code",
      "metadata": {
        "colab": {
          "base_uri": "https://localhost:8080/"
        },
        "id": "Jyj3Qum-PUt2",
        "outputId": "24e5b777-65a7-4834-c717-4dca8f143d53"
      },
      "source": [
        "y_aval"
      ],
      "execution_count": 178,
      "outputs": [
        {
          "output_type": "execute_result",
          "data": {
            "text/plain": [
              "array([0, 1, 1, ..., 1, 0, 0], dtype=int8)"
            ]
          },
          "metadata": {
            "tags": []
          },
          "execution_count": 178
        }
      ]
    },
    {
      "cell_type": "code",
      "metadata": {
        "id": "ILTDiSYj8fyU"
      },
      "source": [
        "sub.y = pd.Series(y_aval)"
      ],
      "execution_count": 179,
      "outputs": []
    },
    {
      "cell_type": "code",
      "metadata": {
        "id": "ufMavfvE8tVZ"
      },
      "source": [
        "sub.to_csv('submission.csv')"
      ],
      "execution_count": 180,
      "outputs": []
    },
    {
      "cell_type": "code",
      "metadata": {
        "id": "ilP_RJJFX3i2"
      },
      "source": [
        "sub.set_index('id', inplace=True)"
      ],
      "execution_count": 143,
      "outputs": []
    },
    {
      "cell_type": "code",
      "metadata": {
        "colab": {
          "base_uri": "https://localhost:8080/",
          "height": 669
        },
        "id": "EsjFq50e8tS5",
        "outputId": "94ad7ace-4af4-4bf6-cef4-657641b7c446"
      },
      "source": [
        "sub.head(20)"
      ],
      "execution_count": 142,
      "outputs": [
        {
          "output_type": "execute_result",
          "data": {
            "text/html": [
              "<div>\n",
              "<style scoped>\n",
              "    .dataframe tbody tr th:only-of-type {\n",
              "        vertical-align: middle;\n",
              "    }\n",
              "\n",
              "    .dataframe tbody tr th {\n",
              "        vertical-align: top;\n",
              "    }\n",
              "\n",
              "    .dataframe thead th {\n",
              "        text-align: right;\n",
              "    }\n",
              "</style>\n",
              "<table border=\"1\" class=\"dataframe\">\n",
              "  <thead>\n",
              "    <tr style=\"text-align: right;\">\n",
              "      <th></th>\n",
              "      <th>id</th>\n",
              "      <th>y</th>\n",
              "    </tr>\n",
              "  </thead>\n",
              "  <tbody>\n",
              "    <tr>\n",
              "      <th>0</th>\n",
              "      <td>0</td>\n",
              "      <td>0</td>\n",
              "    </tr>\n",
              "    <tr>\n",
              "      <th>1</th>\n",
              "      <td>1</td>\n",
              "      <td>1</td>\n",
              "    </tr>\n",
              "    <tr>\n",
              "      <th>2</th>\n",
              "      <td>2</td>\n",
              "      <td>1</td>\n",
              "    </tr>\n",
              "    <tr>\n",
              "      <th>3</th>\n",
              "      <td>3</td>\n",
              "      <td>0</td>\n",
              "    </tr>\n",
              "    <tr>\n",
              "      <th>4</th>\n",
              "      <td>4</td>\n",
              "      <td>1</td>\n",
              "    </tr>\n",
              "    <tr>\n",
              "      <th>5</th>\n",
              "      <td>5</td>\n",
              "      <td>0</td>\n",
              "    </tr>\n",
              "    <tr>\n",
              "      <th>6</th>\n",
              "      <td>6</td>\n",
              "      <td>0</td>\n",
              "    </tr>\n",
              "    <tr>\n",
              "      <th>7</th>\n",
              "      <td>7</td>\n",
              "      <td>0</td>\n",
              "    </tr>\n",
              "    <tr>\n",
              "      <th>8</th>\n",
              "      <td>8</td>\n",
              "      <td>1</td>\n",
              "    </tr>\n",
              "    <tr>\n",
              "      <th>9</th>\n",
              "      <td>9</td>\n",
              "      <td>0</td>\n",
              "    </tr>\n",
              "    <tr>\n",
              "      <th>10</th>\n",
              "      <td>10</td>\n",
              "      <td>0</td>\n",
              "    </tr>\n",
              "    <tr>\n",
              "      <th>11</th>\n",
              "      <td>11</td>\n",
              "      <td>0</td>\n",
              "    </tr>\n",
              "    <tr>\n",
              "      <th>12</th>\n",
              "      <td>12</td>\n",
              "      <td>0</td>\n",
              "    </tr>\n",
              "    <tr>\n",
              "      <th>13</th>\n",
              "      <td>13</td>\n",
              "      <td>0</td>\n",
              "    </tr>\n",
              "    <tr>\n",
              "      <th>14</th>\n",
              "      <td>14</td>\n",
              "      <td>0</td>\n",
              "    </tr>\n",
              "    <tr>\n",
              "      <th>15</th>\n",
              "      <td>15</td>\n",
              "      <td>0</td>\n",
              "    </tr>\n",
              "    <tr>\n",
              "      <th>16</th>\n",
              "      <td>16</td>\n",
              "      <td>0</td>\n",
              "    </tr>\n",
              "    <tr>\n",
              "      <th>17</th>\n",
              "      <td>17</td>\n",
              "      <td>0</td>\n",
              "    </tr>\n",
              "    <tr>\n",
              "      <th>18</th>\n",
              "      <td>18</td>\n",
              "      <td>0</td>\n",
              "    </tr>\n",
              "    <tr>\n",
              "      <th>19</th>\n",
              "      <td>19</td>\n",
              "      <td>1</td>\n",
              "    </tr>\n",
              "  </tbody>\n",
              "</table>\n",
              "</div>"
            ],
            "text/plain": [
              "    id  y\n",
              "0    0  0\n",
              "1    1  1\n",
              "2    2  1\n",
              "3    3  0\n",
              "4    4  1\n",
              "5    5  0\n",
              "6    6  0\n",
              "7    7  0\n",
              "8    8  1\n",
              "9    9  0\n",
              "10  10  0\n",
              "11  11  0\n",
              "12  12  0\n",
              "13  13  0\n",
              "14  14  0\n",
              "15  15  0\n",
              "16  16  0\n",
              "17  17  0\n",
              "18  18  0\n",
              "19  19  1"
            ]
          },
          "metadata": {
            "tags": []
          },
          "execution_count": 142
        }
      ]
    },
    {
      "cell_type": "code",
      "metadata": {
        "colab": {
          "base_uri": "https://localhost:8080/",
          "height": 451
        },
        "id": "2RMBbHyeoDrr",
        "outputId": "5afea2e0-d9bb-4892-d448-495efb7b9c8d"
      },
      "source": [
        "# codificação One Hot (não vamos usar no modelo)\n",
        "pd.get_dummies(df, columns=['job'])"
      ],
      "execution_count": 64,
      "outputs": [
        {
          "output_type": "execute_result",
          "data": {
            "text/html": [
              "<div>\n",
              "<style scoped>\n",
              "    .dataframe tbody tr th:only-of-type {\n",
              "        vertical-align: middle;\n",
              "    }\n",
              "\n",
              "    .dataframe tbody tr th {\n",
              "        vertical-align: top;\n",
              "    }\n",
              "\n",
              "    .dataframe thead th {\n",
              "        text-align: right;\n",
              "    }\n",
              "</style>\n",
              "<table border=\"1\" class=\"dataframe\">\n",
              "  <thead>\n",
              "    <tr style=\"text-align: right;\">\n",
              "      <th></th>\n",
              "      <th>age</th>\n",
              "      <th>marital</th>\n",
              "      <th>education</th>\n",
              "      <th>default</th>\n",
              "      <th>housing</th>\n",
              "      <th>loan</th>\n",
              "      <th>contact</th>\n",
              "      <th>month</th>\n",
              "      <th>day_of_week</th>\n",
              "      <th>duration</th>\n",
              "      <th>campaign</th>\n",
              "      <th>pdays</th>\n",
              "      <th>previous</th>\n",
              "      <th>poutcome</th>\n",
              "      <th>emp.var.rate</th>\n",
              "      <th>cons.price.idx</th>\n",
              "      <th>cons.conf.idx</th>\n",
              "      <th>euribor3m</th>\n",
              "      <th>nr.employed</th>\n",
              "      <th>y</th>\n",
              "      <th>job_-1</th>\n",
              "      <th>job_0</th>\n",
              "      <th>job_1</th>\n",
              "      <th>job_2</th>\n",
              "      <th>job_3</th>\n",
              "      <th>job_4</th>\n",
              "      <th>job_5</th>\n",
              "      <th>job_6</th>\n",
              "      <th>job_7</th>\n",
              "      <th>job_8</th>\n",
              "      <th>job_9</th>\n",
              "      <th>job_10</th>\n",
              "    </tr>\n",
              "    <tr>\n",
              "      <th>id</th>\n",
              "      <th></th>\n",
              "      <th></th>\n",
              "      <th></th>\n",
              "      <th></th>\n",
              "      <th></th>\n",
              "      <th></th>\n",
              "      <th></th>\n",
              "      <th></th>\n",
              "      <th></th>\n",
              "      <th></th>\n",
              "      <th></th>\n",
              "      <th></th>\n",
              "      <th></th>\n",
              "      <th></th>\n",
              "      <th></th>\n",
              "      <th></th>\n",
              "      <th></th>\n",
              "      <th></th>\n",
              "      <th></th>\n",
              "      <th></th>\n",
              "      <th></th>\n",
              "      <th></th>\n",
              "      <th></th>\n",
              "      <th></th>\n",
              "      <th></th>\n",
              "      <th></th>\n",
              "      <th></th>\n",
              "      <th></th>\n",
              "      <th></th>\n",
              "      <th></th>\n",
              "      <th></th>\n",
              "      <th></th>\n",
              "    </tr>\n",
              "  </thead>\n",
              "  <tbody>\n",
              "    <tr>\n",
              "      <th>0</th>\n",
              "      <td>52</td>\n",
              "      <td>0</td>\n",
              "      <td>5</td>\n",
              "      <td>-1</td>\n",
              "      <td>1</td>\n",
              "      <td>0</td>\n",
              "      <td>1</td>\n",
              "      <td>4</td>\n",
              "      <td>1</td>\n",
              "      <td>56</td>\n",
              "      <td>8</td>\n",
              "      <td>999</td>\n",
              "      <td>0</td>\n",
              "      <td>1</td>\n",
              "      <td>1.4</td>\n",
              "      <td>94.465</td>\n",
              "      <td>-41.8</td>\n",
              "      <td>4.865</td>\n",
              "      <td>5228.1</td>\n",
              "      <td>0</td>\n",
              "      <td>0</td>\n",
              "      <td>0</td>\n",
              "      <td>0</td>\n",
              "      <td>0</td>\n",
              "      <td>0</td>\n",
              "      <td>0</td>\n",
              "      <td>0</td>\n",
              "      <td>0</td>\n",
              "      <td>0</td>\n",
              "      <td>0</td>\n",
              "      <td>1</td>\n",
              "      <td>0</td>\n",
              "    </tr>\n",
              "    <tr>\n",
              "      <th>1</th>\n",
              "      <td>36</td>\n",
              "      <td>1</td>\n",
              "      <td>6</td>\n",
              "      <td>0</td>\n",
              "      <td>1</td>\n",
              "      <td>0</td>\n",
              "      <td>0</td>\n",
              "      <td>7</td>\n",
              "      <td>3</td>\n",
              "      <td>267</td>\n",
              "      <td>2</td>\n",
              "      <td>999</td>\n",
              "      <td>0</td>\n",
              "      <td>1</td>\n",
              "      <td>-0.1</td>\n",
              "      <td>93.200</td>\n",
              "      <td>-42.0</td>\n",
              "      <td>4.153</td>\n",
              "      <td>5195.8</td>\n",
              "      <td>0</td>\n",
              "      <td>0</td>\n",
              "      <td>0</td>\n",
              "      <td>0</td>\n",
              "      <td>0</td>\n",
              "      <td>0</td>\n",
              "      <td>1</td>\n",
              "      <td>0</td>\n",
              "      <td>0</td>\n",
              "      <td>0</td>\n",
              "      <td>0</td>\n",
              "      <td>0</td>\n",
              "      <td>0</td>\n",
              "    </tr>\n",
              "    <tr>\n",
              "      <th>2</th>\n",
              "      <td>53</td>\n",
              "      <td>1</td>\n",
              "      <td>4</td>\n",
              "      <td>0</td>\n",
              "      <td>1</td>\n",
              "      <td>1</td>\n",
              "      <td>0</td>\n",
              "      <td>3</td>\n",
              "      <td>1</td>\n",
              "      <td>243</td>\n",
              "      <td>2</td>\n",
              "      <td>999</td>\n",
              "      <td>0</td>\n",
              "      <td>1</td>\n",
              "      <td>1.4</td>\n",
              "      <td>93.918</td>\n",
              "      <td>-42.7</td>\n",
              "      <td>4.962</td>\n",
              "      <td>5228.1</td>\n",
              "      <td>0</td>\n",
              "      <td>0</td>\n",
              "      <td>0</td>\n",
              "      <td>1</td>\n",
              "      <td>0</td>\n",
              "      <td>0</td>\n",
              "      <td>0</td>\n",
              "      <td>0</td>\n",
              "      <td>0</td>\n",
              "      <td>0</td>\n",
              "      <td>0</td>\n",
              "      <td>0</td>\n",
              "      <td>0</td>\n",
              "    </tr>\n",
              "    <tr>\n",
              "      <th>3</th>\n",
              "      <td>45</td>\n",
              "      <td>2</td>\n",
              "      <td>3</td>\n",
              "      <td>0</td>\n",
              "      <td>1</td>\n",
              "      <td>0</td>\n",
              "      <td>0</td>\n",
              "      <td>1</td>\n",
              "      <td>4</td>\n",
              "      <td>249</td>\n",
              "      <td>1</td>\n",
              "      <td>4</td>\n",
              "      <td>1</td>\n",
              "      <td>2</td>\n",
              "      <td>-2.9</td>\n",
              "      <td>92.201</td>\n",
              "      <td>-31.4</td>\n",
              "      <td>0.879</td>\n",
              "      <td>5076.2</td>\n",
              "      <td>0</td>\n",
              "      <td>0</td>\n",
              "      <td>0</td>\n",
              "      <td>1</td>\n",
              "      <td>0</td>\n",
              "      <td>0</td>\n",
              "      <td>0</td>\n",
              "      <td>0</td>\n",
              "      <td>0</td>\n",
              "      <td>0</td>\n",
              "      <td>0</td>\n",
              "      <td>0</td>\n",
              "      <td>0</td>\n",
              "    </tr>\n",
              "    <tr>\n",
              "      <th>4</th>\n",
              "      <td>60</td>\n",
              "      <td>1</td>\n",
              "      <td>4</td>\n",
              "      <td>-1</td>\n",
              "      <td>1</td>\n",
              "      <td>0</td>\n",
              "      <td>1</td>\n",
              "      <td>6</td>\n",
              "      <td>4</td>\n",
              "      <td>74</td>\n",
              "      <td>1</td>\n",
              "      <td>999</td>\n",
              "      <td>0</td>\n",
              "      <td>1</td>\n",
              "      <td>1.1</td>\n",
              "      <td>93.994</td>\n",
              "      <td>-36.4</td>\n",
              "      <td>4.858</td>\n",
              "      <td>5191.0</td>\n",
              "      <td>0</td>\n",
              "      <td>0</td>\n",
              "      <td>0</td>\n",
              "      <td>0</td>\n",
              "      <td>0</td>\n",
              "      <td>1</td>\n",
              "      <td>0</td>\n",
              "      <td>0</td>\n",
              "      <td>0</td>\n",
              "      <td>0</td>\n",
              "      <td>0</td>\n",
              "      <td>0</td>\n",
              "      <td>0</td>\n",
              "    </tr>\n",
              "    <tr>\n",
              "      <th>...</th>\n",
              "      <td>...</td>\n",
              "      <td>...</td>\n",
              "      <td>...</td>\n",
              "      <td>...</td>\n",
              "      <td>...</td>\n",
              "      <td>...</td>\n",
              "      <td>...</td>\n",
              "      <td>...</td>\n",
              "      <td>...</td>\n",
              "      <td>...</td>\n",
              "      <td>...</td>\n",
              "      <td>...</td>\n",
              "      <td>...</td>\n",
              "      <td>...</td>\n",
              "      <td>...</td>\n",
              "      <td>...</td>\n",
              "      <td>...</td>\n",
              "      <td>...</td>\n",
              "      <td>...</td>\n",
              "      <td>...</td>\n",
              "      <td>...</td>\n",
              "      <td>...</td>\n",
              "      <td>...</td>\n",
              "      <td>...</td>\n",
              "      <td>...</td>\n",
              "      <td>...</td>\n",
              "      <td>...</td>\n",
              "      <td>...</td>\n",
              "      <td>...</td>\n",
              "      <td>...</td>\n",
              "      <td>...</td>\n",
              "      <td>...</td>\n",
              "    </tr>\n",
              "    <tr>\n",
              "      <th>37064</th>\n",
              "      <td>28</td>\n",
              "      <td>2</td>\n",
              "      <td>4</td>\n",
              "      <td>0</td>\n",
              "      <td>1</td>\n",
              "      <td>0</td>\n",
              "      <td>0</td>\n",
              "      <td>3</td>\n",
              "      <td>3</td>\n",
              "      <td>192</td>\n",
              "      <td>1</td>\n",
              "      <td>999</td>\n",
              "      <td>0</td>\n",
              "      <td>1</td>\n",
              "      <td>-1.7</td>\n",
              "      <td>94.215</td>\n",
              "      <td>-40.3</td>\n",
              "      <td>0.876</td>\n",
              "      <td>4991.6</td>\n",
              "      <td>0</td>\n",
              "      <td>0</td>\n",
              "      <td>0</td>\n",
              "      <td>0</td>\n",
              "      <td>0</td>\n",
              "      <td>0</td>\n",
              "      <td>0</td>\n",
              "      <td>0</td>\n",
              "      <td>0</td>\n",
              "      <td>1</td>\n",
              "      <td>0</td>\n",
              "      <td>0</td>\n",
              "      <td>0</td>\n",
              "    </tr>\n",
              "    <tr>\n",
              "      <th>37065</th>\n",
              "      <td>52</td>\n",
              "      <td>1</td>\n",
              "      <td>5</td>\n",
              "      <td>0</td>\n",
              "      <td>1</td>\n",
              "      <td>0</td>\n",
              "      <td>0</td>\n",
              "      <td>7</td>\n",
              "      <td>0</td>\n",
              "      <td>64</td>\n",
              "      <td>1</td>\n",
              "      <td>999</td>\n",
              "      <td>1</td>\n",
              "      <td>0</td>\n",
              "      <td>-0.1</td>\n",
              "      <td>93.200</td>\n",
              "      <td>-42.0</td>\n",
              "      <td>4.021</td>\n",
              "      <td>5195.8</td>\n",
              "      <td>0</td>\n",
              "      <td>0</td>\n",
              "      <td>0</td>\n",
              "      <td>0</td>\n",
              "      <td>0</td>\n",
              "      <td>0</td>\n",
              "      <td>0</td>\n",
              "      <td>0</td>\n",
              "      <td>0</td>\n",
              "      <td>0</td>\n",
              "      <td>0</td>\n",
              "      <td>1</td>\n",
              "      <td>0</td>\n",
              "    </tr>\n",
              "    <tr>\n",
              "      <th>37066</th>\n",
              "      <td>54</td>\n",
              "      <td>1</td>\n",
              "      <td>3</td>\n",
              "      <td>0</td>\n",
              "      <td>0</td>\n",
              "      <td>1</td>\n",
              "      <td>0</td>\n",
              "      <td>3</td>\n",
              "      <td>1</td>\n",
              "      <td>131</td>\n",
              "      <td>4</td>\n",
              "      <td>999</td>\n",
              "      <td>0</td>\n",
              "      <td>1</td>\n",
              "      <td>1.4</td>\n",
              "      <td>93.918</td>\n",
              "      <td>-42.7</td>\n",
              "      <td>4.962</td>\n",
              "      <td>5228.1</td>\n",
              "      <td>0</td>\n",
              "      <td>0</td>\n",
              "      <td>1</td>\n",
              "      <td>0</td>\n",
              "      <td>0</td>\n",
              "      <td>0</td>\n",
              "      <td>0</td>\n",
              "      <td>0</td>\n",
              "      <td>0</td>\n",
              "      <td>0</td>\n",
              "      <td>0</td>\n",
              "      <td>0</td>\n",
              "      <td>0</td>\n",
              "    </tr>\n",
              "    <tr>\n",
              "      <th>37067</th>\n",
              "      <td>29</td>\n",
              "      <td>1</td>\n",
              "      <td>6</td>\n",
              "      <td>0</td>\n",
              "      <td>0</td>\n",
              "      <td>0</td>\n",
              "      <td>1</td>\n",
              "      <td>6</td>\n",
              "      <td>0</td>\n",
              "      <td>165</td>\n",
              "      <td>1</td>\n",
              "      <td>999</td>\n",
              "      <td>0</td>\n",
              "      <td>1</td>\n",
              "      <td>1.1</td>\n",
              "      <td>93.994</td>\n",
              "      <td>-36.4</td>\n",
              "      <td>4.864</td>\n",
              "      <td>5191.0</td>\n",
              "      <td>0</td>\n",
              "      <td>0</td>\n",
              "      <td>1</td>\n",
              "      <td>0</td>\n",
              "      <td>0</td>\n",
              "      <td>0</td>\n",
              "      <td>0</td>\n",
              "      <td>0</td>\n",
              "      <td>0</td>\n",
              "      <td>0</td>\n",
              "      <td>0</td>\n",
              "      <td>0</td>\n",
              "      <td>0</td>\n",
              "    </tr>\n",
              "    <tr>\n",
              "      <th>37068</th>\n",
              "      <td>35</td>\n",
              "      <td>1</td>\n",
              "      <td>6</td>\n",
              "      <td>0</td>\n",
              "      <td>0</td>\n",
              "      <td>1</td>\n",
              "      <td>1</td>\n",
              "      <td>4</td>\n",
              "      <td>3</td>\n",
              "      <td>544</td>\n",
              "      <td>3</td>\n",
              "      <td>999</td>\n",
              "      <td>0</td>\n",
              "      <td>1</td>\n",
              "      <td>1.4</td>\n",
              "      <td>94.465</td>\n",
              "      <td>-41.8</td>\n",
              "      <td>4.961</td>\n",
              "      <td>5228.1</td>\n",
              "      <td>0</td>\n",
              "      <td>0</td>\n",
              "      <td>1</td>\n",
              "      <td>0</td>\n",
              "      <td>0</td>\n",
              "      <td>0</td>\n",
              "      <td>0</td>\n",
              "      <td>0</td>\n",
              "      <td>0</td>\n",
              "      <td>0</td>\n",
              "      <td>0</td>\n",
              "      <td>0</td>\n",
              "      <td>0</td>\n",
              "    </tr>\n",
              "  </tbody>\n",
              "</table>\n",
              "<p>37069 rows × 32 columns</p>\n",
              "</div>"
            ],
            "text/plain": [
              "       age  marital  education  default  ...  job_7  job_8  job_9  job_10\n",
              "id                                       ...                             \n",
              "0       52        0          5       -1  ...      0      0      1       0\n",
              "1       36        1          6        0  ...      0      0      0       0\n",
              "2       53        1          4        0  ...      0      0      0       0\n",
              "3       45        2          3        0  ...      0      0      0       0\n",
              "4       60        1          4       -1  ...      0      0      0       0\n",
              "...    ...      ...        ...      ...  ...    ...    ...    ...     ...\n",
              "37064   28        2          4        0  ...      1      0      0       0\n",
              "37065   52        1          5        0  ...      0      0      1       0\n",
              "37066   54        1          3        0  ...      0      0      0       0\n",
              "37067   29        1          6        0  ...      0      0      0       0\n",
              "37068   35        1          6        0  ...      0      0      0       0\n",
              "\n",
              "[37069 rows x 32 columns]"
            ]
          },
          "metadata": {
            "tags": []
          },
          "execution_count": 64
        }
      ]
    },
    {
      "cell_type": "code",
      "metadata": {
        "id": "0lZQqJ8AS34H"
      },
      "source": [
        ""
      ],
      "execution_count": null,
      "outputs": []
    },
    {
      "cell_type": "code",
      "metadata": {
        "id": "T_CTlDsVT9rA",
        "colab": {
          "base_uri": "https://localhost:8080/",
          "height": 229
        },
        "outputId": "72c06767-37f0-44a6-f091-fff27ab8f81e"
      },
      "source": [
        "#pipeline para realizar os k-folds no conjunto de treino\n",
        "pipeline = make_pipeline(preprocessing.StandardScaler(),\n",
        "                         RandomForestClassifier(n_estimators=200))\n",
        "#grid de Hiperparâmetros para serem testados\n",
        "hyperparameters = { 'randomforestclassifier__max_features' : ['auto', None, 'log2'],\n",
        "                  'randomforestclassifier__max_depth': [None, 3, 1]}\n",
        "# Grid para k-fold de 10 dobras\n",
        "clf = GridSearchCV(pipeline, hyperparameters, cv=10)"
      ],
      "execution_count": 65,
      "outputs": [
        {
          "output_type": "error",
          "ename": "NameError",
          "evalue": "ignored",
          "traceback": [
            "\u001b[0;31m---------------------------------------------------------------------------\u001b[0m",
            "\u001b[0;31mNameError\u001b[0m                                 Traceback (most recent call last)",
            "\u001b[0;32m<ipython-input-65-4efac3f562f0>\u001b[0m in \u001b[0;36m<module>\u001b[0;34m()\u001b[0m\n\u001b[1;32m      1\u001b[0m \u001b[0;31m#pipeline para realizar os k-folds no conjunto de treino\u001b[0m\u001b[0;34m\u001b[0m\u001b[0;34m\u001b[0m\u001b[0;34m\u001b[0m\u001b[0m\n\u001b[0;32m----> 2\u001b[0;31m pipeline = make_pipeline(preprocessing.StandardScaler(), \n\u001b[0m\u001b[1;32m      3\u001b[0m                          RandomForestClassifier(n_estimators=200))\n\u001b[1;32m      4\u001b[0m \u001b[0;31m#grid de Hiperparâmetros para serem testados\u001b[0m\u001b[0;34m\u001b[0m\u001b[0;34m\u001b[0m\u001b[0;34m\u001b[0m\u001b[0m\n\u001b[1;32m      5\u001b[0m hyperparameters = { 'randomforestclassifier__max_features' : ['auto', None, 'log2'],\n",
            "\u001b[0;31mNameError\u001b[0m: name 'preprocessing' is not defined"
          ]
        }
      ]
    },
    {
      "cell_type": "code",
      "metadata": {
        "id": "kTFyfJnXT-aw"
      },
      "source": [
        "%%time\n",
        "#Ajusta o modelo aos dados de treino\n",
        "model=clf.fit(X,y2)"
      ],
      "execution_count": null,
      "outputs": []
    },
    {
      "cell_type": "code",
      "metadata": {
        "id": "jit7o7n1UMh4"
      },
      "source": [
        "p = model.predict(test)"
      ],
      "execution_count": null,
      "outputs": []
    },
    {
      "cell_type": "code",
      "metadata": {
        "id": "WssM8vjzUaCe"
      },
      "source": [
        "#vizualização dos dados a serem submetidos\n",
        "#sample.y= p\n",
        "#sample.to_csv(\"~/submission.csv\",index=False)\n",
        "#sample.head()"
      ],
      "execution_count": null,
      "outputs": []
    },
    {
      "cell_type": "markdown",
      "metadata": {
        "id": "NKaLT2F9E3R8"
      },
      "source": [
        "# Métricas de avaliação"
      ]
    },
    {
      "cell_type": "code",
      "metadata": {
        "id": "73yb4cV6E2qM"
      },
      "source": [
        "solution = pd.read_csv('solution.csv').y\n",
        "naive = pd.read_csv('allzeros.csv').y\n",
        "rf = pd.read_csv('random_forest.csv').y"
      ],
      "execution_count": null,
      "outputs": []
    },
    {
      "cell_type": "code",
      "metadata": {
        "id": "4iQc6v90Gg4I"
      },
      "source": [
        "# F1 de cada categoria\n",
        "metrics.f1_score(solution, naive, pos_label=0), metrics.f1_score(solution, naive, pos_label=1)"
      ],
      "execution_count": null,
      "outputs": []
    },
    {
      "cell_type": "code",
      "metadata": {
        "id": "h5YMsC73JBEF"
      },
      "source": [
        "metrics.f1_score(solution, naive, average=None)"
      ],
      "execution_count": null,
      "outputs": []
    },
    {
      "cell_type": "code",
      "metadata": {
        "id": "zbH5SgOHFPQo"
      },
      "source": [
        "metrics.f1_score(solution, naive, average='micro'), metrics.f1_score(solution, naive, average='macro')"
      ],
      "execution_count": null,
      "outputs": []
    },
    {
      "cell_type": "code",
      "metadata": {
        "id": "5k7jPwsDFPTP"
      },
      "source": [
        "metrics.accuracy_score(solution,naive)"
      ],
      "execution_count": null,
      "outputs": []
    },
    {
      "cell_type": "code",
      "metadata": {
        "id": "VU_NQajLFPV9"
      },
      "source": [
        "metrics.precision_score(solution, naive, average=None), metrics.recall_score(solution, naive, average=None)"
      ],
      "execution_count": null,
      "outputs": []
    },
    {
      "cell_type": "code",
      "metadata": {
        "id": "BMQgWdqeFPYX"
      },
      "source": [
        "metrics.precision_recall_fscore_support(solution, naive)"
      ],
      "execution_count": null,
      "outputs": []
    },
    {
      "cell_type": "code",
      "metadata": {
        "id": "AX3YpkaDFPdp"
      },
      "source": [
        "print(metrics.classification_report(solution, rf))"
      ],
      "execution_count": null,
      "outputs": []
    }
  ]
}