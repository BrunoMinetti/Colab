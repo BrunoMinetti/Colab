{
  "nbformat": 4,
  "nbformat_minor": 0,
  "metadata": {
    "colab": {
      "name": "DeepLearning_Keras.ipynb",
      "provenance": [],
      "authorship_tag": "ABX9TyOwavEDpGfPsrw8W4VC9igU",
      "include_colab_link": true
    },
    "kernelspec": {
      "name": "python3",
      "display_name": "Python 3"
    }
  },
  "cells": [
    {
      "cell_type": "markdown",
      "metadata": {
        "id": "view-in-github",
        "colab_type": "text"
      },
      "source": [
        "<a href=\"https://colab.research.google.com/github/BrunoMinetti/Colab/blob/main/DeepLearning_Keras.ipynb\" target=\"_parent\"><img src=\"https://colab.research.google.com/assets/colab-badge.svg\" alt=\"Open In Colab\"/></a>"
      ]
    },
    {
      "cell_type": "markdown",
      "metadata": {
        "id": "N7kePYFqK8SW"
      },
      "source": [
        "# Deep Learning com Keras\r\n",
        "Esse Notebook foi criado visando Estudar a Biblioteca Keras do Google para treinar modelos de Deep Learning utilizando rede neural sequêncial com otimizador Back Propagation.\r\n",
        "\r\n",
        "Modelo desenvolvido durante a aula do Samsung Ocean com o Professor Paulo Salvatore.\r\n",
        "\r\n",
        "Aula Deep Learning: Introdução com Keras e Python, partes 1 e 2.\r\n",
        "\r\n",
        "Aluno: Bruno Cesar Minetti Sanches"
      ]
    },
    {
      "cell_type": "markdown",
      "metadata": {
        "id": "DkOXAfYNST5O"
      },
      "source": [
        "## Bibliotecas utilizadas:"
      ]
    },
    {
      "cell_type": "code",
      "metadata": {
        "id": "8tSCYZKvKwwL"
      },
      "source": [
        "### Bibliotecas:\r\n",
        "# Importa a biblioteca Keras:\r\n",
        "import keras\r\n",
        "# Base de Dados MNIST:\r\n",
        "from keras.datasets import mnist \r\n",
        "# Arquitetura da nossa rede neural:\r\n",
        "from tensorflow.python.keras import Sequential \r\n",
        "# Neurônio (base da rede) e Regularizador (evita overfitting):\r\n",
        "from tensorflow.python.keras.layers import Dense, Dropout \r\n",
        "# Otimizador (back propagation):\r\n",
        "from tensorflow.compat.v1.keras.optimizers import RMSprop\r\n",
        "# Plota modelos gráficos:\r\n",
        "import matplotlib.pyplot as plt \r\n",
        "# Traz Funções matemáticas simplificadas:\r\n",
        "import numpy as np "
      ],
      "execution_count": 1,
      "outputs": []
    },
    {
      "cell_type": "markdown",
      "metadata": {
        "id": "iR8jhd0dSXpU"
      },
      "source": [
        "## Carregando o Dataset Mnist do Keras"
      ]
    },
    {
      "cell_type": "code",
      "metadata": {
        "colab": {
          "base_uri": "https://localhost:8080/"
        },
        "id": "Nw6-e-pYMjoU",
        "outputId": "d39437fe-689d-49da-faf1-be879b7e90bc"
      },
      "source": [
        "'''\r\n",
        "Carregando os dados de treino e teste, o Keras já traz em sua biblioteca\r\n",
        "um banco de imagens para treinar o modelo, sem ter a necessidade de buscar,\r\n",
        "ou mesmo ter que criar esse banco, o que é bastante complicado, e parte \r\n",
        "importante para a criação de um bom modelo de machine learning.\r\n",
        "'''\r\n",
        "\r\n",
        "(x_treino, y_treino), (x_teste, y_teste) = mnist.load_data()"
      ],
      "execution_count": 2,
      "outputs": [
        {
          "output_type": "stream",
          "text": [
            "Downloading data from https://storage.googleapis.com/tensorflow/tf-keras-datasets/mnist.npz\n",
            "11493376/11490434 [==============================] - 0s 0us/step\n"
          ],
          "name": "stdout"
        }
      ]
    },
    {
      "cell_type": "code",
      "metadata": {
        "colab": {
          "base_uri": "https://localhost:8080/"
        },
        "id": "skcmzjGXNNR3",
        "outputId": "c3918bc9-f085-43c7-a021-800f8ab71293"
      },
      "source": [
        "'''\r\n",
        "Após importar os dados, é importante analisar o dataset e veridicar o que temos \r\n",
        "e como ele está estruturado.\r\n",
        "'''\r\n",
        "\r\n",
        "print(\"Quantidade de imagens para treino:\", len(x_treino))\r\n",
        "print(\"Quantidade de imagens para teste:\", len(x_teste))\r\n",
        "print(\"Tipo de x_treino:\", type(x_treino))\r\n",
        "\r\n",
        "primeira_imagem = x_treino[0]\r\n",
        "representacao_primeira_imagem = y_treino[0]\r\n",
        "\r\n",
        "print(\"O que a imagem 0 representa:\", representacao_primeira_imagem)\r\n",
        "print(\"Formato da primeira imagem:\", primeira_imagem.shape,\r\n",
        "      type(primeira_imagem.shape))\r\n",
        "print(primeira_imagem)"
      ],
      "execution_count": 3,
      "outputs": [
        {
          "output_type": "stream",
          "text": [
            "Quantidade de imagens para treino: 60000\n",
            "Quantidade de imagens para teste: 10000\n",
            "Tipo de x_treino: <class 'numpy.ndarray'>\n",
            "O que a imagem 0 representa: 5\n",
            "Formato da primeira imagem: (28, 28) <class 'tuple'>\n",
            "[[  0   0   0   0   0   0   0   0   0   0   0   0   0   0   0   0   0   0\n",
            "    0   0   0   0   0   0   0   0   0   0]\n",
            " [  0   0   0   0   0   0   0   0   0   0   0   0   0   0   0   0   0   0\n",
            "    0   0   0   0   0   0   0   0   0   0]\n",
            " [  0   0   0   0   0   0   0   0   0   0   0   0   0   0   0   0   0   0\n",
            "    0   0   0   0   0   0   0   0   0   0]\n",
            " [  0   0   0   0   0   0   0   0   0   0   0   0   0   0   0   0   0   0\n",
            "    0   0   0   0   0   0   0   0   0   0]\n",
            " [  0   0   0   0   0   0   0   0   0   0   0   0   0   0   0   0   0   0\n",
            "    0   0   0   0   0   0   0   0   0   0]\n",
            " [  0   0   0   0   0   0   0   0   0   0   0   0   3  18  18  18 126 136\n",
            "  175  26 166 255 247 127   0   0   0   0]\n",
            " [  0   0   0   0   0   0   0   0  30  36  94 154 170 253 253 253 253 253\n",
            "  225 172 253 242 195  64   0   0   0   0]\n",
            " [  0   0   0   0   0   0   0  49 238 253 253 253 253 253 253 253 253 251\n",
            "   93  82  82  56  39   0   0   0   0   0]\n",
            " [  0   0   0   0   0   0   0  18 219 253 253 253 253 253 198 182 247 241\n",
            "    0   0   0   0   0   0   0   0   0   0]\n",
            " [  0   0   0   0   0   0   0   0  80 156 107 253 253 205  11   0  43 154\n",
            "    0   0   0   0   0   0   0   0   0   0]\n",
            " [  0   0   0   0   0   0   0   0   0  14   1 154 253  90   0   0   0   0\n",
            "    0   0   0   0   0   0   0   0   0   0]\n",
            " [  0   0   0   0   0   0   0   0   0   0   0 139 253 190   2   0   0   0\n",
            "    0   0   0   0   0   0   0   0   0   0]\n",
            " [  0   0   0   0   0   0   0   0   0   0   0  11 190 253  70   0   0   0\n",
            "    0   0   0   0   0   0   0   0   0   0]\n",
            " [  0   0   0   0   0   0   0   0   0   0   0   0  35 241 225 160 108   1\n",
            "    0   0   0   0   0   0   0   0   0   0]\n",
            " [  0   0   0   0   0   0   0   0   0   0   0   0   0  81 240 253 253 119\n",
            "   25   0   0   0   0   0   0   0   0   0]\n",
            " [  0   0   0   0   0   0   0   0   0   0   0   0   0   0  45 186 253 253\n",
            "  150  27   0   0   0   0   0   0   0   0]\n",
            " [  0   0   0   0   0   0   0   0   0   0   0   0   0   0   0  16  93 252\n",
            "  253 187   0   0   0   0   0   0   0   0]\n",
            " [  0   0   0   0   0   0   0   0   0   0   0   0   0   0   0   0   0 249\n",
            "  253 249  64   0   0   0   0   0   0   0]\n",
            " [  0   0   0   0   0   0   0   0   0   0   0   0   0   0  46 130 183 253\n",
            "  253 207   2   0   0   0   0   0   0   0]\n",
            " [  0   0   0   0   0   0   0   0   0   0   0   0  39 148 229 253 253 253\n",
            "  250 182   0   0   0   0   0   0   0   0]\n",
            " [  0   0   0   0   0   0   0   0   0   0  24 114 221 253 253 253 253 201\n",
            "   78   0   0   0   0   0   0   0   0   0]\n",
            " [  0   0   0   0   0   0   0   0  23  66 213 253 253 253 253 198  81   2\n",
            "    0   0   0   0   0   0   0   0   0   0]\n",
            " [  0   0   0   0   0   0  18 171 219 253 253 253 253 195  80   9   0   0\n",
            "    0   0   0   0   0   0   0   0   0   0]\n",
            " [  0   0   0   0  55 172 226 253 253 253 253 244 133  11   0   0   0   0\n",
            "    0   0   0   0   0   0   0   0   0   0]\n",
            " [  0   0   0   0 136 253 253 253 212 135 132  16   0   0   0   0   0   0\n",
            "    0   0   0   0   0   0   0   0   0   0]\n",
            " [  0   0   0   0   0   0   0   0   0   0   0   0   0   0   0   0   0   0\n",
            "    0   0   0   0   0   0   0   0   0   0]\n",
            " [  0   0   0   0   0   0   0   0   0   0   0   0   0   0   0   0   0   0\n",
            "    0   0   0   0   0   0   0   0   0   0]\n",
            " [  0   0   0   0   0   0   0   0   0   0   0   0   0   0   0   0   0   0\n",
            "    0   0   0   0   0   0   0   0   0   0]]\n"
          ],
          "name": "stdout"
        }
      ]
    },
    {
      "cell_type": "code",
      "metadata": {
        "colab": {
          "base_uri": "https://localhost:8080/",
          "height": 298
        },
        "id": "LJlQxLVrOQhS",
        "outputId": "f9041e2e-3385-44ac-966a-37fe98a8db46"
      },
      "source": [
        "# Visualizando como a imagem é utilizando MatPlotLib:\r\n",
        "\r\n",
        "indice = 12000\r\n",
        "print(\"A imagem representa:\", y_treino[indice])\r\n",
        "plt.imshow(x_treino[indice], cmap=plt.cm.binary)"
      ],
      "execution_count": 4,
      "outputs": [
        {
          "output_type": "stream",
          "text": [
            "A imagem representa: 7\n"
          ],
          "name": "stdout"
        },
        {
          "output_type": "execute_result",
          "data": {
            "text/plain": [
              "<matplotlib.image.AxesImage at 0x7f1611288c88>"
            ]
          },
          "metadata": {
            "tags": []
          },
          "execution_count": 4
        },
        {
          "output_type": "display_data",
          "data": {
            "image/png": "[encoded data removed]",
            "text/plain": [
              "<Figure size 432x288 with 1 Axes>"
            ]
          },
          "metadata": {
            "tags": [],
            "needs_background": "light"
          }
        }
      ]
    },
    {
      "cell_type": "markdown",
      "metadata": {
        "id": "5zVtLRKJO_57"
      },
      "source": [
        " ## Fluxo para construção de rede neural\r\n",
        "- Organizar a camada de entrada (input)\r\n",
        "- Organizar a camada de saída (output)\r\n",
        "- Estruturar a nossa rede neural\r\n",
        "- Treinar o modelo\r\n",
        "- Fazer as previsões"
      ]
    },
    {
      "cell_type": "markdown",
      "metadata": {
        "id": "kQtodWvwSOtm"
      },
      "source": [
        "## Achatando o Dataset:"
      ]
    },
    {
      "cell_type": "code",
      "metadata": {
        "id": "gNA_TStAPKlX"
      },
      "source": [
        "'''\r\n",
        "Achatando a matriz de pixels e transformando em uma única lista.\r\n",
        "Procure evitar criar muitas variáveis duplicadas, isso além de deixar seu\r\n",
        "notebook pesado, pode provocar confusão, \"nomear suas variáveis com sabedoria,\r\n",
        "você deve, pequeno padauan.\"\r\n",
        "'''\r\n",
        "\r\n",
        "quantidade_treino = len(x_treino) # 60000\r\n",
        "quantidade_teste = len(x_teste) # 10000\r\n",
        "\r\n",
        "resolucao_imagem = x_treino[0].shape # (28, 28)\r\n",
        "resolucao_total = resolucao_imagem[0] * resolucao_imagem[1] # 28 * 28 = 784\r\n",
        "\r\n",
        "x_treino = x_treino.reshape(quantidade_treino, resolucao_total)\r\n",
        "x_teste = x_teste.reshape(quantidade_teste, resolucao_total)"
      ],
      "execution_count": 5,
      "outputs": []
    },
    {
      "cell_type": "code",
      "metadata": {
        "colab": {
          "base_uri": "https://localhost:8080/"
        },
        "id": "zTfUrfAaPwVe",
        "outputId": "b3e60bd5-9063-4cdd-a74a-3e3eda4ab8c1"
      },
      "source": [
        "# Verificando como seu dataset ficou após o achatamento\r\n",
        "\r\n",
        "print(\"Quantidade de itens em x_treino[0]:\", len(x_treino[0]))\r\n",
        "\r\n",
        "# Como ficou x_treino[0]?\r\n",
        "print(x_treino[0])"
      ],
      "execution_count": 6,
      "outputs": [
        {
          "output_type": "stream",
          "text": [
            "Quantidade de itens em x_treino[0]: 784\n",
            "[  0   0   0   0   0   0   0   0   0   0   0   0   0   0   0   0   0   0\n",
            "   0   0   0   0   0   0   0   0   0   0   0   0   0   0   0   0   0   0\n",
            "   0   0   0   0   0   0   0   0   0   0   0   0   0   0   0   0   0   0\n",
            "   0   0   0   0   0   0   0   0   0   0   0   0   0   0   0   0   0   0\n",
            "   0   0   0   0   0   0   0   0   0   0   0   0   0   0   0   0   0   0\n",
            "   0   0   0   0   0   0   0   0   0   0   0   0   0   0   0   0   0   0\n",
            "   0   0   0   0   0   0   0   0   0   0   0   0   0   0   0   0   0   0\n",
            "   0   0   0   0   0   0   0   0   0   0   0   0   0   0   0   0   0   0\n",
            "   0   0   0   0   0   0   0   0   3  18  18  18 126 136 175  26 166 255\n",
            " 247 127   0   0   0   0   0   0   0   0   0   0   0   0  30  36  94 154\n",
            " 170 253 253 253 253 253 225 172 253 242 195  64   0   0   0   0   0   0\n",
            "   0   0   0   0   0  49 238 253 253 253 253 253 253 253 253 251  93  82\n",
            "  82  56  39   0   0   0   0   0   0   0   0   0   0   0   0  18 219 253\n",
            " 253 253 253 253 198 182 247 241   0   0   0   0   0   0   0   0   0   0\n",
            "   0   0   0   0   0   0   0   0  80 156 107 253 253 205  11   0  43 154\n",
            "   0   0   0   0   0   0   0   0   0   0   0   0   0   0   0   0   0   0\n",
            "   0  14   1 154 253  90   0   0   0   0   0   0   0   0   0   0   0   0\n",
            "   0   0   0   0   0   0   0   0   0   0   0   0   0 139 253 190   2   0\n",
            "   0   0   0   0   0   0   0   0   0   0   0   0   0   0   0   0   0   0\n",
            "   0   0   0   0   0  11 190 253  70   0   0   0   0   0   0   0   0   0\n",
            "   0   0   0   0   0   0   0   0   0   0   0   0   0   0   0   0  35 241\n",
            " 225 160 108   1   0   0   0   0   0   0   0   0   0   0   0   0   0   0\n",
            "   0   0   0   0   0   0   0   0   0  81 240 253 253 119  25   0   0   0\n",
            "   0   0   0   0   0   0   0   0   0   0   0   0   0   0   0   0   0   0\n",
            "   0   0  45 186 253 253 150  27   0   0   0   0   0   0   0   0   0   0\n",
            "   0   0   0   0   0   0   0   0   0   0   0   0   0  16  93 252 253 187\n",
            "   0   0   0   0   0   0   0   0   0   0   0   0   0   0   0   0   0   0\n",
            "   0   0   0   0   0   0   0 249 253 249  64   0   0   0   0   0   0   0\n",
            "   0   0   0   0   0   0   0   0   0   0   0   0   0   0  46 130 183 253\n",
            " 253 207   2   0   0   0   0   0   0   0   0   0   0   0   0   0   0   0\n",
            "   0   0   0   0  39 148 229 253 253 253 250 182   0   0   0   0   0   0\n",
            "   0   0   0   0   0   0   0   0   0   0   0   0  24 114 221 253 253 253\n",
            " 253 201  78   0   0   0   0   0   0   0   0   0   0   0   0   0   0   0\n",
            "   0   0  23  66 213 253 253 253 253 198  81   2   0   0   0   0   0   0\n",
            "   0   0   0   0   0   0   0   0   0   0  18 171 219 253 253 253 253 195\n",
            "  80   9   0   0   0   0   0   0   0   0   0   0   0   0   0   0   0   0\n",
            "  55 172 226 253 253 253 253 244 133  11   0   0   0   0   0   0   0   0\n",
            "   0   0   0   0   0   0   0   0   0   0 136 253 253 253 212 135 132  16\n",
            "   0   0   0   0   0   0   0   0   0   0   0   0   0   0   0   0   0   0\n",
            "   0   0   0   0   0   0   0   0   0   0   0   0   0   0   0   0   0   0\n",
            "   0   0   0   0   0   0   0   0   0   0   0   0   0   0   0   0   0   0\n",
            "   0   0   0   0   0   0   0   0   0   0   0   0   0   0   0   0   0   0\n",
            "   0   0   0   0   0   0   0   0   0   0   0   0   0   0   0   0   0   0\n",
            "   0   0   0   0   0   0   0   0   0   0]\n"
          ],
          "name": "stdout"
        }
      ]
    },
    {
      "cell_type": "markdown",
      "metadata": {
        "id": "DG8SwO-BSKHd"
      },
      "source": [
        "## Normalizando os Dados:"
      ]
    },
    {
      "cell_type": "code",
      "metadata": {
        "id": "uKw7t4KSQWC7"
      },
      "source": [
        "'''\r\n",
        "Normalização dos dados\r\n",
        "\r\n",
        "A ideia é manter os valores do modelo entre zero e um então, o \"255\" vira 1,\r\n",
        "\"127\" vira 0.5, 0 se mantém, mudando a escala.\r\n",
        "\r\n",
        "Converte toda a base de x_treino de uint_8 para float32, isso é necessário para\r\n",
        "atender a critérios da biblioteca. Podemos verificar isso na documentação\r\n",
        "técnica do Keras.\r\n",
        "'''\r\n",
        "x_treino = x_treino.astype('float32') \r\n",
        "x_teste = x_teste.astype('float32') \r\n",
        "\r\n",
        "'''\r\n",
        "Dividimos todos os 60000 valores de x_treino por 255 e armazenamos os resultados\r\n",
        "em x_treino novamente, evitando criar novas variáveis inúteis.\r\n",
        "'''\r\n",
        "x_treino /= 255\r\n",
        "'''\r\n",
        "E fazemos o mesmo com x_teste dividindo todos os 10000 valores de x_teste por\r\n",
        "255 e armazenamos os resultados em x_teste novamente.\r\n",
        "'''\r\n",
        "x_teste /= 255 "
      ],
      "execution_count": 7,
      "outputs": []
    },
    {
      "cell_type": "code",
      "metadata": {
        "colab": {
          "base_uri": "https://localhost:8080/"
        },
        "id": "7EnLNnRsSFhJ",
        "outputId": "f141676c-edfc-44f2-f855-7b7e2e65c9ea"
      },
      "source": [
        "'''\r\n",
        "Acessamos a primeira imagem, disponível em x_treino[0], e depois exibimos qual o\r\n",
        "valor está no pixel 350 da imagem.\r\n",
        "Lembrando que cada linha possui 28 pixels (0-27), portanto ao acessar o índice \r\n",
        "28, estamos acessando o 1º pixel da segunda linha.\r\n",
        "'''\r\n",
        "\r\n",
        "print('valor está em x_treino[0] no pixel 350 da imagem:', x_treino[0][350],\r\n",
        "      type(x_treino[0][350]))\r\n",
        "print(x_treino[0])"
      ],
      "execution_count": 8,
      "outputs": [
        {
          "output_type": "stream",
          "text": [
            "valor está em x_treino[0] no pixel 350 da imagem: 0.27450982 <class 'numpy.float32'>\n",
            "[0.         0.         0.         0.         0.         0.\n",
            " 0.         0.         0.         0.         0.         0.\n",
            " 0.         0.         0.         0.         0.         0.\n",
            " 0.         0.         0.         0.         0.         0.\n",
            " 0.         0.         0.         0.         0.         0.\n",
            " 0.         0.         0.         0.         0.         0.\n",
            " 0.         0.         0.         0.         0.         0.\n",
            " 0.         0.         0.         0.         0.         0.\n",
            " 0.         0.         0.         0.         0.         0.\n",
            " 0.         0.         0.         0.         0.         0.\n",
            " 0.         0.         0.         0.         0.         0.\n",
            " 0.         0.         0.         0.         0.         0.\n",
            " 0.         0.         0.         0.         0.         0.\n",
            " 0.         0.         0.         0.         0.         0.\n",
            " 0.         0.         0.         0.         0.         0.\n",
            " 0.         0.         0.         0.         0.         0.\n",
            " 0.         0.         0.         0.         0.         0.\n",
            " 0.         0.         0.         0.         0.         0.\n",
            " 0.         0.         0.         0.         0.         0.\n",
            " 0.         0.         0.         0.         0.         0.\n",
            " 0.         0.         0.         0.         0.         0.\n",
            " 0.         0.         0.         0.         0.         0.\n",
            " 0.         0.         0.         0.         0.         0.\n",
            " 0.         0.         0.         0.         0.         0.\n",
            " 0.         0.         0.         0.         0.         0.\n",
            " 0.         0.         0.01176471 0.07058824 0.07058824 0.07058824\n",
            " 0.49411765 0.53333336 0.6862745  0.10196079 0.6509804  1.\n",
            " 0.96862745 0.49803922 0.         0.         0.         0.\n",
            " 0.         0.         0.         0.         0.         0.\n",
            " 0.         0.         0.11764706 0.14117648 0.36862746 0.6039216\n",
            " 0.6666667  0.99215686 0.99215686 0.99215686 0.99215686 0.99215686\n",
            " 0.88235295 0.6745098  0.99215686 0.9490196  0.7647059  0.2509804\n",
            " 0.         0.         0.         0.         0.         0.\n",
            " 0.         0.         0.         0.         0.         0.19215687\n",
            " 0.93333334 0.99215686 0.99215686 0.99215686 0.99215686 0.99215686\n",
            " 0.99215686 0.99215686 0.99215686 0.9843137  0.3647059  0.32156864\n",
            " 0.32156864 0.21960784 0.15294118 0.         0.         0.\n",
            " 0.         0.         0.         0.         0.         0.\n",
            " 0.         0.         0.         0.07058824 0.85882354 0.99215686\n",
            " 0.99215686 0.99215686 0.99215686 0.99215686 0.7764706  0.7137255\n",
            " 0.96862745 0.94509804 0.         0.         0.         0.\n",
            " 0.         0.         0.         0.         0.         0.\n",
            " 0.         0.         0.         0.         0.         0.\n",
            " 0.         0.         0.3137255  0.6117647  0.41960785 0.99215686\n",
            " 0.99215686 0.8039216  0.04313726 0.         0.16862746 0.6039216\n",
            " 0.         0.         0.         0.         0.         0.\n",
            " 0.         0.         0.         0.         0.         0.\n",
            " 0.         0.         0.         0.         0.         0.\n",
            " 0.         0.05490196 0.00392157 0.6039216  0.99215686 0.3529412\n",
            " 0.         0.         0.         0.         0.         0.\n",
            " 0.         0.         0.         0.         0.         0.\n",
            " 0.         0.         0.         0.         0.         0.\n",
            " 0.         0.         0.         0.         0.         0.\n",
            " 0.         0.54509807 0.99215686 0.74509805 0.00784314 0.\n",
            " 0.         0.         0.         0.         0.         0.\n",
            " 0.         0.         0.         0.         0.         0.\n",
            " 0.         0.         0.         0.         0.         0.\n",
            " 0.         0.         0.         0.         0.         0.04313726\n",
            " 0.74509805 0.99215686 0.27450982 0.         0.         0.\n",
            " 0.         0.         0.         0.         0.         0.\n",
            " 0.         0.         0.         0.         0.         0.\n",
            " 0.         0.         0.         0.         0.         0.\n",
            " 0.         0.         0.         0.         0.13725491 0.94509804\n",
            " 0.88235295 0.627451   0.42352942 0.00392157 0.         0.\n",
            " 0.         0.         0.         0.         0.         0.\n",
            " 0.         0.         0.         0.         0.         0.\n",
            " 0.         0.         0.         0.         0.         0.\n",
            " 0.         0.         0.         0.31764707 0.9411765  0.99215686\n",
            " 0.99215686 0.46666667 0.09803922 0.         0.         0.\n",
            " 0.         0.         0.         0.         0.         0.\n",
            " 0.         0.         0.         0.         0.         0.\n",
            " 0.         0.         0.         0.         0.         0.\n",
            " 0.         0.         0.1764706  0.7294118  0.99215686 0.99215686\n",
            " 0.5882353  0.10588235 0.         0.         0.         0.\n",
            " 0.         0.         0.         0.         0.         0.\n",
            " 0.         0.         0.         0.         0.         0.\n",
            " 0.         0.         0.         0.         0.         0.\n",
            " 0.         0.0627451  0.3647059  0.9882353  0.99215686 0.73333335\n",
            " 0.         0.         0.         0.         0.         0.\n",
            " 0.         0.         0.         0.         0.         0.\n",
            " 0.         0.         0.         0.         0.         0.\n",
            " 0.         0.         0.         0.         0.         0.\n",
            " 0.         0.9764706  0.99215686 0.9764706  0.2509804  0.\n",
            " 0.         0.         0.         0.         0.         0.\n",
            " 0.         0.         0.         0.         0.         0.\n",
            " 0.         0.         0.         0.         0.         0.\n",
            " 0.         0.         0.18039216 0.50980395 0.7176471  0.99215686\n",
            " 0.99215686 0.8117647  0.00784314 0.         0.         0.\n",
            " 0.         0.         0.         0.         0.         0.\n",
            " 0.         0.         0.         0.         0.         0.\n",
            " 0.         0.         0.         0.         0.15294118 0.5803922\n",
            " 0.8980392  0.99215686 0.99215686 0.99215686 0.98039216 0.7137255\n",
            " 0.         0.         0.         0.         0.         0.\n",
            " 0.         0.         0.         0.         0.         0.\n",
            " 0.         0.         0.         0.         0.         0.\n",
            " 0.09411765 0.44705883 0.8666667  0.99215686 0.99215686 0.99215686\n",
            " 0.99215686 0.7882353  0.30588236 0.         0.         0.\n",
            " 0.         0.         0.         0.         0.         0.\n",
            " 0.         0.         0.         0.         0.         0.\n",
            " 0.         0.         0.09019608 0.25882354 0.8352941  0.99215686\n",
            " 0.99215686 0.99215686 0.99215686 0.7764706  0.31764707 0.00784314\n",
            " 0.         0.         0.         0.         0.         0.\n",
            " 0.         0.         0.         0.         0.         0.\n",
            " 0.         0.         0.         0.         0.07058824 0.67058825\n",
            " 0.85882354 0.99215686 0.99215686 0.99215686 0.99215686 0.7647059\n",
            " 0.3137255  0.03529412 0.         0.         0.         0.\n",
            " 0.         0.         0.         0.         0.         0.\n",
            " 0.         0.         0.         0.         0.         0.\n",
            " 0.21568628 0.6745098  0.8862745  0.99215686 0.99215686 0.99215686\n",
            " 0.99215686 0.95686275 0.52156866 0.04313726 0.         0.\n",
            " 0.         0.         0.         0.         0.         0.\n",
            " 0.         0.         0.         0.         0.         0.\n",
            " 0.         0.         0.         0.         0.53333336 0.99215686\n",
            " 0.99215686 0.99215686 0.83137256 0.5294118  0.5176471  0.0627451\n",
            " 0.         0.         0.         0.         0.         0.\n",
            " 0.         0.         0.         0.         0.         0.\n",
            " 0.         0.         0.         0.         0.         0.\n",
            " 0.         0.         0.         0.         0.         0.\n",
            " 0.         0.         0.         0.         0.         0.\n",
            " 0.         0.         0.         0.         0.         0.\n",
            " 0.         0.         0.         0.         0.         0.\n",
            " 0.         0.         0.         0.         0.         0.\n",
            " 0.         0.         0.         0.         0.         0.\n",
            " 0.         0.         0.         0.         0.         0.\n",
            " 0.         0.         0.         0.         0.         0.\n",
            " 0.         0.         0.         0.         0.         0.\n",
            " 0.         0.         0.         0.         0.         0.\n",
            " 0.         0.         0.         0.         0.         0.\n",
            " 0.         0.         0.         0.         0.         0.\n",
            " 0.         0.         0.         0.         0.         0.\n",
            " 0.         0.         0.         0.        ]\n"
          ],
          "name": "stdout"
        }
      ]
    },
    {
      "cell_type": "markdown",
      "metadata": {
        "id": "t6GhN-RzTUDx"
      },
      "source": [
        "## Preparando a camada de saída do modelo:\r\n",
        "\r\n",
        "Preparação da camada de saída (output):\r\n",
        "\r\n",
        "- Quais são as possibilidades de saída? Números de 0 a 9\r\n",
        "- Quantos itens temos? 10 itens\r\n",
        "- Números  -> [0, 1, 2, 3, 4, 5, 6, 7, 8, 9]\r\n",
        "- Número 0 -> [1, 0, 0, 0, 0, 0, 0, 0, 0, 0]\r\n",
        "- Número 1 -> [0, 1, 0, 0, 0, 0, 0, 0, 0, 0]\r\n",
        "- Número 9 -> [0, 0, 0, 0, 0, 0, 0, 0, 0, 1]"
      ]
    },
    {
      "cell_type": "code",
      "metadata": {
        "colab": {
          "base_uri": "https://localhost:8080/"
        },
        "id": "JB_KJKS9TR8w",
        "outputId": "fc8cf2ff-0705-4052-ac17-24931bcc381f"
      },
      "source": [
        "valores_unicos = set(y_treino) # {0, 1, 2, 3, 4, 5, 6, 7, 8, 9}\r\n",
        "print(valores_unicos)\r\n",
        "\r\n",
        "quantidade_valores_unicos = len(valores_unicos) # 10\r\n",
        "print(quantidade_valores_unicos)\r\n",
        "\r\n",
        "print(\"y_treino[0] antes:\", y_treino[0])\r\n",
        "\r\n",
        "y_treino = keras.utils.to_categorical(y_treino, quantidade_valores_unicos)\r\n",
        "y_teste = keras.utils.to_categorical(y_teste, quantidade_valores_unicos)\r\n",
        "\r\n",
        "print(\"y_treino[0] depois:\", y_treino[0])"
      ],
      "execution_count": 9,
      "outputs": [
        {
          "output_type": "stream",
          "text": [
            "{0, 1, 2, 3, 4, 5, 6, 7, 8, 9}\n",
            "10\n",
            "y_treino[0] antes: 5\n",
            "y_treino[0] depois: [0. 0. 0. 0. 0. 1. 0. 0. 0. 0.]\n"
          ],
          "name": "stdout"
        }
      ]
    },
    {
      "cell_type": "markdown",
      "metadata": {
        "id": "MmjiRHKYTyo4"
      },
      "source": [
        "## Criando o modelo de rede neural sequêncial:\r\n",
        "\r\n",
        "Primeira hidden layer:\r\n",
        "-  30 neurônios;\r\n",
        "- Função de ativação: ReLU;\r\n",
        "- Como estamos na primeira hidden layer, precisamos informar o formato da camada de entrada (input), lembrando que esse precisa estar em formato de tupla.\r\n",
        "\r\n",
        "Adicionamos um regularizador (bias) nessa primeira camada, que ajuda a evitar o overfitting. No caso, será o Dropout.\r\n",
        "\r\n",
        "Segunda hidden layer:\r\n",
        "- 20 neurônios\r\n",
        "- Função de ativação: ReLU\r\n",
        "\r\n",
        "Adicionamos um regularizador para segunda hidden layer.\r\n",
        "\r\n",
        "Finalizamos com a camada de saída (output), informando a quantidade de valores únicos que, no caso, é 10, de 0 a 9.\r\n",
        "\r\n",
        "Função de ativação: Como ReLU deve usada apenas nas hidden layers, pois não performa bem nessa camada de ativação, iremos utilizar a função Softmax."
      ]
    },
    {
      "cell_type": "code",
      "metadata": {
        "colab": {
          "base_uri": "https://localhost:8080/"
        },
        "id": "pJ4pFnTET5Hq",
        "outputId": "2e33c669-762a-4ae1-dd16-ae7d20b68324"
      },
      "source": [
        "model = Sequential() # Criando o modelo da rede neural\r\n",
        "\r\n",
        "\r\n",
        "#Primeira hidden layer:\r\n",
        "model.add(Dense(30, activation='relu', input_shape=(resolucao_total,)))\r\n",
        "\r\n",
        "#Adicionando um regularidor (bias) na primeira camada:\r\n",
        "model.add(Dropout(0.2))\r\n",
        "\r\n",
        "# Segunda hidden layer:\r\n",
        "model.add(Dense(20, activation='relu'))\r\n",
        "\r\n",
        "# Adicionando o regularizador para a segunda camada:\r\n",
        "model.add(Dropout(0.2))\r\n",
        "\r\n",
        "#Adicionando a última camada:\r\n",
        "model.add(Dense(quantidade_valores_unicos, activation='softmax'))\r\n",
        "\r\n",
        "# Exibe o resumo do modelo criado\r\n",
        "model.summary()"
      ],
      "execution_count": 10,
      "outputs": [
        {
          "output_type": "stream",
          "text": [
            "Model: \"sequential\"\n",
            "_________________________________________________________________\n",
            "Layer (type)                 Output Shape              Param #   \n",
            "=================================================================\n",
            "dense (Dense)                (None, 30)                23550     \n",
            "_________________________________________________________________\n",
            "dropout (Dropout)            (None, 30)                0         \n",
            "_________________________________________________________________\n",
            "dense_1 (Dense)              (None, 20)                620       \n",
            "_________________________________________________________________\n",
            "dropout_1 (Dropout)          (None, 20)                0         \n",
            "_________________________________________________________________\n",
            "dense_2 (Dense)              (None, 10)                210       \n",
            "=================================================================\n",
            "Total params: 24,380\n",
            "Trainable params: 24,380\n",
            "Non-trainable params: 0\n",
            "_________________________________________________________________\n"
          ],
          "name": "stdout"
        }
      ]
    },
    {
      "cell_type": "markdown",
      "metadata": {
        "id": "IfusayeyYzv5"
      },
      "source": [
        "## Compilando e treinando o modelo:\r\n",
        "Precisamos informar qual será:\r\n",
        "- A função de erro;\r\n",
        "- O algoritmo de backpropagation, importado junto com as bibliotecas;\r\n",
        "- Os Dados para Treino (imagens normalizadas e labels categorizadas);\r\n",
        "- Os Dados para Teste (imagens normalizadas e labels categorizadas);\r\n",
        "- A quantidade de épocas que queremos rodar (sendo 1 época equivalente a analisar TODAS as imagens de treino);\r\n",
        "- O Tamanho de cada 'batch':\r\n",
        "> Supondo que temos 100 imagens, pode ser muito pesado para processar de uma única vez, portanto, quebramos em 'batches' de 10 imagens, cada, e processamos 10 imagens por vez, geralmente, o tamanho dos batches deve ser potência de 2 (2, 4, 8, 16, 32, 64, 128, ...), para melhorar performance."
      ]
    },
    {
      "cell_type": "code",
      "metadata": {
        "colab": {
          "base_uri": "https://localhost:8080/"
        },
        "id": "4HWDiJZAaB_q",
        "outputId": "cf785584-b88d-478c-8160-5f27d56cfe86"
      },
      "source": [
        "# Compilamos o modelo:\r\n",
        "\r\n",
        "model.compile(loss='categorical_crossentropy',\r\n",
        "              optimizer=RMSprop(),\r\n",
        "              metrics=['accuracy'])\r\n",
        "\r\n",
        "# Treinamos o modelo (verbose serve para vizualizar o treinamento):\r\n",
        "\r\n",
        "history = model.fit(x_treino, y_treino,\r\n",
        "                    batch_size=128,\r\n",
        "                    epochs=10,\r\n",
        "                    verbose=1,\r\n",
        "                    validation_data=(x_teste, y_teste))"
      ],
      "execution_count": 11,
      "outputs": [
        {
          "output_type": "stream",
          "text": [
            "Epoch 1/10\n",
            "469/469 [==============================] - 2s 3ms/step - loss: 1.2531 - accuracy: 0.5870 - val_loss: 0.3122 - val_accuracy: 0.9128\n",
            "Epoch 2/10\n",
            "469/469 [==============================] - 1s 2ms/step - loss: 0.5176 - accuracy: 0.8418 - val_loss: 0.2525 - val_accuracy: 0.9256\n",
            "Epoch 3/10\n",
            "469/469 [==============================] - 1s 2ms/step - loss: 0.4156 - accuracy: 0.8737 - val_loss: 0.2212 - val_accuracy: 0.9352\n",
            "Epoch 4/10\n",
            "469/469 [==============================] - 1s 2ms/step - loss: 0.3687 - accuracy: 0.8897 - val_loss: 0.2024 - val_accuracy: 0.9403\n",
            "Epoch 5/10\n",
            "469/469 [==============================] - 1s 2ms/step - loss: 0.3398 - accuracy: 0.8966 - val_loss: 0.1912 - val_accuracy: 0.9440\n",
            "Epoch 6/10\n",
            "469/469 [==============================] - 1s 2ms/step - loss: 0.3222 - accuracy: 0.9034 - val_loss: 0.1808 - val_accuracy: 0.9480\n",
            "Epoch 7/10\n",
            "469/469 [==============================] - 1s 2ms/step - loss: 0.3031 - accuracy: 0.9084 - val_loss: 0.1776 - val_accuracy: 0.9484\n",
            "Epoch 8/10\n",
            "469/469 [==============================] - 1s 2ms/step - loss: 0.2877 - accuracy: 0.9144 - val_loss: 0.1684 - val_accuracy: 0.9529\n",
            "Epoch 9/10\n",
            "469/469 [==============================] - 1s 2ms/step - loss: 0.2840 - accuracy: 0.9151 - val_loss: 0.1691 - val_accuracy: 0.9519\n",
            "Epoch 10/10\n",
            "469/469 [==============================] - 1s 2ms/step - loss: 0.2822 - accuracy: 0.9165 - val_loss: 0.1654 - val_accuracy: 0.9531\n"
          ],
          "name": "stdout"
        }
      ]
    },
    {
      "cell_type": "markdown",
      "metadata": {
        "id": "TozoqLMcaYl6"
      },
      "source": [
        "## Lendo imagens de teste:\r\n",
        "\r\n",
        "Como o model.predict aceita mais de uma imagem ao mesmo tempo e queremos apenas analisar uma imagem, precisamos fazer um reshape, em que [0, 0, 0, 0], vira [[0, 0, 0, 0]]\r\n",
        "\r\n",
        "Fazemos a previsão da imagem, porém o retorno é de uma série, que fica difícil de ler, contudo o valor mais provável da imagem será o mais alto, ou o que se aproxima mais de 1, lembrando que os valores estão normalizados.\r\n",
        "\r\n",
        "Transformamos então a previsão em algo que conseguimos entender de forma mais fácil, utilizando o Numpy. Convertemos a previsão que está em porcentagens, pegando o maior valor disponível da lista.\r\n",
        "\r\n",
        "Recarregamos o MNIST e exibimos a imagem original usando o matplotlib carregado anteriormente para comparar se o número foi lido corretamente pelo modelo."
      ]
    },
    {
      "cell_type": "code",
      "metadata": {
        "colab": {
          "base_uri": "https://localhost:8080/",
          "height": 349
        },
        "id": "0KMsPuwHb3XO",
        "outputId": "0ed9ecf8-89ca-4855-a604-7ca56c94d3c7"
      },
      "source": [
        "'''\r\n",
        "O índice serve para alterarmos a imagem de teste que queremos ler com o modelo.\r\n",
        "'''\r\n",
        "indice = 7503\r\n",
        "\r\n",
        "print(\"Valor categórico em y_teste[indice]:\", y_teste[indice])\r\n",
        "\r\n",
        "# Reshape da imagem:\r\n",
        "imagem = x_teste[indice].reshape((1, resolucao_total))\r\n",
        "\r\n",
        "# Fazemos a previsão da imagem:\r\n",
        "prediction = model.predict(imagem)\r\n",
        "print(\"Previsão:\", prediction)\r\n",
        "\r\n",
        "# Transformando a previsão em algo mais fácil de entender:\r\n",
        "prediction_class = np.argmax(prediction, axis=-1)\r\n",
        "print(\"Previsão ajustada:\", prediction_class)\r\n",
        "\r\n",
        "'''\r\n",
        "Recarregamos o MNIST e exibimos a imagem original usando o matplotlib carregado \r\n",
        "anteriormente, lembrando que durante :\r\n",
        "'''\r\n",
        "(x_treino_img, y_treino_img), (x_teste_img, y_teste_img) = mnist.load_data()\r\n",
        "plt.imshow(x_teste_img[indice], cmap=plt.cm.binary);"
      ],
      "execution_count": 12,
      "outputs": [
        {
          "output_type": "stream",
          "text": [
            "Valor categórico em y_teste[indice]: [0. 0. 0. 0. 0. 0. 1. 0. 0. 0.]\n",
            "Previsão: [[1.68704182e-01 5.26821781e-11 1.20880827e-03 2.04211597e-06\n",
            "  8.93023480e-06 3.48912142e-02 7.93975174e-01 1.98096051e-09\n",
            "  1.19932985e-03 1.03737075e-05]]\n",
            "Previsão ajustada: [6]\n"
          ],
          "name": "stdout"
        },
        {
          "output_type": "display_data",
          "data": {
            "image/png": "[encoded data removed]",
            "text/plain": [
              "<Figure size 432x288 with 1 Axes>"
            ]
          },
          "metadata": {
            "tags": [],
            "needs_background": "light"
          }
        }
      ]
    }
  ]
}