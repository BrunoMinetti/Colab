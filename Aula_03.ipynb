{
  "nbformat": 4,
  "nbformat_minor": 0,
  "metadata": {
    "colab": {
      "name": "Aula 03.ipynb",
      "provenance": [],
      "collapsed_sections": [],
      "authorship_tag": "ABX9TyOkBfKk2cSwXDf9qSMDo0xP",
      "include_colab_link": true
    },
    "kernelspec": {
      "name": "python3",
      "display_name": "Python 3"
    }
  },
  "cells": [
    {
      "cell_type": "markdown",
      "metadata": {
        "id": "view-in-github",
        "colab_type": "text"
      },
      "source": [
        "<a href=\"https://colab.research.google.com/github/BrunoMinetti/Colab/blob/main/Aula_03.ipynb\" target=\"_parent\"><img src=\"https://colab.research.google.com/assets/colab-badge.svg\" alt=\"Open In Colab\"/></a>"
      ]
    },
    {
      "cell_type": "code",
      "metadata": {
        "id": "hPykbE-LevSE",
        "outputId": "144d5421-5308-4b9d-c141-e351b2ff4cd9",
        "colab": {
          "base_uri": "https://localhost:8080/",
          "height": 641
        }
      },
      "source": [
        "from helpers import top_noticias, todas_noticias\n",
        "\n",
        "print(\"===COLETOR NOTÍCIAS VIA API - NEWSAPI.ORG===\")\n",
        "print()\n",
        "print(\"Por favor, insira as informações solicitadas abaixo\")\n",
        "pais = input(\"Insira o país da notícia (us, br): \")\n",
        "pesquisa = input(\"Insira o que pesquisar (palavra ou frase): \")\n",
        "fonte = input(\"Insira a fonte (globo, google-news-br): \")\n",
        "categoria = input(\"Indira a categoria (business, general): \")\n",
        "\n",
        "#Chamando a função\n",
        "print()\n",
        "print()\n",
        "\n",
        "noticias = top_noticias(pais, pesquisa=pesquisa)\n",
        "print(f\" *** Listando as Top Notícias do País - {pais.upper()} *** \")\n",
        "if noticias:\n",
        "    for numero in range(len(noticias)):\n",
        "        print(f\"{numero + 1} - {noticias[numero]}\")\n",
        "else:\n",
        "    print(\"Não encontrei notícias com as opções informada!\")\n",
        "\n",
        "print()\n",
        "print()\n",
        "\n",
        "todas_noticias = todas_noticias(pesquisa, lingua='pt')\n",
        "print(f\" *** Listando as Todas Notícias do País - {pais.upper()} *** \")\n",
        "if todas_noticias:\n",
        "    for numero in range(len(todas_noticias)):\n",
        "        print(f\"{numero + 1} - {todas_noticias[numero]}\")\n",
        "else:\n",
        "    print(\"Não encontrei notícias com as opções informada!\")"
      ],
      "execution_count": 4,
      "outputs": [
        {
          "output_type": "stream",
          "text": [
            "===COLETOR NOTÍCIAS VIA API - NEWSAPI.ORG===\n",
            "\n",
            "Por favor, insira as informações solicitadas abaixo\n",
            "Insira o país da notícia (us, br): us\n",
            "Insira o que pesquisar (palavra ou frase): hurricane\n",
            "Insira a fonte (globo, google-news-br): \n",
            "Indira a categoria (business, general): \n",
            "\n",
            "\n",
            " *** Listando as Top Notícias do País - US *** \n",
            "1 - Hurricane Delta's Winds Hit 115 MPH As Storm Approaches Louisiana Coast - NPR, URL: https://www.npr.org/2020/10/09/922148939/hurricane-deltas-winds-hit-120-mph-as-storm-approaches-louisiana-coast, Publicado em: 2020-10-09T14:19:50Z\n",
            "\n",
            "\n",
            " *** Listando as Todas Notícias do País - US *** \n",
            "1 - Portugal na rota do ciclone subtropical Alpha nas próximas horas, URL: https://www.jn.pt/nacional/portugal-na-rota-do-ciclone-subtropical-alpha-nas-proximas-horas-12738159.html, Publicado em: 2020-09-18T18:08:55Z\n",
            "2 - Passagem de ciclone Alpha coloca distritos de Leiria e Coimbra em alerta laranja, URL: https://www.cmjornal.pt/sociedade/clima/detalhe/mau-tempo--passagem-de-ciclone-alpha-coloca-distritos-de-leiria-e-coimbra-em-alerta-laranja, Publicado em: 2020-09-18T17:25:12Z\n",
            "3 - Todos os distritos do continente sob aviso amarelo devido à chuva, URL: https://www.jn.pt/nacional/todos-os-distritos-do-continente-sob-aviso-amarelo-devido-a-chuva-12731692.html, Publicado em: 2020-09-17T06:55:02Z\n",
            "4 - Há 5 ciclones tropicais ativos no Atlântico. É a segunda vez na história, não acontecia desde 1971 e dois podem vir a ser super furacões, URL: https://observador.pt/2020/09/14/ha-5-ciclones-tropicais-ativos-no-atlantico-e-a-segunda-vez-na-historia-nao-acontecia-desde-1971-e-dois-podem-vir-a-ser-super-furacoes/, Publicado em: 2020-09-14T22:18:19Z\n",
            "5 - Todos os distritos do continente sob aviso amarelo devido à chuva, URL: https://expresso.pt/sociedade/2020-09-17-Todos-os-distritos-do-continente-sob-aviso-amarelo-devido-a-chuva, Publicado em: 2020-09-17T07:45:08Z\n",
            "6 - Portugal pode ser afetado por ciclone. Leiria e Coimbra sob aviso laranja, URL: https://www.dn.pt/pais/portugal-pode-ser-afetado-por-ciclone-leiria-e-coimbra-sob-aviso-laranja-12738232.html, Publicado em: 2020-09-18T18:39:15Z\n",
            "7 - Você lembra o que estava fazendo em 11 de setembro de 2001?, URL: https://catracalivre.com.br/entretenimento/voce-lembra-o-que-estava-fazendo-em-11-de-setembro-de-2001/, Publicado em: 2020-09-11T20:37:22Z\n",
            "8 - Furacão Paulette deverá passar pelos Açores como tempestade pós-tropical, URL: https://observador.pt/2020/09/15/furacao-paulette-devera-passar-pelos-acores-como-tempestade-pos-tropical/, Publicado em: 2020-09-15T17:43:04Z\n",
            "9 - Sin Avenue: Banda disponibiliza videoclipe para a música \"Say Goodbye To Yesterday\", URL: https://whiplash.net/materias/news_739/324640-sinavenue.html, Publicado em: 2020-09-19T20:32:00Z\n",
            "10 - Grécia prepara-se para enfrentar rara tempestade equiparada a furacão, URL: https://www.tsf.pt/mundo/grecia-prepara-se-enfrentar-rara-tempestade-equiparada-a-furacao-12736023.html, Publicado em: 2020-09-18T08:51:00Z\n",
            "11 - Depressão traz chuva intensa, vento forte e trovoada a todos os distritos do continente, URL: https://www.tsf.pt/portugal/sociedade/depressao-traz-chuva-intensa-vento-forte-e-trovoada-aodos-os-distritos-do-continente-12731691.html, Publicado em: 2020-09-17T06:42:00Z\n",
            "12 - Todos os distritos do continente sob aviso amarelo devido à chuva, URL: https://www.cmjornal.pt/sociedade/detalhe/20200917-0723-todos-os-distritos-do-continente-sob-aviso-amarelo-devido-a-chuva, Publicado em: 2020-09-17T06:23:34Z\n",
            "13 - A segunda caixa de Neil Young, URL: http://trabalhosujo.com.br/segunda-caixa-de-neil-young/, Publicado em: 2020-09-21T18:55:49Z\n",
            "14 - Tempestade tropical Paulette despertou novamente, atinge Açores e dirige-se para a Madeira, URL: https://observador.pt/2020/09/22/tempestade-tropical-paulette-despertou-novamente-atinge-acores-e-dirige-se-para-a-madeira/, Publicado em: 2020-09-22T12:58:18Z\n",
            "15 - Fenómenos meteorológicos em Beja e Palmela ocorreram devido a supercélulas, URL: https://www.tsf.pt/portugal/sociedade/fenomenos-meteorologicos-em-beja-e-palmela-ocorreram-devido-a-supercelulas-12737802.html, Publicado em: 2020-09-18T17:45:00Z\n",
            "16 - Odette e Alpha. Saiba como se escolhem os nomes das tempestades que atingiram Portugal, URL: https://greensavers.sapo.pt/odette-e-alpha-saiba-como-se-escolhem-os-nomes-das-tempestades-que-atingiram-portugal/, Publicado em: 2020-09-19T20:00:21Z\n",
            "17 - Vem aí chuva e descida da temperatura: todos os distritos do continente estão sob aviso amarelo, URL: https://www.publico.pt/2020/09/17/sociedade/noticia/vem-ai-chuva-descida-temperatura-distritos-continente-estao-aviso-amarelo-1931862, Publicado em: 2020-09-17T08:33:31Z\n",
            "18 - CDS #580 – Corporate Cannibal (Grace Jones), URL: https://www.baconfrito.com/cds-580-corporate-cannibal-grace-jones.html, Publicado em: 2020-10-04T03:00:49Z\n",
            "19 - Da Filomena ao Rodrigo: são estes os nomes escolhidos para as próximas tempestades, URL: https://greensavers.sapo.pt/da-filomena-ao-rodrigo-sao-estes-os-nomes-escolhidos-para-as-proximas-tempestades/, Publicado em: 2020-09-30T10:39:24Z\n",
            "20 - Todas as manobras de Tony Hawk's Pro Skater 1+2 [Tricks List], URL: https://tecnoblog.net/363169/todas-as-manobras-de-tony-hawks-pro-skater-12-tricks-list/, Publicado em: 2020-09-14T22:02:01Z\n"
          ],
          "name": "stdout"
        }
      ]
    }
  ]
}