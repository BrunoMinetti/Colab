{
  "nbformat": 4,
  "nbformat_minor": 0,
  "metadata": {
    "colab": {
      "name": "EstruturaDados_AulaPratica.ipynb",
      "provenance": [],
      "collapsed_sections": [],
      "authorship_tag": "ABX9TyOcP3AV7giiPHUiFgLz9Ylq",
      "include_colab_link": true
    },
    "kernelspec": {
      "name": "python3",
      "display_name": "Python 3"
    }
  },
  "cells": [
    {
      "cell_type": "markdown",
      "metadata": {
        "id": "view-in-github",
        "colab_type": "text"
      },
      "source": [
        "<a href=\"https://colab.research.google.com/github/BrunoMinetti/Colab/blob/main/EstruturaDados_AulaPratica.ipynb\" target=\"_parent\"><img src=\"https://colab.research.google.com/assets/colab-badge.svg\" alt=\"Open In Colab\"/></a>"
      ]
    },
    {
      "cell_type": "markdown",
      "metadata": {
        "id": "bIc9x2XEErUN"
      },
      "source": [
        "# Faculdade Impacta de Tecnologia\n",
        "# Análise e Desenvolvimento de Sistemas\n",
        "Curso de Estrutura de Dados\n",
        "\n",
        "Prof. Samuel Plaça de Paula \n",
        "\n",
        "Aluno: Bruno Cesar Minetti Sanches (ouvinte)\n"
      ]
    },
    {
      "cell_type": "markdown",
      "metadata": {
        "id": "KP19YjIYWt8B"
      },
      "source": [
        "'#EstruturaDeDados #Programação #CodigoFonte\n",
        "Estrutura de Dados (A famoso ED que todo dev tem que aprender) // Dicionário do Programador\n",
        "Link: https://www.youtube.com/watch?v=EfF1M7myAyY&t=10s"
      ]
    },
    {
      "cell_type": "markdown",
      "metadata": {
        "id": "f9ATbtSykvea"
      },
      "source": [
        "#Aula1\n",
        "##Eficiência de algoritmos\n",
        "Análise de tempo de execução\n",
        "\n",
        "Pergunta chave: \n",
        "- Como é que esse algoritmo é impactado pelo aumento da quantidade de dados? Conforme vou trabalhando com mais dados, o que acontece?\n",
        "\n",
        "A função **max()** é **O(N)**, pois ela exigem que seja percorrida todos os elementos da lista para verificar qual é o maior, ou seja custa **N** passos, linear.\n",
        "\n",
        "Já a função append, tem custo **O(1)**, ou seja não importa qual seja o tamanho da listas o custo será **1** passo, constante.\n",
        "\n",
        "Links:\n",
        "https://youtu.be/gDkaX4Ay9wE\n",
        "https://youtu.be/rcB208bHnK8"
      ]
    },
    {
      "cell_type": "code",
      "metadata": {
        "id": "MkhWZ7ZSsPJ7"
      },
      "source": [
        "def valor_maximo(lista):\n",
        "    maximo = 0\n",
        "    for valor in lista:\n",
        "        if (valor > maximo):\n",
        "            maximo = valor\n",
        "    return maximo"
      ],
      "execution_count": null,
      "outputs": []
    },
    {
      "cell_type": "code",
      "metadata": {
        "id": "K6TgBZcXrN14",
        "colab": {
          "base_uri": "https://localhost:8080/"
        },
        "outputId": "249e9ec4-9adf-4a00-d81f-1c055ff434d8"
      },
      "source": [
        "temp = [22.1, 23.6, 23.1, 25.0, 25.8, 24.2, 21.8, 19.6]\n",
        "max(temp)"
      ],
      "execution_count": null,
      "outputs": [
        {
          "output_type": "execute_result",
          "data": {
            "text/plain": [
              "25.8"
            ]
          },
          "metadata": {
            "tags": []
          },
          "execution_count": 2
        }
      ]
    },
    {
      "cell_type": "code",
      "metadata": {
        "id": "-xHklwZ-s7fZ",
        "colab": {
          "base_uri": "https://localhost:8080/"
        },
        "outputId": "c6e50d32-a27b-4516-f331-acfe56875c13"
      },
      "source": [
        "print(\"O valor máximo é\", valor_maximo(temp))"
      ],
      "execution_count": null,
      "outputs": [
        {
          "output_type": "stream",
          "text": [
            "O valor máximo é 25.8\n"
          ],
          "name": "stdout"
        }
      ]
    },
    {
      "cell_type": "code",
      "metadata": {
        "id": "18FK0U46tpzT",
        "colab": {
          "base_uri": "https://localhost:8080/"
        },
        "outputId": "60685071-d164-493e-ff2e-87f012cdd129"
      },
      "source": [
        "valores = [12, 6, 8, 15, 10 ,14 ,21 ,0 , 11]\n",
        "print('o máximo da lista é', max(valores))"
      ],
      "execution_count": null,
      "outputs": [
        {
          "output_type": "stream",
          "text": [
            "o máximo da lista é 21\n"
          ],
          "name": "stdout"
        }
      ]
    },
    {
      "cell_type": "code",
      "metadata": {
        "id": "hrLcHTJ7t78F",
        "colab": {
          "base_uri": "https://localhost:8080/"
        },
        "outputId": "08bd9460-0af1-4f21-f50e-b8873780f981"
      },
      "source": [
        "def maximo (lista):\n",
        "    maximo_atual = lista[0]\n",
        "    for i in range(len(lista)):\n",
        "        if (lista[i] > maximo_atual):\n",
        "            maximo_atual = lista[i]\n",
        "    return maximo_atual\n",
        "\n",
        "print('O meu máximo da lista é', maximo(valores))"
      ],
      "execution_count": null,
      "outputs": [
        {
          "output_type": "stream",
          "text": [
            "O meu máximo da lista é 21\n"
          ],
          "name": "stdout"
        }
      ]
    },
    {
      "cell_type": "code",
      "metadata": {
        "id": "1lFuLB-BxEYz",
        "colab": {
          "base_uri": "https://localhost:8080/"
        },
        "outputId": "d77be215-4fc4-4c30-aaf1-8924bd92bb09"
      },
      "source": [
        "t1 = time.process_time()\n",
        "maximo(valores)\n",
        "t2 = time.process_time()\n",
        "\n",
        "print('O tempo de execução foi', (t2-t1))"
      ],
      "execution_count": null,
      "outputs": [
        {
          "output_type": "stream",
          "text": [
            "O tempo de execução foi 3.8661999999689556e-05\n"
          ],
          "name": "stdout"
        }
      ]
    },
    {
      "cell_type": "code",
      "metadata": {
        "id": "VVO3tjx8vmim",
        "colab": {
          "base_uri": "https://localhost:8080/"
        },
        "outputId": "b786db82-09fb-452a-ee04-bf4a3121469f"
      },
      "source": [
        "'''\n",
        "Código básico para cálculo de tempo de execução\n",
        "'''\n",
        "import time\n",
        "\n",
        "l1 = list(range(1000000))\n",
        "l2 = list(range(2000000))\n",
        "\n",
        "t1 = time.process_time()\n",
        "maximo(l1)\n",
        "t2 = time.process_time()\n",
        "\n",
        "print('O tempo de execução foi', (t2-t1))\n",
        "\n",
        "t1 = time.process_time()\n",
        "maximo(l2)\n",
        "t2 = time.process_time()\n",
        "\n",
        "print('O tempo de execução foi', (t2-t1))"
      ],
      "execution_count": null,
      "outputs": [
        {
          "output_type": "stream",
          "text": [
            "O tempo de execução foi 0.07779015699999992\n",
            "O tempo de execução foi 0.14838310599999982\n"
          ],
          "name": "stdout"
        }
      ]
    },
    {
      "cell_type": "markdown",
      "metadata": {
        "id": "b__3uQjyknRX"
      },
      "source": [
        "#Aula2\n",
        "##Busca Binária\n",
        "\n",
        "Busca em lista ordenada: o algoritmo de busca binária, com análise de eficiência\n",
        "\n",
        "Links:\n",
        "https://youtu.be/o9Wkig35jI8\n",
        "https://youtu.be/kW7vWEHlxAc"
      ]
    },
    {
      "cell_type": "code",
      "metadata": {
        "id": "lo5J6WPqizR3",
        "colab": {
          "base_uri": "https://localhost:8080/"
        },
        "outputId": "e1f1d358-c364-476b-9363-8f920cb8a990"
      },
      "source": [
        "estudantes = ['Artur','Bianca','Daiane','Fabio','Joana','Lucio','Thais']\r\n",
        "\r\n",
        "print('Fabio está na turma? ---->', 'Fabio' in estudantes)\r\n",
        "print('Eduardo está na turma? ---->', 'Eduardo' in estudantes)"
      ],
      "execution_count": null,
      "outputs": [
        {
          "output_type": "stream",
          "text": [
            "Fabio está na turma? ----> True\n",
            "Eduardo está na turma? ----> False\n"
          ],
          "name": "stdout"
        }
      ]
    },
    {
      "cell_type": "code",
      "metadata": {
        "id": "0k8ENBPL6EBs"
      },
      "source": [
        "def busca_linear(lista, alvo):\r\n",
        "    for elemento in lista:\r\n",
        "        if (elemento == alvo):\r\n",
        "            return True\r\n",
        "    return False"
      ],
      "execution_count": null,
      "outputs": []
    },
    {
      "cell_type": "code",
      "metadata": {
        "colab": {
          "base_uri": "https://localhost:8080/"
        },
        "id": "nYWobS_t6Yvv",
        "outputId": "9d26ab3a-493b-43f3-de91-16ba18bade60"
      },
      "source": [
        "print('Fabio está na turma? ---->', busca_linear(estudantes,'Fabio'))\r\n",
        "print('Eduardo está na turma? ---->', busca_linear(estudantes,'Eduardo'))"
      ],
      "execution_count": null,
      "outputs": [
        {
          "output_type": "stream",
          "text": [
            "Fabio está na turma? ----> True\n",
            "Eduardo está na turma? ----> False\n"
          ],
          "name": "stdout"
        }
      ]
    },
    {
      "cell_type": "code",
      "metadata": {
        "id": "r2KN8qwe7Lff"
      },
      "source": [
        "def busca_binaria(lista, alvo):\r\n",
        "    ini = 0\r\n",
        "    fim = len(lista) - 1\r\n",
        "    while(ini <= fim):\r\n",
        "        meio = (ini+fim)//2\r\n",
        "        if (lista[meio] == alvo):\r\n",
        "            return True\r\n",
        "        elif (lista[meio] > alvo):\r\n",
        "            fim = meio - 1\r\n",
        "        else:\r\n",
        "            ini = meio + 1\r\n",
        "    return False\r\n"
      ],
      "execution_count": null,
      "outputs": []
    },
    {
      "cell_type": "code",
      "metadata": {
        "colab": {
          "base_uri": "https://localhost:8080/"
        },
        "id": "KbxuHPtH8fYr",
        "outputId": "57484e2b-798c-4e2b-cc58-b198d1c768d1"
      },
      "source": [
        "print('Fabio está na turma? ---->', busca_binaria(estudantes,'Fabio'))\r\n",
        "print('Eduardo está na turma? ---->', busca_binaria(estudantes,'Eduardo'))"
      ],
      "execution_count": null,
      "outputs": [
        {
          "output_type": "stream",
          "text": [
            "Fabio está na turma? ----> True\n",
            "Eduardo está na turma? ----> False\n"
          ],
          "name": "stdout"
        }
      ]
    },
    {
      "cell_type": "code",
      "metadata": {
        "colab": {
          "base_uri": "https://localhost:8080/"
        },
        "id": "lSNfJcT08wms",
        "outputId": "0ba03888-f849-4495-ee27-d62931d864c2"
      },
      "source": [
        "'''\r\n",
        "Cálculo de tempo de execução Busca Linear e Binária\r\n",
        "'''\r\n",
        "import time\r\n",
        "\r\n",
        "l1 = list(range(1000000))\r\n",
        "l2 = list(range(2000000))\r\n",
        "\r\n",
        "t1 = time.process_time()\r\n",
        "busca_linear(l1,1000000)\r\n",
        "t2 = time.process_time()\r\n",
        "\r\n",
        "print('O tempo de execução foi', (t2-t1))\r\n",
        "\r\n",
        "t1 = time.process_time()\r\n",
        "busca_linear(l2,2000000)\r\n",
        "t2 = time.process_time()\r\n",
        "\r\n",
        "print('O tempo de execução foi', (t2-t1))"
      ],
      "execution_count": null,
      "outputs": [
        {
          "output_type": "stream",
          "text": [
            "O tempo de execução foi 0.029072514000000105\n",
            "O tempo de execução foi 0.059030418999999945\n"
          ],
          "name": "stdout"
        }
      ]
    },
    {
      "cell_type": "code",
      "metadata": {
        "colab": {
          "base_uri": "https://localhost:8080/"
        },
        "id": "vks-pfBW9zZC",
        "outputId": "845bfb07-ba66-4b74-ba6c-9c3b22ae8401"
      },
      "source": [
        "'''\r\n",
        "Código básico para cálculo de tempo de execução\r\n",
        "'''\r\n",
        "import time\r\n",
        "\r\n",
        "l1 = list(range(1000000))\r\n",
        "l2 = list(range(2000000))\r\n",
        "\r\n",
        "t1 = time.process_time()\r\n",
        "busca_binaria(l1,1000000)\r\n",
        "t2 = time.process_time()\r\n",
        "\r\n",
        "print('O tempo de execução foi', (t2-t1))\r\n",
        "\r\n",
        "t1 = time.process_time()\r\n",
        "busca_binaria(l2,2000000)\r\n",
        "t2 = time.process_time()\r\n",
        "\r\n",
        "print('O tempo de execução foi', (t2-t1))"
      ],
      "execution_count": null,
      "outputs": [
        {
          "output_type": "stream",
          "text": [
            "O tempo de execução foi 5.62369999999035e-05\n",
            "O tempo de execução foi 4.3289999999807094e-05\n"
          ],
          "name": "stdout"
        }
      ]
    },
    {
      "cell_type": "code",
      "metadata": {
        "colab": {
          "base_uri": "https://localhost:8080/"
        },
        "id": "zO-s904qApZV",
        "outputId": "7d6c6600-88a6-47a6-e6e7-23e5a3624ee8"
      },
      "source": [
        "def busca_binaria_passos(lista, alvo):\r\n",
        "    ini = 0\r\n",
        "    fim = len(lista) - 1\r\n",
        "    passos=0\r\n",
        "    while(ini <= fim):\r\n",
        "        meio = (ini+fim)//2\r\n",
        "        if (lista[meio] == alvo):\r\n",
        "            passos+=1\r\n",
        "            return passos\r\n",
        "        elif (lista[meio] > alvo):\r\n",
        "            fim = meio - 1\r\n",
        "            passos+=1\r\n",
        "        else:\r\n",
        "            ini = meio + 1\r\n",
        "            passos+=1\r\n",
        "    return passos\r\n",
        "n = 10000\r\n",
        "l1 = list(range(n))\r\n",
        "#for i in l1:\r\n",
        "    #print(f'Para buscar o elemento {i} na lista de tamanho {n} são necessários {busca_binaria_passos(l1,i)} passos')\r\n",
        "\r\n",
        "print(f'O máximo de passos necessário para buscar qualquer elemento em uma lista de tamanho {n} são {busca_binaria_passos(l1,n)} passos')\r\n"
      ],
      "execution_count": null,
      "outputs": [
        {
          "output_type": "stream",
          "text": [
            "O máximo de passos necessário para buscar qualquer elemento em uma lista de tamanho 10000 são 14 passos\n"
          ],
          "name": "stdout"
        }
      ]
    },
    {
      "cell_type": "markdown",
      "metadata": {
        "id": "yNtadorkke9k"
      },
      "source": [
        "#Aula3\n",
        "##Ordenação de Listas\n",
        "\n",
        "Ordenação: algoritmos básicos e intercalação\n",
        "\n",
        "Algorítmo de ordenação por seleção (Selection Sort):\n",
        "- Seleciona o menor elemento da lista e troca com o elemento da primeira posição, e repete isso até a lista estar ordenada, sobrando apenas o último elemento.\n",
        "\n",
        "Algorítmo de ordenação por bolha (Bubble Sort):\n",
        "- Seleciona um elemento e compara com o seu vizinho a direita, fazendo trocas locais, se os dois estiverem fora de ordem, ou se o elemento da direita for menor que o da esquerda.\n",
        "\n",
        "\n",
        "Links: <p>\n",
        "https://youtu.be/8fIJAfYmbHY <p>\n",
        "https://youtu.be/8kvgolhSQIc\n",
        "\n",
        "\n",
        "Link adicional:<p>\n",
        "http://devfuria.com.br/python/listas/"
      ]
    },
    {
      "cell_type": "code",
      "metadata": {
        "colab": {
          "base_uri": "https://localhost:8080/"
        },
        "id": "011xev4hsNxQ",
        "outputId": "72fb66e9-486b-4225-bdd3-d9ab8f65015e"
      },
      "source": [
        "\"\"\"\r\n",
        "Selection Sort\r\n",
        "\"\"\"\r\n",
        "valores = [2, 3, 8, 6, 5, 1, 9, 7]\r\n",
        "\r\n",
        "def selection(lista):\r\n",
        "    i = 0\r\n",
        "    while(i < len(lista) - 1):\r\n",
        "        minimo = lista[i]\r\n",
        "        ind_minimo = i\r\n",
        "        # calcula quem é o mínimo na região de i até o fim da lista\r\n",
        "        for j in range(i+1, len(lista)):\r\n",
        "            if (lista[j] < minimo):\r\n",
        "                minimo = lista[j]\r\n",
        "                ind_minimo = j\r\n",
        "        lista[ind_minimo] = lista[i]\r\n",
        "        lista[i] = minimo\r\n",
        "        i += 1\r\n",
        "    return lista\r\n",
        "print(valores)\r\n",
        "selection(valores)\r\n",
        "print(valores)"
      ],
      "execution_count": null,
      "outputs": [
        {
          "output_type": "stream",
          "text": [
            "[2, 3, 8, 6, 5, 1, 9, 7]\n",
            "[1, 2, 3, 5, 6, 7, 8, 9]\n"
          ],
          "name": "stdout"
        }
      ]
    },
    {
      "cell_type": "code",
      "metadata": {
        "colab": {
          "base_uri": "https://localhost:8080/"
        },
        "id": "6Z34fHu02rTB",
        "outputId": "e670443f-94a0-46c7-b85f-989d5dea0535"
      },
      "source": [
        "'''\r\n",
        "Cálculo de tempo de execução para o Selection Sort\r\n",
        "'''\r\n",
        "import time\r\n",
        "\r\n",
        "l1 = list(range(3000, 0, -1))\r\n",
        "l2 = list(range(6000, 0, -1))\r\n",
        "\r\n",
        "t1 = time.process_time()\r\n",
        "selection(l1)\r\n",
        "t2 = time.process_time()\r\n",
        "\r\n",
        "print('O tempo de execução foi', (t2-t1))\r\n",
        "\r\n",
        "t1 = time.process_time()\r\n",
        "selection(l2)\r\n",
        "t2 = time.process_time()\r\n",
        "\r\n",
        "print('O tempo de execução foi', (t2-t1))"
      ],
      "execution_count": null,
      "outputs": [
        {
          "output_type": "stream",
          "text": [
            "O tempo de execução foi 0.30196062400000034\n",
            "O tempo de execução foi 1.236642325\n"
          ],
          "name": "stdout"
        }
      ]
    },
    {
      "cell_type": "code",
      "metadata": {
        "colab": {
          "base_uri": "https://localhost:8080/"
        },
        "id": "t2HNtXwI4faZ",
        "outputId": "0342fabd-c6e4-4514-8631-954b78f77402"
      },
      "source": [
        "\"\"\"\r\n",
        "Bubble Sort\r\n",
        "\"\"\"\r\n",
        "valores = [2, 3, 8, 6, 5, 1, 9, 7]\r\n",
        "\r\n",
        "def bubble(lista):\r\n",
        "    i = 0\r\n",
        "    for j in range(len(lista) - 1):\r\n",
        "        for i in range(len(lista) - 1):\r\n",
        "            if lista[i+1] < lista[i]:\r\n",
        "                # troca de elementos nas posições i e i+1\r\n",
        "                lista[i+1], lista[i] = lista[i], lista[i+1]\r\n",
        "    return lista\r\n",
        "            \r\n",
        "\r\n",
        "print(valores)\r\n",
        "print(bubble(valores))"
      ],
      "execution_count": null,
      "outputs": [
        {
          "output_type": "stream",
          "text": [
            "[2, 3, 8, 6, 5, 1, 9, 7]\n",
            "[1, 2, 3, 5, 6, 7, 8, 9]\n"
          ],
          "name": "stdout"
        }
      ]
    },
    {
      "cell_type": "code",
      "metadata": {
        "colab": {
          "base_uri": "https://localhost:8080/"
        },
        "id": "xCMirN8u9m-V",
        "outputId": "2f875d9c-57fc-4316-c350-e4edd801f3e0"
      },
      "source": [
        "'''\r\n",
        "Cálculo de tempo de execução para o Bubble Sort\r\n",
        "'''\r\n",
        "import time\r\n",
        "\r\n",
        "l1 = list(range(1000, 0, -1))\r\n",
        "l2 = list(range(2000, 0, -1))\r\n",
        "\r\n",
        "t1 = time.process_time()\r\n",
        "bubble(l1)\r\n",
        "t2 = time.process_time()\r\n",
        "\r\n",
        "print('O tempo de execução foi', (t2-t1))\r\n",
        "\r\n",
        "t1 = time.process_time()\r\n",
        "bubble(l2)\r\n",
        "t2 = time.process_time()\r\n",
        "\r\n",
        "print('O tempo de execução foi', (t2-t1))"
      ],
      "execution_count": null,
      "outputs": [
        {
          "output_type": "stream",
          "text": [
            "O tempo de execução foi 0.15486166600000217\n",
            "O tempo de execução foi 0.613047121000001\n"
          ],
          "name": "stdout"
        }
      ]
    },
    {
      "cell_type": "code",
      "metadata": {
        "colab": {
          "base_uri": "https://localhost:8080/"
        },
        "id": "Dxd4tAyp-fwb",
        "outputId": "2eecf0e0-749c-4b65-af7b-2393ca1caf9f"
      },
      "source": [
        "l1 = list(range(25, 0, -1))\r\n",
        "\r\n",
        "print(l1)\r\n",
        "print(bubble(l1))"
      ],
      "execution_count": null,
      "outputs": [
        {
          "output_type": "stream",
          "text": [
            "[25, 24, 23, 22, 21, 20, 19, 18, 17, 16, 15, 14, 13, 12, 11, 10, 9, 8, 7, 6, 5, 4, 3, 2, 1]\n",
            "[1, 2, 3, 4, 5, 6, 7, 8, 9, 10, 11, 12, 13, 14, 15, 16, 17, 18, 19, 20, 21, 22, 23, 24, 25]\n"
          ],
          "name": "stdout"
        }
      ]
    },
    {
      "cell_type": "markdown",
      "metadata": {
        "id": "0ixZwbTPr_uq"
      },
      "source": [
        "#Aula4\n",
        "##TAD - Tipo Abstrato de Dados\n",
        "###Aula prática: Definição e exemplos\n",
        "\n",
        "Queremos armazenar os seguintes dados:\n",
        "* Nome\n",
        "* Idade\n",
        "* Altura\n",
        "* Peso\n",
        "* Tipo sanguíneo (se for conhecido)\n",
        "* Queixa no PS (se houve)\n",
        "* Datas de consulta\n",
        "\n",
        "Operações:\n",
        "* Alterar idade\n",
        "* Alterar peso\n",
        "* Alterar queixa\n",
        "* Adicionar uma data de consulta\n",
        "\n",
        "Links:\n",
        "https://youtu.be/Bo-3GMSc-wQ\n",
        "https://youtu.be/WF3GCeQkpDs"
      ]
    },
    {
      "cell_type": "code",
      "metadata": {
        "id": "r9-fUAqer7M6"
      },
      "source": [
        "class Paciente:\n",
        "    def __init__(self, nome, idade, altura, peso, tipoSanguineo, queixa = None):\n",
        "        self.nome = nome\n",
        "        self.idade = idade\n",
        "        self.altura = altura\n",
        "        self.peso = peso\n",
        "        self.tipoSaguineo = tipoSanguineo\n",
        "        self.queixa = queixa\n",
        "        self.consultas = []\n",
        "\n",
        "    def alteraIdade(self, novaIdade):\n",
        "        self.idade = novaIdade\n",
        "    \n",
        "    def alteraPeso(self, novoPeso):\n",
        "        self.peso = novoPeso\n",
        "    \n",
        "    def alteraQueixa (self, novaQueixa):\n",
        "        self.queixa = novaQueixa\n",
        "    \n",
        "    def adicionaConsulta(self, dataDaConsulta):\n",
        "        self.consultas.append(dataDaConsulta)\n",
        "\n",
        "    def __str__(self):\n",
        "        return f'O paciente {self.nome}, {self.idade} anos, com {self.peso} Kg e {self.altura} m, esteve nessa unidade no dia {self.consultas[-1]} reportando {self.queixa}.'\n",
        "    \n"
      ],
      "execution_count": null,
      "outputs": []
    },
    {
      "cell_type": "code",
      "metadata": {
        "id": "6RHVVPWBvuH0"
      },
      "source": [
        "p = Paciente(\"Bruno Sanches\", 38, 1.86, 135, \"O-\", \"Dor de Cabeça\")"
      ],
      "execution_count": null,
      "outputs": []
    },
    {
      "cell_type": "code",
      "metadata": {
        "id": "utKSZcoSwJnT",
        "colab": {
          "base_uri": "https://localhost:8080/",
          "height": 35
        },
        "outputId": "3f4be3dc-01cf-48f5-9d7b-a495a8b53fee"
      },
      "source": [
        "p.queixa"
      ],
      "execution_count": null,
      "outputs": [
        {
          "output_type": "execute_result",
          "data": {
            "application/vnd.google.colaboratory.intrinsic+json": {
              "type": "string"
            },
            "text/plain": [
              "'Dor de Cabeça'"
            ]
          },
          "metadata": {
            "tags": []
          },
          "execution_count": 4
        }
      ]
    },
    {
      "cell_type": "code",
      "metadata": {
        "id": "emNqQ3ZlwXdr"
      },
      "source": [
        "p.adicionaConsulta(\"20/11/2020\")"
      ],
      "execution_count": null,
      "outputs": []
    },
    {
      "cell_type": "code",
      "metadata": {
        "id": "qU20YcGMwlpL"
      },
      "source": [
        "p.adicionaConsulta(\"31/01/2021\")"
      ],
      "execution_count": null,
      "outputs": []
    },
    {
      "cell_type": "code",
      "metadata": {
        "id": "iL6Nk0Xzwqci",
        "colab": {
          "base_uri": "https://localhost:8080/"
        },
        "outputId": "85d572aa-e92c-4aec-c18d-510381528349"
      },
      "source": [
        "p.consultas"
      ],
      "execution_count": null,
      "outputs": [
        {
          "output_type": "execute_result",
          "data": {
            "text/plain": [
              "['20/11/2020', '31/01/2021']"
            ]
          },
          "metadata": {
            "tags": []
          },
          "execution_count": 7
        }
      ]
    },
    {
      "cell_type": "code",
      "metadata": {
        "id": "-8S3B_d0yitf",
        "colab": {
          "base_uri": "https://localhost:8080/",
          "height": 35
        },
        "outputId": "3cd35492-3981-4e95-d365-36af13ec34e9"
      },
      "source": [
        "p.__str__()"
      ],
      "execution_count": null,
      "outputs": [
        {
          "output_type": "execute_result",
          "data": {
            "application/vnd.google.colaboratory.intrinsic+json": {
              "type": "string"
            },
            "text/plain": [
              "'O paciente Bruno Sanches, 38 anos, com 135 Kg e 1.86 m, esteve nessa unidade no dia 31/01/2021 reportando Dor de Cabeça.'"
            ]
          },
          "metadata": {
            "tags": []
          },
          "execution_count": 8
        }
      ]
    },
    {
      "cell_type": "code",
      "metadata": {
        "id": "Zchm3GVGws7S"
      },
      "source": [
        "p.alteraQueixa(\"Dor de Garganta\")"
      ],
      "execution_count": null,
      "outputs": []
    },
    {
      "cell_type": "code",
      "metadata": {
        "id": "p5X9j4cKz_1J",
        "colab": {
          "base_uri": "https://localhost:8080/"
        },
        "outputId": "7cd14b49-5824-47f5-fac7-21a1c0703c22"
      },
      "source": [
        "print(p)"
      ],
      "execution_count": null,
      "outputs": [
        {
          "output_type": "stream",
          "text": [
            "O paciente Bruno Sanches, 38 anos, com 135 Kg e 1.86 m, esteve nessa unidade no dia 31/01/2021 reportando Dor de Garganta.\n"
          ],
          "name": "stdout"
        }
      ]
    },
    {
      "cell_type": "markdown",
      "metadata": {
        "id": "7Ly4oa7D4Co3"
      },
      "source": [
        "#Aula5\n",
        "##Pilha\n",
        "A pilha fornece a seguinte especificação:\n",
        "\n",
        "Dados armazenados:\n",
        "* Sequência arbitráriua de dados.\n",
        "\n",
        "Operações fornecidas:\n",
        "* Criar estrutura\n",
        "* Inserir no topo\n",
        "* Remover do Topo\n",
        "* Consultar o topo (sem remover)\n",
        "* Consultar o tamanho da pilha (número de elementos)\n",
        "\n",
        "Links:\n",
        "https://youtu.be/DPAZHOrSX-M\n",
        "https://youtu.be/yM8CxuyVFZU"
      ]
    },
    {
      "cell_type": "code",
      "metadata": {
        "id": "uzbXQ_8g0lfz"
      },
      "source": [
        "class Pilha:\n",
        "    def __init__(self):\n",
        "        self.pilha = []\n",
        "        self.tamanho = 0\n",
        "\n",
        "    def insere (self, novo):\n",
        "        self.pilha.append(novo)\n",
        "        self.tamanho +=1\n",
        "    \n",
        "    def remove (self):\n",
        "        self.tamanho -= 1\n",
        "        return self.pilha.pop()\n",
        "    \n",
        "    def topo (self):\n",
        "        return self.pilha[-1]\n",
        "    \n",
        "    def __len__ (self):\n",
        "        return self.tamanho\n",
        "        "
      ],
      "execution_count": null,
      "outputs": []
    },
    {
      "cell_type": "code",
      "metadata": {
        "id": "CmAMF4AB6v95"
      },
      "source": [
        "p = Pilha()"
      ],
      "execution_count": null,
      "outputs": []
    },
    {
      "cell_type": "code",
      "metadata": {
        "id": "c2wkN9x063cM",
        "colab": {
          "base_uri": "https://localhost:8080/"
        },
        "outputId": "35f0fe6c-484a-41e0-f719-8e6ff73def1a"
      },
      "source": [
        "p.insere(101)\n",
        "p.insere(102)\n",
        "p.insere(103)\n",
        "print(p.remove())\n",
        "print('A pilha está com tamanho', len(p))\n",
        "print('No topo da estrutura está o elemento', p.topo())"
      ],
      "execution_count": null,
      "outputs": [
        {
          "output_type": "stream",
          "text": [
            "103\n",
            "A pilha está com tamanho 2\n",
            "No topo da estrutura está o elemento 102\n"
          ],
          "name": "stdout"
        }
      ]
    },
    {
      "cell_type": "code",
      "metadata": {
        "id": "ko9k9CKO7VL1"
      },
      "source": [
        "def imprime_invertido(mensagem):\n",
        "    pilha = Pilha()\n",
        "    for c in mensagem:\n",
        "        pilha.insere(c)\n",
        "    while (len(pilha)>0):\n",
        "        c = pilha.remove()\n",
        "        print(c, end=\"\")\n",
        "    print()"
      ],
      "execution_count": null,
      "outputs": []
    },
    {
      "cell_type": "code",
      "metadata": {
        "id": "Wb3MplbY8Thx",
        "colab": {
          "base_uri": "https://localhost:8080/"
        },
        "outputId": "f9c436fd-a62b-476f-da03-6d1afe217da6"
      },
      "source": [
        "imprime_invertido('abcdef')"
      ],
      "execution_count": null,
      "outputs": [
        {
          "output_type": "stream",
          "text": [
            "fedcba\n"
          ],
          "name": "stdout"
        }
      ]
    },
    {
      "cell_type": "code",
      "metadata": {
        "id": "n1tUDjsP8Zk0",
        "colab": {
          "base_uri": "https://localhost:8080/"
        },
        "outputId": "f220506e-3450-41cc-cafc-a37591f73ff4"
      },
      "source": [
        "imprime_invertido(\"Estou testando a impressão invertida.\")"
      ],
      "execution_count": null,
      "outputs": [
        {
          "output_type": "stream",
          "text": [
            ".aditrevni oãsserpmi a odnatset uotsE\n"
          ],
          "name": "stdout"
        }
      ]
    },
    {
      "cell_type": "code",
      "metadata": {
        "id": "1ubkgowy8yCE",
        "colab": {
          "base_uri": "https://localhost:8080/"
        },
        "outputId": "d7fddea1-7ca7-4fd8-c85a-4bed736fdcef"
      },
      "source": [
        "imprime_invertido(\"MIRIM\")"
      ],
      "execution_count": null,
      "outputs": [
        {
          "output_type": "stream",
          "text": [
            "MIRIM\n"
          ],
          "name": "stdout"
        }
      ]
    },
    {
      "cell_type": "markdown",
      "metadata": {
        "id": "fpbIsXwiIRpQ"
      },
      "source": [
        "#Aula6\n",
        "##Fila\n",
        "\n",
        "A fila fornece a seguinte especificação:\n",
        "\n",
        "Dados armazenados:\n",
        "* Sequência arbitráriua de dados.\n",
        "\n",
        "Operações fornecidas:\n",
        "* Criar estrutura\n",
        "* Inserir no fim da fila\n",
        "* Remover do início da fila\n",
        "* Saber o tamanho da fila\n",
        "* Verificar quem é o primeiro da fila sem remover\n",
        "\n",
        "Links:\n",
        "https://youtu.be/qRSWXs8bS-c\n",
        "https://youtu.be/vKXcK8mjoVc"
      ]
    },
    {
      "cell_type": "code",
      "metadata": {
        "id": "1OzaOrZrQp5E"
      },
      "source": [
        "from collections import deque\n",
        "\n",
        "class Fila:\n",
        "    def __init__(self):\n",
        "        self.fila = deque()\n",
        "    \n",
        "    def insere(self, novo):\n",
        "        self.fila.append(novo)\n",
        "    \n",
        "    def remove(self):\n",
        "        return self.fila.popleft()\n",
        "    \n",
        "    def __len__(self):\n",
        "        return len(self.fila)\n",
        "\n",
        "    def proximo(self):\n",
        "        prox = self.fila.popleft()\n",
        "        self.fila.appendleft(prox)\n",
        "        return prox"
      ],
      "execution_count": null,
      "outputs": []
    },
    {
      "cell_type": "markdown",
      "metadata": {
        "id": "M4FIMnhySwyq"
      },
      "source": [
        "Vamos fazer as seguintes operações:\n",
        "- Criar fila F\n",
        "- Inserir em F o elemento 41\n",
        "- Inserir em f o elemento 85\n",
        "- Inserir em f o elemento 29\n",
        "- remover um elemento de F\n",
        "- Inserir em f o elemento 56\n",
        "- Verificar o tamanho de F\n",
        "- Verificar quem é o primeiro da fila (o mais antigo)"
      ]
    },
    {
      "cell_type": "code",
      "metadata": {
        "id": "dBTvhnOF83B8",
        "colab": {
          "base_uri": "https://localhost:8080/"
        },
        "outputId": "3d9c08fb-ff7f-4283-8162-92cc8ea3a6e2"
      },
      "source": [
        "F=Fila()\n",
        "F.insere(41)\n",
        "F.insere(85)\n",
        "F.insere(29)\n",
        "print(F.fila)\n",
        "print('eu removi o elemento',F.remove())\n",
        "F.insere(56)\n",
        "print(f'a fila tem tamanho de {len(F)} elementos')\n",
        "print('o primeiro elemento da fila é ',F.proximo())\n",
        "print(F.fila)"
      ],
      "execution_count": null,
      "outputs": [
        {
          "output_type": "stream",
          "text": [
            "deque([41, 85, 29])\n",
            "eu removi o elemento 41\n",
            "a fila tem tamanho de 3 elementos\n",
            "o primeiro elemento da fila é  85\n",
            "deque([85, 29, 56])\n"
          ],
          "name": "stdout"
        }
      ]
    },
    {
      "cell_type": "markdown",
      "metadata": {
        "id": "r9sgd8FRVjtO"
      },
      "source": [
        "#Aula7\n",
        "##Recursão\n",
        "Recursão é quando uma função chama a si mesma.\n",
        "\n",
        "Links:\n",
        "https://youtu.be/qbd0YNSv-Kk\n",
        "https://youtu.be/bAfv0G7hWy0"
      ]
    },
    {
      "cell_type": "code",
      "metadata": {
        "id": "ENvHWrAAVoRt",
        "colab": {
          "base_uri": "https://localhost:8080/"
        },
        "outputId": "eb49ce1c-8973-4632-c6bd-6a7cf5a108ed"
      },
      "source": [
        "def funcA(n):\n",
        "    print('recebi', n)\n",
        "    funcB(n/2)\n",
        "    print('fim')\n",
        "\n",
        "def funcB(x):\n",
        "    print('x =', x)\n",
        "\n",
        "# O que acontece se fizermos a seguinte chamada?\n",
        "\n",
        "funcA(5)"
      ],
      "execution_count": null,
      "outputs": [
        {
          "output_type": "stream",
          "text": [
            "recebi 5\n",
            "x = 2.5\n",
            "fim\n"
          ],
          "name": "stdout"
        }
      ]
    },
    {
      "cell_type": "code",
      "metadata": {
        "id": "f7v1oJi8xkCR"
      },
      "source": [
        "def funA():\n",
        "    print('1A')\n",
        "    print('2A')\n",
        "    funB()\n",
        "    print('Fim de A')\n",
        "\n",
        "def funB():\n",
        "    print('1B')\n",
        "    print('2B')\n",
        "    funC()\n",
        "    print('Fim de B')\n",
        "\n",
        "def funC():\n",
        "    print('1C')\n",
        "    print('2C')\n",
        "    print('Fim de C')"
      ],
      "execution_count": null,
      "outputs": []
    },
    {
      "cell_type": "code",
      "metadata": {
        "id": "GwXwnHNV6DdN",
        "colab": {
          "base_uri": "https://localhost:8080/"
        },
        "outputId": "0b8e8fcc-e30d-431e-e445-6da38f96c47e"
      },
      "source": [
        "funA()"
      ],
      "execution_count": null,
      "outputs": [
        {
          "output_type": "stream",
          "text": [
            "1A\n",
            "2A\n",
            "1B\n",
            "2B\n",
            "1C\n",
            "2C\n",
            "Fim de C\n",
            "Fim de B\n",
            "Fim de A\n"
          ],
          "name": "stdout"
        }
      ]
    },
    {
      "cell_type": "code",
      "metadata": {
        "id": "Cr935mhC6Fj3",
        "colab": {
          "base_uri": "https://localhost:8080/",
          "height": 1000
        },
        "outputId": "29dc208c-8632-4a65-a2ab-18e6c5461456"
      },
      "source": [
        "def cont_regressiva(n):\n",
        "    print(n)\n",
        "    cont_regressiva(n-1)\n",
        "\n",
        "cont_regressiva(3)"
      ],
      "execution_count": null,
      "outputs": [
        {
          "output_type": "stream",
          "text": [
            "3\n",
            "2\n",
            "1\n",
            "0\n",
            "-1\n",
            "-2\n",
            "-3\n",
            "-4\n",
            "-5\n",
            "-6\n",
            "-7\n",
            "-8\n",
            "-9\n",
            "-10\n",
            "-11\n",
            "-12\n",
            "-13\n",
            "-14\n",
            "-15\n",
            "-16\n",
            "-17\n",
            "-18\n",
            "-19\n",
            "-20\n",
            "-21\n",
            "-22\n",
            "-23\n",
            "-24\n",
            "-25\n",
            "-26\n",
            "-27\n",
            "-28\n",
            "-29\n",
            "-30\n",
            "-31\n",
            "-32\n",
            "-33\n",
            "-34\n",
            "-35\n",
            "-36\n",
            "-37\n",
            "-38\n",
            "-39\n",
            "-40\n",
            "-41\n",
            "-42\n",
            "-43\n",
            "-44\n",
            "-45\n",
            "-46\n",
            "-47\n",
            "-48\n",
            "-49\n",
            "-50\n",
            "-51\n",
            "-52\n",
            "-53\n",
            "-54\n",
            "-55\n",
            "-56\n",
            "-57\n",
            "-58\n",
            "-59\n",
            "-60\n",
            "-61\n",
            "-62\n",
            "-63\n",
            "-64\n",
            "-65\n",
            "-66\n",
            "-67\n",
            "-68\n",
            "-69\n",
            "-70\n",
            "-71\n",
            "-72\n",
            "-73\n",
            "-74\n",
            "-75\n",
            "-76\n",
            "-77\n",
            "-78\n",
            "-79\n",
            "-80\n",
            "-81\n",
            "-82\n",
            "-83\n",
            "-84\n",
            "-85\n",
            "-86\n",
            "-87\n",
            "-88\n",
            "-89\n",
            "-90\n",
            "-91\n",
            "-92\n",
            "-93\n",
            "-94\n",
            "-95\n",
            "-96\n",
            "-97\n",
            "-98\n",
            "-99\n",
            "-100\n",
            "-101\n",
            "-102\n",
            "-103\n",
            "-104\n",
            "-105\n",
            "-106\n",
            "-107\n",
            "-108\n",
            "-109\n",
            "-110\n",
            "-111\n",
            "-112\n",
            "-113\n",
            "-114\n",
            "-115\n",
            "-116\n",
            "-117\n",
            "-118\n",
            "-119\n",
            "-120\n",
            "-121\n",
            "-122\n",
            "-123\n",
            "-124\n",
            "-125\n",
            "-126\n",
            "-127\n",
            "-128\n",
            "-129\n",
            "-130\n",
            "-131\n",
            "-132\n",
            "-133\n",
            "-134\n",
            "-135\n",
            "-136\n",
            "-137\n",
            "-138\n",
            "-139\n",
            "-140\n",
            "-141\n",
            "-142\n",
            "-143\n",
            "-144\n",
            "-145\n",
            "-146\n",
            "-147\n",
            "-148\n",
            "-149\n",
            "-150\n",
            "-151\n",
            "-152\n",
            "-153\n",
            "-154\n",
            "-155\n",
            "-156\n",
            "-157\n",
            "-158\n",
            "-159\n",
            "-160\n",
            "-161\n",
            "-162\n",
            "-163\n",
            "-164\n",
            "-165\n",
            "-166\n",
            "-167\n",
            "-168\n",
            "-169\n",
            "-170\n",
            "-171\n",
            "-172\n",
            "-173\n",
            "-174\n",
            "-175\n",
            "-176\n",
            "-177\n",
            "-178\n",
            "-179\n",
            "-180\n",
            "-181\n",
            "-182\n",
            "-183\n",
            "-184\n",
            "-185\n",
            "-186\n",
            "-187\n",
            "-188\n",
            "-189\n",
            "-190\n",
            "-191\n",
            "-192\n",
            "-193\n",
            "-194\n",
            "-195\n",
            "-196\n",
            "-197\n",
            "-198\n",
            "-199\n",
            "-200\n",
            "-201\n",
            "-202\n",
            "-203\n",
            "-204\n",
            "-205\n",
            "-206\n",
            "-207\n",
            "-208\n",
            "-209\n",
            "-210\n",
            "-211\n",
            "-212\n",
            "-213\n",
            "-214\n",
            "-215\n",
            "-216\n",
            "-217\n",
            "-218\n",
            "-219\n",
            "-220\n",
            "-221\n",
            "-222\n",
            "-223\n",
            "-224\n",
            "-225\n",
            "-226\n",
            "-227\n",
            "-228\n",
            "-229\n",
            "-230\n",
            "-231\n",
            "-232\n",
            "-233\n",
            "-234\n",
            "-235\n",
            "-236\n",
            "-237\n",
            "-238\n",
            "-239\n",
            "-240\n",
            "-241\n",
            "-242\n",
            "-243\n",
            "-244\n",
            "-245\n",
            "-246\n",
            "-247\n",
            "-248\n",
            "-249\n",
            "-250\n",
            "-251\n",
            "-252\n",
            "-253\n",
            "-254\n",
            "-255\n",
            "-256\n",
            "-257\n",
            "-258\n",
            "-259\n",
            "-260\n",
            "-261\n",
            "-262\n",
            "-263\n",
            "-264\n",
            "-265\n",
            "-266\n",
            "-267\n",
            "-268\n",
            "-269\n",
            "-270\n",
            "-271\n",
            "-272\n",
            "-273\n",
            "-274\n",
            "-275\n",
            "-276\n",
            "-277\n",
            "-278\n",
            "-279\n",
            "-280\n",
            "-281\n",
            "-282\n",
            "-283\n",
            "-284\n",
            "-285\n",
            "-286\n",
            "-287\n",
            "-288\n",
            "-289\n",
            "-290\n",
            "-291\n",
            "-292\n",
            "-293\n",
            "-294\n",
            "-295\n",
            "-296\n",
            "-297\n",
            "-298\n",
            "-299\n",
            "-300\n",
            "-301\n",
            "-302\n",
            "-303\n",
            "-304\n",
            "-305\n",
            "-306\n",
            "-307\n",
            "-308\n",
            "-309\n",
            "-310\n",
            "-311\n",
            "-312\n",
            "-313\n",
            "-314\n",
            "-315\n",
            "-316\n",
            "-317\n",
            "-318\n",
            "-319\n",
            "-320\n",
            "-321\n",
            "-322\n",
            "-323\n",
            "-324\n",
            "-325\n",
            "-326\n",
            "-327\n",
            "-328\n",
            "-329\n",
            "-330\n",
            "-331\n",
            "-332\n",
            "-333\n",
            "-334\n",
            "-335\n",
            "-336\n",
            "-337\n",
            "-338\n",
            "-339\n",
            "-340\n",
            "-341\n",
            "-342\n",
            "-343\n",
            "-344\n",
            "-345\n",
            "-346\n",
            "-347\n",
            "-348\n",
            "-349\n",
            "-350\n",
            "-351\n",
            "-352\n",
            "-353\n",
            "-354\n",
            "-355\n",
            "-356\n",
            "-357\n",
            "-358\n",
            "-359\n",
            "-360\n",
            "-361\n",
            "-362\n",
            "-363\n",
            "-364\n",
            "-365\n",
            "-366\n",
            "-367\n",
            "-368\n",
            "-369\n",
            "-370\n",
            "-371\n",
            "-372\n",
            "-373\n",
            "-374\n",
            "-375\n",
            "-376\n",
            "-377\n",
            "-378\n",
            "-379\n",
            "-380\n",
            "-381\n",
            "-382\n",
            "-383\n",
            "-384\n",
            "-385\n",
            "-386\n",
            "-387\n",
            "-388\n",
            "-389\n",
            "-390\n",
            "-391\n",
            "-392\n",
            "-393\n",
            "-394\n",
            "-395\n",
            "-396\n",
            "-397\n",
            "-398\n",
            "-399\n",
            "-400\n",
            "-401\n",
            "-402\n",
            "-403\n",
            "-404\n",
            "-405\n",
            "-406\n",
            "-407\n",
            "-408\n",
            "-409\n",
            "-410\n",
            "-411\n",
            "-412\n",
            "-413\n",
            "-414\n",
            "-415\n",
            "-416\n",
            "-417\n",
            "-418\n",
            "-419\n",
            "-420\n",
            "-421\n",
            "-422\n",
            "-423\n",
            "-424\n",
            "-425\n",
            "-426\n",
            "-427\n",
            "-428\n",
            "-429\n",
            "-430\n",
            "-431\n",
            "-432\n",
            "-433\n",
            "-434\n",
            "-435\n",
            "-436\n",
            "-437\n",
            "-438\n",
            "-439\n",
            "-440\n",
            "-441\n",
            "-442\n",
            "-443\n",
            "-444\n",
            "-445\n",
            "-446\n",
            "-447\n",
            "-448\n",
            "-449\n",
            "-450\n",
            "-451\n",
            "-452\n",
            "-453\n",
            "-454\n",
            "-455\n",
            "-456\n",
            "-457\n",
            "-458\n",
            "-459\n",
            "-460\n",
            "-461\n",
            "-462\n",
            "-463\n",
            "-464\n",
            "-465\n",
            "-466\n",
            "-467\n",
            "-468\n",
            "-469\n",
            "-470\n",
            "-471\n",
            "-472\n",
            "-473\n",
            "-474\n",
            "-475\n",
            "-476\n",
            "-477\n",
            "-478\n",
            "-479\n",
            "-480\n",
            "-481\n",
            "-482\n",
            "-483\n",
            "-484\n",
            "-485\n",
            "-486\n",
            "-487\n",
            "-488\n",
            "-489\n",
            "-490\n",
            "-491\n",
            "-492\n",
            "-493\n",
            "-494\n",
            "-495\n",
            "-496\n",
            "-497\n",
            "-498\n",
            "-499\n",
            "-500\n",
            "-501\n",
            "-502\n",
            "-503\n",
            "-504\n",
            "-505\n",
            "-506\n",
            "-507\n",
            "-508\n",
            "-509\n",
            "-510\n",
            "-511\n",
            "-512\n",
            "-513\n",
            "-514\n",
            "-515\n",
            "-516\n",
            "-517\n",
            "-518\n",
            "-519\n",
            "-520\n",
            "-521\n",
            "-522\n",
            "-523\n",
            "-524\n",
            "-525\n",
            "-526\n",
            "-527\n",
            "-528\n",
            "-529\n",
            "-530\n",
            "-531\n",
            "-532\n",
            "-533\n",
            "-534\n",
            "-535\n",
            "-536\n",
            "-537\n",
            "-538\n",
            "-539\n",
            "-540\n",
            "-541\n",
            "-542\n",
            "-543\n",
            "-544\n",
            "-545\n",
            "-546\n",
            "-547\n",
            "-548\n",
            "-549\n",
            "-550\n",
            "-551\n",
            "-552\n",
            "-553\n",
            "-554\n",
            "-555\n",
            "-556\n",
            "-557\n",
            "-558\n",
            "-559\n",
            "-560\n",
            "-561\n",
            "-562\n",
            "-563\n",
            "-564\n",
            "-565\n",
            "-566\n",
            "-567\n",
            "-568\n",
            "-569\n",
            "-570\n",
            "-571\n",
            "-572\n",
            "-573\n",
            "-574\n",
            "-575\n",
            "-576\n",
            "-577\n",
            "-578\n",
            "-579\n",
            "-580\n",
            "-581\n",
            "-582\n",
            "-583\n",
            "-584\n",
            "-585\n",
            "-586\n",
            "-587\n",
            "-588\n",
            "-589\n",
            "-590\n",
            "-591\n",
            "-592\n",
            "-593\n",
            "-594\n",
            "-595\n",
            "-596\n",
            "-597\n",
            "-598\n",
            "-599\n",
            "-600\n",
            "-601\n",
            "-602\n",
            "-603\n",
            "-604\n",
            "-605\n",
            "-606\n",
            "-607\n",
            "-608\n",
            "-609\n",
            "-610\n",
            "-611\n",
            "-612\n",
            "-613\n",
            "-614\n",
            "-615\n",
            "-616\n",
            "-617\n",
            "-618\n",
            "-619\n",
            "-620\n",
            "-621\n",
            "-622\n",
            "-623\n",
            "-624\n",
            "-625\n",
            "-626\n",
            "-627\n",
            "-628\n",
            "-629\n",
            "-630\n",
            "-631\n",
            "-632\n",
            "-633\n",
            "-634\n",
            "-635\n",
            "-636\n",
            "-637\n",
            "-638\n",
            "-639\n",
            "-640\n",
            "-641\n",
            "-642\n",
            "-643\n",
            "-644\n",
            "-645\n",
            "-646\n",
            "-647\n",
            "-648\n",
            "-649\n",
            "-650\n",
            "-651\n",
            "-652\n",
            "-653\n",
            "-654\n",
            "-655\n",
            "-656\n",
            "-657\n",
            "-658\n",
            "-659\n",
            "-660\n",
            "-661\n",
            "-662\n",
            "-663\n",
            "-664\n",
            "-665\n",
            "-666\n",
            "-667\n",
            "-668\n",
            "-669\n",
            "-670\n",
            "-671\n",
            "-672\n",
            "-673\n",
            "-674\n",
            "-675\n",
            "-676\n",
            "-677\n",
            "-678\n",
            "-679\n",
            "-680\n",
            "-681\n",
            "-682\n",
            "-683\n",
            "-684\n",
            "-685\n",
            "-686\n",
            "-687\n",
            "-688\n",
            "-689\n",
            "-690\n",
            "-691\n",
            "-692\n",
            "-693\n",
            "-694\n",
            "-695\n",
            "-696\n",
            "-697\n",
            "-698\n",
            "-699\n",
            "-700\n",
            "-701\n",
            "-702\n",
            "-703\n",
            "-704\n",
            "-705\n",
            "-706\n",
            "-707\n",
            "-708\n",
            "-709\n",
            "-710\n",
            "-711\n",
            "-712\n",
            "-713\n",
            "-714\n",
            "-715\n",
            "-716\n",
            "-717\n",
            "-718\n",
            "-719\n",
            "-720\n",
            "-721\n",
            "-722\n",
            "-723\n",
            "-724\n",
            "-725\n",
            "-726\n",
            "-727\n",
            "-728\n",
            "-729\n",
            "-730\n",
            "-731\n",
            "-732\n",
            "-733\n",
            "-734\n",
            "-735\n",
            "-736\n",
            "-737\n",
            "-738\n",
            "-739\n",
            "-740\n",
            "-741\n",
            "-742\n",
            "-743\n",
            "-744\n",
            "-745\n",
            "-746\n",
            "-747\n",
            "-748\n",
            "-749\n",
            "-750\n",
            "-751\n",
            "-752\n",
            "-753\n",
            "-754\n",
            "-755\n",
            "-756\n",
            "-757\n",
            "-758\n",
            "-759\n",
            "-760\n",
            "-761\n",
            "-762\n",
            "-763\n",
            "-764\n",
            "-765\n",
            "-766\n",
            "-767\n",
            "-768\n",
            "-769\n",
            "-770\n",
            "-771\n",
            "-772\n",
            "-773\n",
            "-774\n",
            "-775\n",
            "-776\n",
            "-777\n",
            "-778\n",
            "-779\n",
            "-780\n",
            "-781\n",
            "-782\n",
            "-783\n",
            "-784\n",
            "-785\n",
            "-786\n",
            "-787\n",
            "-788\n",
            "-789\n",
            "-790\n",
            "-791\n",
            "-792\n",
            "-793\n",
            "-794\n",
            "-795\n",
            "-796\n",
            "-797\n",
            "-798\n",
            "-799\n",
            "-800\n",
            "-801\n",
            "-802\n",
            "-803\n",
            "-804\n",
            "-805\n",
            "-806\n",
            "-807\n",
            "-808\n",
            "-809\n",
            "-810\n",
            "-811\n",
            "-812\n",
            "-813\n",
            "-814\n",
            "-815\n",
            "-816\n",
            "-817\n",
            "-818\n",
            "-819\n",
            "-820\n",
            "-821\n",
            "-822\n",
            "-823\n",
            "-824\n",
            "-825\n",
            "-826\n",
            "-827\n",
            "-828\n",
            "-829\n",
            "-830\n",
            "-831\n",
            "-832\n",
            "-833\n",
            "-834\n",
            "-835\n",
            "-836\n",
            "-837\n",
            "-838\n",
            "-839\n",
            "-840\n",
            "-841\n",
            "-842\n",
            "-843\n",
            "-844\n",
            "-845\n",
            "-846\n",
            "-847\n",
            "-848\n",
            "-849\n",
            "-850\n",
            "-851\n",
            "-852\n",
            "-853\n",
            "-854\n",
            "-855\n",
            "-856\n",
            "-857\n",
            "-858\n",
            "-859\n",
            "-860\n",
            "-861\n",
            "-862\n",
            "-863\n",
            "-864\n",
            "-865\n",
            "-866\n",
            "-867\n",
            "-868\n",
            "-869\n",
            "-870\n",
            "-871\n",
            "-872\n",
            "-873\n",
            "-874\n",
            "-875\n",
            "-876\n",
            "-877\n",
            "-878\n",
            "-879\n",
            "-880\n",
            "-881\n",
            "-882\n",
            "-883\n",
            "-884\n",
            "-885\n",
            "-886\n",
            "-887\n",
            "-888\n",
            "-889\n",
            "-890\n",
            "-891\n",
            "-892\n",
            "-893\n",
            "-894\n",
            "-895\n",
            "-896\n",
            "-897\n",
            "-898\n",
            "-899\n",
            "-900\n",
            "-901\n",
            "-902\n",
            "-903\n",
            "-904\n",
            "-905\n",
            "-906\n",
            "-907\n",
            "-908\n",
            "-909\n",
            "-910\n",
            "-911\n",
            "-912\n",
            "-913\n",
            "-914\n",
            "-915\n",
            "-916\n",
            "-917\n",
            "-918\n",
            "-919\n",
            "-920\n",
            "-921\n",
            "-922\n",
            "-923\n",
            "-924\n",
            "-925\n",
            "-926\n",
            "-927\n",
            "-928\n",
            "-929\n",
            "-930\n",
            "-931\n",
            "-932\n",
            "-933\n",
            "-934\n",
            "-935\n",
            "-936\n",
            "-937\n",
            "-938\n",
            "-939\n",
            "-940\n",
            "-941\n",
            "-942\n",
            "-943\n",
            "-944\n",
            "-945\n",
            "-946\n",
            "-947\n",
            "-948\n",
            "-949\n",
            "-950\n",
            "-951\n",
            "-952\n",
            "-953\n",
            "-954\n",
            "-955"
          ],
          "name": "stdout"
        },
        {
          "output_type": "error",
          "ename": "RecursionError",
          "evalue": "ignored",
          "traceback": [
            "\u001b[0;31m---------------------------------------------------------------------------\u001b[0m",
            "\u001b[0;31mRecursionError\u001b[0m                            Traceback (most recent call last)",
            "\u001b[0;32m<ipython-input-23-9a7cfa9cdb67>\u001b[0m in \u001b[0;36m<module>\u001b[0;34m()\u001b[0m\n\u001b[1;32m      3\u001b[0m     \u001b[0mcont_regressiva\u001b[0m\u001b[0;34m(\u001b[0m\u001b[0mn\u001b[0m\u001b[0;34m-\u001b[0m\u001b[0;36m1\u001b[0m\u001b[0;34m)\u001b[0m\u001b[0;34m\u001b[0m\u001b[0;34m\u001b[0m\u001b[0m\n\u001b[1;32m      4\u001b[0m \u001b[0;34m\u001b[0m\u001b[0m\n\u001b[0;32m----> 5\u001b[0;31m \u001b[0mcont_regressiva\u001b[0m\u001b[0;34m(\u001b[0m\u001b[0;36m3\u001b[0m\u001b[0;34m)\u001b[0m\u001b[0;34m\u001b[0m\u001b[0;34m\u001b[0m\u001b[0m\n\u001b[0m",
            "\u001b[0;32m<ipython-input-23-9a7cfa9cdb67>\u001b[0m in \u001b[0;36mcont_regressiva\u001b[0;34m(n)\u001b[0m\n\u001b[1;32m      1\u001b[0m \u001b[0;32mdef\u001b[0m \u001b[0mcont_regressiva\u001b[0m\u001b[0;34m(\u001b[0m\u001b[0mn\u001b[0m\u001b[0;34m)\u001b[0m\u001b[0;34m:\u001b[0m\u001b[0;34m\u001b[0m\u001b[0;34m\u001b[0m\u001b[0m\n\u001b[1;32m      2\u001b[0m     \u001b[0mprint\u001b[0m\u001b[0;34m(\u001b[0m\u001b[0mn\u001b[0m\u001b[0;34m)\u001b[0m\u001b[0;34m\u001b[0m\u001b[0;34m\u001b[0m\u001b[0m\n\u001b[0;32m----> 3\u001b[0;31m     \u001b[0mcont_regressiva\u001b[0m\u001b[0;34m(\u001b[0m\u001b[0mn\u001b[0m\u001b[0;34m-\u001b[0m\u001b[0;36m1\u001b[0m\u001b[0;34m)\u001b[0m\u001b[0;34m\u001b[0m\u001b[0;34m\u001b[0m\u001b[0m\n\u001b[0m\u001b[1;32m      4\u001b[0m \u001b[0;34m\u001b[0m\u001b[0m\n\u001b[1;32m      5\u001b[0m \u001b[0mcont_regressiva\u001b[0m\u001b[0;34m(\u001b[0m\u001b[0;36m3\u001b[0m\u001b[0;34m)\u001b[0m\u001b[0;34m\u001b[0m\u001b[0;34m\u001b[0m\u001b[0m\n",
            "... last 1 frames repeated, from the frame below ...\n",
            "\u001b[0;32m<ipython-input-23-9a7cfa9cdb67>\u001b[0m in \u001b[0;36mcont_regressiva\u001b[0;34m(n)\u001b[0m\n\u001b[1;32m      1\u001b[0m \u001b[0;32mdef\u001b[0m \u001b[0mcont_regressiva\u001b[0m\u001b[0;34m(\u001b[0m\u001b[0mn\u001b[0m\u001b[0;34m)\u001b[0m\u001b[0;34m:\u001b[0m\u001b[0;34m\u001b[0m\u001b[0;34m\u001b[0m\u001b[0m\n\u001b[1;32m      2\u001b[0m     \u001b[0mprint\u001b[0m\u001b[0;34m(\u001b[0m\u001b[0mn\u001b[0m\u001b[0;34m)\u001b[0m\u001b[0;34m\u001b[0m\u001b[0;34m\u001b[0m\u001b[0m\n\u001b[0;32m----> 3\u001b[0;31m     \u001b[0mcont_regressiva\u001b[0m\u001b[0;34m(\u001b[0m\u001b[0mn\u001b[0m\u001b[0;34m-\u001b[0m\u001b[0;36m1\u001b[0m\u001b[0;34m)\u001b[0m\u001b[0;34m\u001b[0m\u001b[0;34m\u001b[0m\u001b[0m\n\u001b[0m\u001b[1;32m      4\u001b[0m \u001b[0;34m\u001b[0m\u001b[0m\n\u001b[1;32m      5\u001b[0m \u001b[0mcont_regressiva\u001b[0m\u001b[0;34m(\u001b[0m\u001b[0;36m3\u001b[0m\u001b[0;34m)\u001b[0m\u001b[0;34m\u001b[0m\u001b[0;34m\u001b[0m\u001b[0m\n",
            "\u001b[0;31mRecursionError\u001b[0m: maximum recursion depth exceeded in comparison"
          ]
        }
      ]
    },
    {
      "cell_type": "code",
      "metadata": {
        "id": "QGXeVUAc7k_h",
        "colab": {
          "base_uri": "https://localhost:8080/"
        },
        "outputId": "6c130311-ab2a-4fa3-b07f-f8e6b890f4a1"
      },
      "source": [
        "'''\n",
        "Caso Base da recursão\n",
        "'''\n",
        "def cont_regressiva(n):\n",
        "    if (n<0): # base da recursão\n",
        "        return  # não faz nada \n",
        "    print(n)\n",
        "    cont_regressiva(n-1) # chamada recursiva\n",
        "\n",
        "cont_regressiva(10)"
      ],
      "execution_count": null,
      "outputs": [
        {
          "output_type": "stream",
          "text": [
            "10\n",
            "9\n",
            "8\n",
            "7\n",
            "6\n",
            "5\n",
            "4\n",
            "3\n",
            "2\n",
            "1\n",
            "0\n"
          ],
          "name": "stdout"
        }
      ]
    },
    {
      "cell_type": "code",
      "metadata": {
        "id": "0-PH7tzo_KyC"
      },
      "source": [
        "'''\n",
        "5! = 5*4*3*2*1\n",
        "4! = 4*3*2*1\n",
        "3! = 3*2*1\n",
        "\n",
        "5! = 5*(4!)\n",
        "4! = 4*(3!)\n",
        "3! = 3*(2!)\n",
        "2! = 2*(1!)\n",
        "1! = 1*(0!)\n",
        "0! = 1\n",
        "\n",
        "Em geral N! = N*(N-1)!\n",
        "'''\n",
        "\n",
        "def fatorial(N):\n",
        "    if (N == 0):\n",
        "        return 1\n",
        "    return N*fatorial(N-1)\n",
        "    "
      ],
      "execution_count": null,
      "outputs": []
    },
    {
      "cell_type": "code",
      "metadata": {
        "id": "ZSdYjdb-FQI9",
        "colab": {
          "base_uri": "https://localhost:8080/"
        },
        "outputId": "87777b8c-f4e2-49c0-f71c-5bede64a047e"
      },
      "source": [
        "for n in range(6):\n",
        "    print(f'{n}! = {fatorial(n)}')"
      ],
      "execution_count": null,
      "outputs": [
        {
          "output_type": "stream",
          "text": [
            "0! = 1\n",
            "1! = 1\n",
            "2! = 2\n",
            "3! = 6\n",
            "4! = 24\n",
            "5! = 120\n"
          ],
          "name": "stdout"
        }
      ]
    },
    {
      "cell_type": "markdown",
      "metadata": {
        "id": "lWEafdfyH9l7"
      },
      "source": [
        "#Aula8\n",
        "##Merge Sort\n",
        "Merge Sort é um algoritmo de ordenação eficiente.\n",
        "\n",
        "Usa a técnica de dividir para conquistar.\n",
        "\n",
        "Links:\n",
        "https://youtu.be/e2gPzsDMj7M\n",
        "https://youtu.be/mC-zes9BLBk\n",
        "\n"
      ]
    },
    {
      "cell_type": "code",
      "metadata": {
        "id": "FsdZ19FTGApp",
        "colab": {
          "base_uri": "https://localhost:8080/"
        },
        "outputId": "4db12c7b-0457-454b-f6d2-f80b5fb2807e"
      },
      "source": [
        "def intercala(lst, ini, meio, fim):\n",
        "    aux = []\n",
        "    esq = ini\n",
        "    dir = meio+1\n",
        "    while (esq<=meio and dir <= fim):\n",
        "        if (lst[esq] <= lst[dir]):\n",
        "            aux.append(lst[esq])\n",
        "            esq += 1\n",
        "        else:\n",
        "            aux.append(lst[dir])\n",
        "            dir +=1\n",
        "    while (esq <= meio):\n",
        "        aux.append(lst[esq])\n",
        "        esq += 1\n",
        "    while (dir <= fim):\n",
        "        aux.append(lst[dir])\n",
        "        dir +=1\n",
        "    lst[ini:fim+1] = aux\n",
        "    return lst\n",
        "\n",
        "print(intercala([2,4,6,1,3,5,7], 0, 2, 6))\n"
      ],
      "execution_count": null,
      "outputs": [
        {
          "output_type": "stream",
          "text": [
            "[1, 2, 3, 4, 5, 6, 7]\n"
          ],
          "name": "stdout"
        }
      ]
    },
    {
      "cell_type": "code",
      "metadata": {
        "id": "hBIQFMOSJMn6",
        "colab": {
          "base_uri": "https://localhost:8080/"
        },
        "outputId": "8bf5612c-ddd8-4916-cc5a-6f2bbb53a0e5"
      },
      "source": [
        "def mergesort (lst, ini = 0, fim = None):\n",
        "    if fim is None:\n",
        "        fim = len(lst) - 1\n",
        "    if (fim <= ini): # base da recursão: a lista tem um elemento ao menos\n",
        "        return\n",
        "    meio = (ini+fim)//2\n",
        "    mergesort(lst, ini, meio)\n",
        "    mergesort(lst, meio+1, fim)\n",
        "    intercala(lst, ini, meio, fim)\n",
        "\n",
        "exemplo = [10, 6, 4, 2, 12, 7, 18, 17, 5, 8, 3, 16, 1, 9, 13, 14, 11, 15]\n",
        "mergesort(exemplo)\n",
        "\n",
        "print(exemplo)"
      ],
      "execution_count": null,
      "outputs": [
        {
          "output_type": "stream",
          "text": [
            "[1, 2, 3, 4, 5, 6, 7, 8, 9, 10, 11, 12, 13, 14, 15, 16, 17, 18]\n"
          ],
          "name": "stdout"
        }
      ]
    },
    {
      "cell_type": "code",
      "metadata": {
        "id": "w_Sq7JZCxoSW"
      },
      "source": [
        "# Vídeo \"Quick Sort\": https://youtu.be/wx5juM9bbFo\n",
        "def quicksort(lista, inicio=0, fim=None):\n",
        "    if fim is None:\n",
        "        fim = len(lista)-1\n",
        "    if inicio < fim:\n",
        "        p = partition(lista, inicio, fim)\n",
        "        # recursivamente na sublista à esquerda (menores)\n",
        "        quicksort(lista, inicio, p-1)\n",
        "        # recursivamente na sublista à direita (maiores)\n",
        "        quicksort(lista, p+1, fim)\n",
        "\n",
        "def partition(lista, inicio, fim):\n",
        "    pivot = lista[fim]\n",
        "    i = inicio\n",
        "    for j in range(inicio, fim):\n",
        "        # j sempre avança, pois representa o elementa em análise\n",
        "        # e delimita os elementos maiores que o pivô\n",
        "        if lista[j] <= pivot:\n",
        "            lista[j], lista[i] = lista[i], lista[j]\n",
        "            # incrementa-se o limite dos elementos menores que o pivô\n",
        "            i = i + 1\n",
        "    lista[i], lista[fim] = lista[fim], lista[i]\n",
        "    return i\n",
        "\n",
        "# Vídeo \"Merge Sort\": https://youtu.be/S5no2qT8_xg\n",
        "def mergesort(lista, inicio=0, fim=None):\n",
        "    if fim is None:\n",
        "        fim = len(lista)\n",
        "    if(fim - inicio > 1):\n",
        "        meio = (fim + inicio)//2\n",
        "        mergesort(lista, inicio, meio)\n",
        "        mergesort(lista, meio, fim)\n",
        "        merge(lista, inicio, meio, fim)\n",
        "\n",
        "def merge(lista, inicio, meio, fim):\n",
        "    left = lista[inicio:meio]\n",
        "    right = lista[meio:fim]\n",
        "    top_left, top_right = 0, 0\n",
        "    for k in range(inicio, fim):\n",
        "        if top_left >= len(left):\n",
        "            lista[k] = right[top_right]\n",
        "            top_right = top_right + 1\n",
        "        elif top_right >= len(right):\n",
        "            lista[k] = left[top_left]\n",
        "            top_left = top_left + 1\n",
        "        elif left[top_left] < right[top_right]:\n",
        "            lista[k] = left[top_left]\n",
        "            top_left = top_left + 1\n",
        "        else:\n",
        "            lista[k] = right[top_right]\n",
        "            top_right = top_right + 1\n",
        "\n",
        "# Vídeo \"Insertion Sort\": https://youtu.be/S5no2qT8_xg\n",
        "def insertion_sort(lista):\n",
        "    n = len(lista)\n",
        "    for i in range(1, n):\n",
        "        chave = lista[i]\n",
        "        j = i - 1\n",
        "        while j >= 0 and lista[j] > chave:\n",
        "            lista[j+1] = lista[j]\n",
        "            j = j - 1\n",
        "        lista[j+1] = chave\n",
        "# Complexidade de tempo O(nˆ2)\n",
        "# Complexidade de espaço O(n)\n",
        "\n",
        "# Vídeo \"Bubble Sort\": https://youtu.be/GiNPe_678Ms\n",
        "def bubble_sort(lista):\n",
        "    n = len(lista)\n",
        "    for j in range(n-1):\n",
        "        for i in range(n-1):\n",
        "            if lista[i] > lista[i+1]:\n",
        "                # troca de elementos nas posições i e i+1\n",
        "                lista[i], lista[i+1] = lista[i+1], lista[i]\n",
        "# Complexidade de tempo O(nˆ2)\n",
        "# Complexidade de espaço O(n)\n",
        "\n",
        "# Vídeo \"Selection Sort\": https://youtu.be/ZT_dT8yn48s\n",
        "def selection_sort(lista):\n",
        "    n = len(lista)\n",
        "    for j in range(n-1):\n",
        "        min_index = j\n",
        "        for i in range(j, n):\n",
        "            if lista[i] < lista[min_index]:\n",
        "                min_index = i\n",
        "        if lista[j] > lista[min_index]:\n",
        "            aux = lista[j]\n",
        "            lista[j] = lista[min_index]\n",
        "            lista[min_index] = aux\n",
        "# 1 + (n-1)*[5 + X] = 1 + 5*(n-1) + X*(n-1)\n",
        "# Complexidade de tempo O(nˆ2)\n",
        "# Complexidade de espaço O(n)"
      ],
      "execution_count": null,
      "outputs": []
    },
    {
      "cell_type": "markdown",
      "metadata": {
        "id": "NY37ywWXCzty"
      },
      "source": [
        "#Aula9\n",
        "##Árvores\n",
        "Buscas e Implementar Prioridades\n",
        "\n",
        "O Custo da Árvore Binária é O(lgN), e depende da altura da árvore (níveis) e não de sua quantidade de elementos\n",
        "\n",
        "Links:\n",
        "https://youtu.be/BpxeqB1V4fU\n",
        "https://youtu.be/PtoV_P2PSQQ"
      ]
    },
    {
      "cell_type": "code",
      "metadata": {
        "id": "UXzy1jlGOxxq"
      },
      "source": [
        "'''\n",
        "Árvore Binária\n",
        "'''\n",
        "class Arvore:\n",
        "    def __init__(self, chave, filho_esquerdo = None, filho_direito = None):\n",
        "        self.chave = chave\n",
        "        self.filho_esquerdo = filho_esquerdo\n",
        "        self.filho_direito = filho_direito\n",
        "\n",
        "    def exibe_pre_ordem (self):\n",
        "        if (self.filho_esquerdo is not None):\n",
        "            self.filho_esquerdo.exibe_pre_ordem()\n",
        "        print(self.chave)\n",
        "        if (self.filho_direito is not None):\n",
        "            self.filho_direito.exibe_pre_ordem()\n",
        "\n",
        "    def exibe_in_ordem (self):\n",
        "        print(self.chave)\n",
        "        if (self.filho_esquerdo is not None):\n",
        "            self.filho_esquerdo.exibe_in_ordem()\n",
        "        if (self.filho_direito is not None):\n",
        "            self.filho_direito.exibe_in_ordem()        "
      ],
      "execution_count": null,
      "outputs": []
    },
    {
      "cell_type": "code",
      "metadata": {
        "id": "nY3y4P4du4fm",
        "colab": {
          "base_uri": "https://localhost:8080/",
          "height": 35
        },
        "outputId": "337dd2d3-a12e-4fd8-94d7-8736a9dcd0fa"
      },
      "source": [
        "x = Arvore(8, None, Arvore(11))\n",
        "y = Arvore(7, Arvore(5), x)\n",
        "'''\n",
        "print('y é um nó que tem chave', y.chave)\n",
        "print('y é um nó que tem filho esquerdo', y.filho_esquerdo)\n",
        "print('y é um nó que tem filho direito', y.filho_direito) # Vai imprimir um objeto do tipo árvore\n",
        "'''"
      ],
      "execution_count": null,
      "outputs": [
        {
          "output_type": "execute_result",
          "data": {
            "application/vnd.google.colaboratory.intrinsic+json": {
              "type": "string"
            },
            "text/plain": [
              "\"\\nprint('y é um nó que tem chave', y.chave)\\nprint('y é um nó que tem filho esquerdo', y.filho_esquerdo)\\nprint('y é um nó que tem filho direito', y.filho_direito) # Vai imprimir um objeto do tipo árvore\\n\""
            ]
          },
          "metadata": {
            "tags": []
          },
          "execution_count": 34
        }
      ]
    },
    {
      "cell_type": "code",
      "metadata": {
        "id": "okHA4blD1WbE",
        "colab": {
          "base_uri": "https://localhost:8080/"
        },
        "outputId": "155c111e-af60-4607-d764-934af7ec7671"
      },
      "source": [
        "print('Exibição em PRÉ-ordem')\n",
        "y.exibe_pre_ordem()\n",
        "\n",
        "print('Exibição em In-ordem')\n",
        "y.exibe_in_ordem()"
      ],
      "execution_count": null,
      "outputs": [
        {
          "output_type": "stream",
          "text": [
            "Exibição em PRÉ-ordem\n",
            "5\n",
            "7\n",
            "8\n",
            "11\n",
            "Exibição em In-ordem\n",
            "7\n",
            "5\n",
            "8\n",
            "11\n"
          ],
          "name": "stdout"
        }
      ]
    },
    {
      "cell_type": "markdown",
      "metadata": {
        "id": "m5YweDua5Jbf"
      },
      "source": [
        "        7\n",
        "      5   8\n",
        "           11"
      ]
    },
    {
      "cell_type": "markdown",
      "metadata": {
        "id": "gYnwdbSEH2bD"
      },
      "source": [
        "Implantação Arvore binária\n",
        "Link: https://www.youtube.com/watch?v=6E169kShoNU&t=1516s"
      ]
    },
    {
      "cell_type": "code",
      "metadata": {
        "id": "C4H0-EfFH1Bx"
      },
      "source": [
        "class Node:\n",
        "    def __init__(self, data):\n",
        "        self.data = data\n",
        "        self.left = None\n",
        "        self.right = None\n",
        "\n",
        "    def __str__(self):\n",
        "        return str(self.data)\n",
        "\n",
        "class BinaryTree:\n",
        "    def __init__(self, data = None):\n",
        "        if data:\n",
        "            node = Node(data)\n",
        "            self.root = node\n",
        "        else:\n",
        "            self.root = None\n",
        "    # percurso em ordem simétrica\n",
        "    def simetric_traversal(self, node = None):\n",
        "        if node is None:\n",
        "            node = self.root\n",
        "        if node.left:\n",
        "            print('(', end ='')\n",
        "            self.simetric_traversal(node.left)\n",
        "        print(node, end = '')\n",
        "        if node.right:\n",
        "            self.simetric_traversal(node.right)\n",
        "            print(')', end='')\n"
      ],
      "execution_count": null,
      "outputs": []
    },
    {
      "cell_type": "code",
      "metadata": {
        "id": "kgK9bfZfJwap",
        "colab": {
          "base_uri": "https://localhost:8080/"
        },
        "outputId": "aad49b52-c34c-46f1-facb-ddddf20e0fa8"
      },
      "source": [
        "tree = BinaryTree(7)\n",
        "tree.root.left = Node(18)\n",
        "tree.root.right = Node(14)\n",
        "\n",
        "print(tree.root)\n",
        "print(tree.root.left)\n",
        "print(tree.root.right)"
      ],
      "execution_count": null,
      "outputs": [
        {
          "output_type": "stream",
          "text": [
            "7\n",
            "18\n",
            "14\n"
          ],
          "name": "stdout"
        }
      ]
    },
    {
      "cell_type": "markdown",
      "metadata": {
        "id": "TPnpm-I6LE5n"
      },
      "source": [
        "#(a + (b * ((c / d) - e)))"
      ]
    },
    {
      "cell_type": "code",
      "metadata": {
        "id": "Z-kxvUApKwpl",
        "colab": {
          "base_uri": "https://localhost:8080/"
        },
        "outputId": "0d0244eb-6586-4670-c793-059ddd430606"
      },
      "source": [
        "'''\n",
        "    '+'\n",
        "   /   \\\n",
        "'a'    '*'\n",
        "      /   \\\n",
        "    'b'   '-'\n",
        "         /   \\\n",
        "       '/'   'e'\n",
        "      /   \\\n",
        "    'c'   'd'\n",
        "'''\n",
        "\n",
        "tree = BinaryTree()\n",
        "n1 = Node('a')\n",
        "n2 = Node('+')\n",
        "n3 = Node('*')\n",
        "n4 = Node('b')\n",
        "n5 = Node('-')\n",
        "n6 = Node('/')\n",
        "n7 = Node('c')\n",
        "n8 = Node('d')\n",
        "n9 = Node('e')\n",
        "\n",
        "n6.left = n7\n",
        "n6.right = n8\n",
        "n5.left = n6\n",
        "n5.right = n9\n",
        "n3.left = n4\n",
        "n3.right = n5\n",
        "n2.left = n1\n",
        "n2.right = n3\n",
        "\n",
        "tree.root = n2\n",
        "\n",
        "tree.simetric_traversal()"
      ],
      "execution_count": null,
      "outputs": [
        {
          "output_type": "stream",
          "text": [
            "(a+(b*((c/d)-e)))"
          ],
          "name": "stdout"
        }
      ]
    },
    {
      "cell_type": "code",
      "metadata": {
        "id": "pSpiEBw2ngoq",
        "colab": {
          "base_uri": "https://localhost:8080/"
        },
        "outputId": "b002a615-fd16-4d45-e3ba-a4192b285da0"
      },
      "source": [
        "# Programação Dinâmica - Estruturas de Dados\n",
        "# Implementação de Árvores e seus algoritmos - by hallpaz\n",
        "# https://youtube.com/programacaodinamica\n",
        "\n",
        "from queue import Queue\n",
        "\n",
        "\n",
        "ROOT = \"root\"\n",
        "# Implementando uma Árvore Binária: https://youtu.be/6E169kShoNU\n",
        "class Node:\n",
        "    def __init__(self, data):\n",
        "        self.data = data\n",
        "        self.left = None\n",
        "        self.right = None\n",
        "\n",
        "    def __str__(self):\n",
        "        return str(self.data)\n",
        "\n",
        "class BinaryTree:\n",
        "    def __init__(self, data=None, node=None):\n",
        "        if node:\n",
        "            self.root = node\n",
        "        elif data:\n",
        "            node = Node(data)\n",
        "            self.root = node\n",
        "        else:\n",
        "            self.root = None\n",
        "\n",
        "    # Percurso em ordem simétrica (o correto é \"inorder\" em inglês)\n",
        "    def simetric_traversal(self, node=None):\n",
        "        if node is None:\n",
        "            node = self.root\n",
        "        if node.left:\n",
        "            # parênteses são específicos para o nosso exemplo,\n",
        "            # um percurso em ordem simétrica não precisa deles\n",
        "            print('(', end='') \n",
        "            self.simetric_traversal(node.left)\n",
        "        print(node, end='')\n",
        "        if node.right:\n",
        "            self.simetric_traversal(node.right)\n",
        "            print(')', end='')\n",
        "    \n",
        "    # Percurso em PÓS ORDEM em ÁRVORE BINÁRIA: https://youtu.be/QC8oiQnlYos\n",
        "    def postorder_traversal(self, node=None):\n",
        "        if node is None:\n",
        "            node = self.root\n",
        "        if node.left:\n",
        "            self.postorder_traversal(node.left)\n",
        "        if node.right:\n",
        "            self.postorder_traversal(node.right)\n",
        "        print(node)\n",
        "    \n",
        "    def height(self, node=None):\n",
        "        if node is None:\n",
        "            node = self.root\n",
        "        hleft = 0\n",
        "        hright = 0\n",
        "        if node.left:\n",
        "            hleft = self.height(node.left)\n",
        "        if node.right:\n",
        "            hright = self.height(node.right)\n",
        "        if hright > hleft:\n",
        "            return hright + 1\n",
        "        return hleft + 1\n",
        "\n",
        "    def inorder_traversal(self, node=None):\n",
        "        if node is None:\n",
        "            node = self.root\n",
        "        if node.left:\n",
        "            self.inorder_traversal(node.left)\n",
        "        print(node, end=' ')\n",
        "        if node.right:\n",
        "            self.inorder_traversal(node.right)\n",
        "\n",
        "    # Percurso em Nível em Árvore Binária: https://youtu.be/UOK7nS2E9xM\n",
        "    def levelorder_traversal(self, node=ROOT):\n",
        "        if node == ROOT:\n",
        "            node = self.root\n",
        "\n",
        "        queue = Queue()\n",
        "        queue.push(node)\n",
        "        while len(queue):\n",
        "            node = queue.pop()\n",
        "            if node.left:\n",
        "                queue.push(node.left)\n",
        "            if node.right:\n",
        "                queue.push(node.right)\n",
        "            print(node, end=\" \")\n",
        "\n",
        "# Árvore Binária de Busca: https://youtu.be/rviJVdt_icw\n",
        "class BinarySearchTree(BinaryTree):\n",
        "    \n",
        "    def insert(self, value):\n",
        "        parent = None\n",
        "        x = self.root\n",
        "        while(x):\n",
        "            parent = x\n",
        "            if value < x.data:\n",
        "                x = x.left\n",
        "            else:\n",
        "                x = x.right\n",
        "        if parent is None:\n",
        "            self.root = Node(value)\n",
        "        elif value < parent.data:\n",
        "            parent.left = Node(value)\n",
        "        else:\n",
        "            parent.right = Node(value)\n",
        "\n",
        "    def search(self, value):\n",
        "        return self._search(value, self.root)\n",
        "\n",
        "    def _search(self, value, node):\n",
        "        if node is None:\n",
        "            return node\n",
        "        if node.data == value:\n",
        "            return BinarySearchTree(node)\n",
        "        if value < node.data:\n",
        "            return self._search(value, node.left)\n",
        "        return self._search(value, node.right)\n",
        "\n",
        "    # Encontrando o MAIOR e o MENOR elemento numa ÁRVORE Binária de Busca: https://youtu.be/Q9s_XyJpHTI\n",
        "    def min(self, node=ROOT):\n",
        "        if node == ROOT:\n",
        "            node = self.root\n",
        "        while node.left:\n",
        "            node = node.left\n",
        "        return node.data\n",
        "\n",
        "    def max(self, node=ROOT):\n",
        "        if node == ROOT:\n",
        "            node = self.root\n",
        "        while node.right:\n",
        "            node = node.right\n",
        "        return node.data\n",
        "\n",
        "    # REMOVENDO da Árvore Binária de Busca: https://youtu.be/dyLwOXBA3Ws\n",
        "    def remove(self, value, node=ROOT):\n",
        "        # Se for o valor padrão, executa a partir da raiz\n",
        "        if node == ROOT:\n",
        "            node = self.root\n",
        "        # Se desceu até um ramo nulo, não há nada a fazer\n",
        "        if node is None:\n",
        "            return node\n",
        "        # Se o valor for menor, desce à esquerda\n",
        "        if value < node.data:\n",
        "            node.left = self.remove(value, node.left)\n",
        "        # Se o valor for maior, desce à direita\n",
        "        elif value > node.data:\n",
        "            node.right = self.remove(value, node.right)\n",
        "        # Se não for nem menor, nem maior, encontramos! Vamos remover...\n",
        "        else:\n",
        "            if node.left is None:\n",
        "                return node.right\n",
        "            elif node.right is None:\n",
        "                return node.left\n",
        "            else:\n",
        "                # Substituto é o sucessor do valor a ser removido\n",
        "                substitute = self.min(node.right)\n",
        "                # Ao invés de trocar a posição dos nós, troca o valor\n",
        "                node.data = substitute\n",
        "                # Depois, remove o substituto da subárvore à direita\n",
        "                node.right = self.remove(substitute, node.right)\n",
        "\n",
        "        return node\n",
        "        \n",
        "    \n",
        "    # def search(self, value, node=ROOT):\n",
        "    #     if node == ROOT:\n",
        "    #         node = self.root\n",
        "    #     if node is None or node.data == value:\n",
        "    #         return BinarySearchTree(node)\n",
        "    #     if value < node.data:\n",
        "    #         return self.search(value, node.left)\n",
        "    #     return self.search(value, node.right)\n",
        "        \n",
        "        \n",
        "\n",
        "if __name__ == \"__main__\":\n",
        "    tree = BinaryTree(7)\n",
        "    tree.root.left = Node(18)\n",
        "    tree.root.right = Node(14)\n",
        "\n",
        "    print(tree.root)\n",
        "    print(tree.root.right)\n",
        "    print(tree.root.left)"
      ],
      "execution_count": null,
      "outputs": [
        {
          "output_type": "stream",
          "text": [
            "7\n",
            "14\n",
            "18\n"
          ],
          "name": "stdout"
        }
      ]
    },
    {
      "cell_type": "markdown",
      "metadata": {
        "id": "H3fyoiPo8s-b"
      },
      "source": [
        "#Aula10\n",
        "##Tabela de Hashing - Dicionário\n",
        "\n",
        "Dados armazenados (TAD):\n",
        "* Sequência de chaves e valores\n",
        "\n",
        "Operações:\n",
        "* Inserir valor com nova chave\n",
        "* Inserir valor com chave existente\n",
        "* Acessar valor associado a determinada chave\n",
        "\n",
        "Links:\n",
        "https://youtu.be/4DEY6uaqRz8\n",
        "https://youtu.be/aHX1UsxQuJc"
      ]
    },
    {
      "cell_type": "code",
      "metadata": {
        "id": "rdDcL6SA2aIQ",
        "colab": {
          "base_uri": "https://localhost:8080/"
        },
        "outputId": "c0849ec5-8b46-4741-ae25-0b8d5861ac2e"
      },
      "source": [
        "x = {}\n",
        "y = dict()\n",
        "print(x)\n",
        "print(y)"
      ],
      "execution_count": null,
      "outputs": [
        {
          "output_type": "stream",
          "text": [
            "{}\n",
            "{}\n"
          ],
          "name": "stdout"
        }
      ]
    },
    {
      "cell_type": "code",
      "metadata": {
        "id": "i0qZqZneG4SF",
        "colab": {
          "base_uri": "https://localhost:8080/"
        },
        "outputId": "ec3ab574-8b7e-49bb-ad80-afb58f99c785"
      },
      "source": [
        "x = {\n",
        "    'data':'25/12/1956',\n",
        "     'estoque':122\n",
        "}\n",
        "\n",
        "x['operação'] = 'venda'\n",
        "print(x)"
      ],
      "execution_count": null,
      "outputs": [
        {
          "output_type": "stream",
          "text": [
            "{'data': '25/12/1956', 'estoque': 122, 'operação': 'venda'}\n"
          ],
          "name": "stdout"
        }
      ]
    },
    {
      "cell_type": "code",
      "metadata": {
        "id": "Q06ZoUu8HLKN",
        "colab": {
          "base_uri": "https://localhost:8080/"
        },
        "outputId": "d436952d-3134-47f8-c004-f7d9956575ca"
      },
      "source": [
        "lista = ['maçã', 'laranja', 'uva']\n",
        "\n",
        "print(lista[1])\n",
        "print(x['estoque'])"
      ],
      "execution_count": null,
      "outputs": [
        {
          "output_type": "stream",
          "text": [
            "laranja\n",
            "122\n"
          ],
          "name": "stdout"
        }
      ]
    },
    {
      "cell_type": "code",
      "metadata": {
        "id": "ydcK2SgoHX7T",
        "colab": {
          "base_uri": "https://localhost:8080/"
        },
        "outputId": "ed20ef0d-8747-4f9d-94fe-c4d2e08b6577"
      },
      "source": [
        "print(hash('data') & (15))\n",
        "print(hash('estoque') & (15))\n",
        "print(hash('operação') & (15))\n"
      ],
      "execution_count": null,
      "outputs": [
        {
          "output_type": "stream",
          "text": [
            "7\n",
            "3\n",
            "6\n"
          ],
          "name": "stdout"
        }
      ]
    },
    {
      "cell_type": "markdown",
      "metadata": {
        "id": "R9Ik5IpqItpr"
      },
      "source": [
        "#Aula11\n",
        "##Fila de Prioridades - Heap\n",
        "\n",
        "Tipo especial de árvore\n",
        "\n",
        "Dados armazenados (TAD):\n",
        "* Sequência de dados com respectivas prioridades\n",
        "\n",
        "Operações:\n",
        "* Inserir dado com determinada prioridade\n",
        "* Remover o elemento de maior prioridade\n",
        "* Obter o elemento de maior prioridade\n",
        "* Obter o tamanho da fila\n",
        "\n",
        "Cada nó irá guardar a chave (Prioridade) daquele elemento e o nó pai tem sempre que ter a chave maior que os filhos.\n",
        "\n",
        "\n",
        "Links:\n",
        "https://youtu.be/MbGuwSDt0AY\n",
        "https://youtu.be/z-I__YVCKbk"
      ]
    },
    {
      "cell_type": "markdown",
      "metadata": {
        "id": "3rxYjaABvxPT"
      },
      "source": [
        "             9\n",
        "         6       3\n",
        "       4   5   2   \n",
        "\n",
        "       * Inserção do 8\n",
        "\n",
        "             9\n",
        "         6       8\n",
        "       4   5   2   3\n",
        "\n",
        "       * Remoção: tirou o 9\n",
        " \n",
        "             3\n",
        "         6       8\n",
        "       4   5   2        "
      ]
    },
    {
      "cell_type": "code",
      "metadata": {
        "id": "6KzZ6NTQH0jQ"
      },
      "source": [
        "'''\n",
        "Heap - Fila de prioridades\n",
        "'''\n",
        "#       0  1  2  3  4  5\n",
        "# heap = [9, 6, 3, 4, 5, 2]\n",
        "\n",
        "class Heap:\n",
        "    def __init__(self):\n",
        "        self.heap = []\n",
        "\n",
        "#__________________________MÉTODOS AUXILIARES_______________________________ #     \n",
        "\n",
        "    # retorna o índice que é pai de um determinado índice\n",
        "    def pai (self, indice_filho):\n",
        "        return (indice_filho-1)//2\n",
        "    \n",
        "    # retorna o índice do filho esquerdo do índice\n",
        "    def fesq(self, indice_pai):\n",
        "        return 2 * indice_pai + 1\n",
        "\n",
        "    # retorna o índice do filho direito do índice\n",
        "    def fdir(self, indice_pai):\n",
        "        return 2 * indice_pai + 2\n",
        "    \n",
        "    # retorna o índice do maior filho de um elemento\n",
        "    def maior_filho(self, indice_pai):\n",
        "        fesq, fdir = self.fesq(indice_pai), self.fdir(indice_pai)\n",
        "        if (fesq >= len(self.heap)):\n",
        "            return None\n",
        "        elif (fdir >= len(self.heap)):\n",
        "            return fesq\n",
        "        elif (self.heap[fesq] > self.heap[fdir]):\n",
        "            return fesq\n",
        "        else:\n",
        "            return fdir\n",
        "\n",
        "    # recebe dois índices do heap e troca o conteúdo entre os dois\n",
        "    def troca(self, i, j):\n",
        "        self.heap[i], self.heap[j] = self.heap[j], self.heap[i]\n",
        "# ___________________________________________________________________________ #        \n",
        "\n",
        "    # retorna o maior elemento do heap(sem remover)\n",
        "    def maximo(self):\n",
        "        return self.heap[0]\n",
        "    \n",
        "    # insere um novo elemento no heap\n",
        "    def insere(self, novo):\n",
        "        self.heap.append(novo)\n",
        "        indice_novo = len(self.heap) - 1\n",
        "        while (indice_novo != 0 and self.heap[self.pai(indice_novo)] < self.heap[indice_novo]):\n",
        "            self.troca(indice_novo, self.pai(indice_novo))\n",
        "            indice_novo = self.pai(indice_novo)\n",
        "    # remove o maior elemento do heap\n",
        "    def remove(self):\n",
        "        removido = self.maximo()\n",
        "        self.troca(0, len(self.heap) - 1)\n",
        "        self.heap.pop()\n",
        "        i = 0\n",
        "        while (self.maior_filho(i) is not None and self.heap[self.maior_filho(i)] > self.heap[i]):\n",
        "            indice_filho = self.maior_filho(i)\n",
        "            self.troca(i, indice_filho)\n",
        "            i = indice_filho\n",
        "        return removido\n"
      ],
      "execution_count": null,
      "outputs": []
    },
    {
      "cell_type": "code",
      "metadata": {
        "id": "pe3ThBnO33ls",
        "colab": {
          "base_uri": "https://localhost:8080/"
        },
        "outputId": "529728f6-6d51-47d9-c1ab-f26a5a36bef8"
      },
      "source": [
        "'''\n",
        "Teste de heao\n",
        "'''\n",
        "h = Heap()\n",
        "\n",
        "h.insere(3)\n",
        "h.insere(5)\n",
        "h.insere(9)\n",
        "h.insere(2)\n",
        "h.insere(6)\n",
        "h.insere(4)\n",
        "h.insere(20)\n",
        "h.insere(1)\n",
        "h.insere(15)\n",
        "h.insere(13)\n",
        "h.insere(11)\n",
        "\n",
        "print('O máximo na árvore é', h.maximo())\n",
        "print('Removi o',h.remove())\n",
        "print('O máximo na árvore é', h.maximo())"
      ],
      "execution_count": null,
      "outputs": [
        {
          "output_type": "stream",
          "text": [
            "O máximo na árvore é 20\n",
            "Removi o 20\n",
            "O máximo na árvore é 15\n"
          ],
          "name": "stdout"
        }
      ]
    },
    {
      "cell_type": "markdown",
      "metadata": {
        "id": "L5rjAlIRFO-m"
      },
      "source": [
        "#Aula12\n",
        "##Grafos\n",
        "\n",
        "Dados armazenados (TAD):\n",
        "* Vertices existentes\n",
        "* Adjacencias entre os vertices\n",
        "\n",
        "Operações:\n",
        "* Criar grafo com determinado número de vertices\n",
        "* Adicionar aresta\n",
        "* Remover aresta\n",
        "* Saber se a aresta exite\n",
        "\n",
        "***Lista de Adjacencias***:para cada vertice **u**, teremos uma lista de vizinhos **[u]** que armazena todos os vertices adjacentes a **u**. \n",
        "\n",
        "Links:\n",
        "https://youtu.be/SY7kQ7zFq0g\n",
        "https://youtu.be/h4GSfx91vwI"
      ]
    },
    {
      "cell_type": "code",
      "metadata": {
        "id": "ZIuooe31BxFU"
      },
      "source": [
        "class Grafo:\n",
        "    def __init__(self, numero_vertices):\n",
        "        self.adj = [ [] for i in range(numero_vertices) ] #cria uma lista de listas\n",
        "        self.V = numero_vertices\n",
        "        self.E = 0 # contador de arestas\n",
        "    \n",
        "    #torna vizinhos no grafo os vértices 1 e 2\n",
        "    def adiciona_aresta(self, vertice1, vertice2):\n",
        "        self.adj[vertice1].append(vertice2) #vertice 2 entre na lista de vizinhos do 1\n",
        "        self.adj[vertice2].append(vertice1) #vertice 1 entre na lista de vizinhos do 2\n",
        "        self.E +=1 # adiciona arestas\n",
        "    \n",
        "    #retorna lista de vizinhos do vértice V\n",
        "    def vizinhos(self, v):\n",
        "        return self.adj[v]"
      ],
      "execution_count": null,
      "outputs": []
    },
    {
      "cell_type": "code",
      "metadata": {
        "id": "bqcMSdLlH0JR",
        "colab": {
          "base_uri": "https://localhost:8080/"
        },
        "outputId": "3bbf1fde-f42d-482b-9738-d6fa21632712"
      },
      "source": [
        "'''\n",
        "Grafo com vertices 0, 1 e 2\n",
        "\n",
        "  (0) --- (1)\n",
        "   |\n",
        "  (2)\n",
        "\n",
        "\n",
        "'''\n",
        "\n",
        "G = Grafo(3)\n",
        "G.adiciona_aresta(0, 1)\n",
        "G.adiciona_aresta(0, 2)\n",
        "\n",
        "print('G tem', G.V, 'vertices e', G.E, 'arestas')\n",
        "print('No grafo G o(s) vizinho(s) do vétice', 0, 'são (é)', G.vizinhos(0))"
      ],
      "execution_count": null,
      "outputs": [
        {
          "output_type": "stream",
          "text": [
            "G tem 3 vertices e 2 arestas\n",
            "No grafo G o(s) vizinho(s) do vétice 0 são (é) [1, 2]\n"
          ],
          "name": "stdout"
        }
      ]
    },
    {
      "cell_type": "code",
      "metadata": {
        "id": "mhu-KhFHM7nX",
        "colab": {
          "base_uri": "https://localhost:8080/"
        },
        "outputId": "45fb7715-83d3-495c-87e2-05689017f926"
      },
      "source": [
        "'''\n",
        "Grafo com vertices 0, 1, 2, 3, 4, 5 e 6\n",
        "\n",
        "  (0) --- (1) --- (4) --- (5)\n",
        "   |       |               |\n",
        "  (2) --- (3)             (6)\n",
        "\n",
        "'''\n",
        "\n",
        "H = Grafo(7)\n",
        "H.adiciona_aresta(0, 1)\n",
        "H.adiciona_aresta(0, 2)\n",
        "H.adiciona_aresta(1, 4)\n",
        "H.adiciona_aresta(1, 3)\n",
        "H.adiciona_aresta(3, 2)\n",
        "H.adiciona_aresta(5, 4)\n",
        "H.adiciona_aresta(5, 6)\n",
        "\n",
        "print('H tem', H.V, 'vertices e', H.E, 'arestas')\n",
        "\n",
        "print('No grafo H, o(s) vizinho(s) do vétice', 1, 'são (é)', H.vizinhos(1))\n",
        "\n",
        "print('vizinhos do vertice 1 no grafo H:', end=' ')\n",
        "i=1\n",
        "for vertice in H.vizinhos(1):\n",
        "    if (i < len(H.vizinhos(1))-1):\n",
        "        print(' vértice ', vertice, end = \",\")\n",
        "        i +=1\n",
        "    elif (i == len(H.vizinhos(1))-1):\n",
        "        print(' vértice ', vertice, end = \"\")\n",
        "        i +=1\n",
        "    else:\n",
        "        print(' e vértice ', vertice, end = \".\")\n",
        "\n",
        "print()\n"
      ],
      "execution_count": null,
      "outputs": [
        {
          "output_type": "stream",
          "text": [
            "H tem 7 vertices e 7 arestas\n",
            "No grafo H, o(s) vizinho(s) do vétice 1 são (é) [0, 4, 3]\n",
            "vizinhos do vertice 1 no grafo H:  vértice  0, vértice  4 e vértice  3.\n"
          ],
          "name": "stdout"
        }
      ]
    },
    {
      "cell_type": "markdown",
      "metadata": {
        "id": "3-7AGT0ehtUT"
      },
      "source": [
        "#Encerramento\n",
        "\n",
        "Links: https://youtu.be/6arSwdBRwfg\n",
        "\n",
        "https://panda.ime.usp.br/pensepy/static/pensepy/12-Recursao/recursionsimple-ptbr.html\n",
        "\n",
        "https://pt.khanacademy.org/computing/computer-science/algorithms/recursive-algorithms/a/recursion\n",
        "\n",
        "https://pt.khanacademy.org/computing/computer-science/algorithms#merge-sort\n",
        "\n",
        "https://www.ime.usp.br/~pf/algoritmos/aulas/bint.html\n",
        "\n",
        "https://aprendendo-computacao-com-python.readthedocs.io/en/latest/capitulo_10.html#id3\n",
        "\n",
        "https://panda.ime.usp.br/pensepy/static/pensepy/11-Dicionarios/dicionarios.html\n",
        "\n",
        "https://www.ic.unicamp.br/~rafael/cursos/2s2018/mc202/slides/unidade21-fila-de-prioridade.pdf\n",
        "\n",
        "https://www.ime.usp.br/~song/mac5710/slides/03prior.pdf\n",
        "\n",
        "https://pt.khanacademy.org/computing/computer-science/algorithms/graph-representation/a/describing-graphs\n",
        "\n",
        "https://www.ime.usp.br/~pf/algoritmos_para_grafos/\n",
        "\n",
        "Lives:\n",
        "\n",
        "https://drive.google.com/file/d/1zZ0314mAK9VOPpf3Ra-XDaD6_l5_CLnW/view?usp=sharing\n",
        "\n",
        "https://drive.google.com/file/d/1GsVBQ7a80s1XT235Kz_Nlfo5-Ec-uNX1/view?usp=sharing\n",
        "\n",
        "https://drive.google.com/file/d/15HHt_BOvrkKK0qAk1nYhWgFTVLtTil-J/view?usp=sharing\n",
        "\n",
        "https://drive.google.com/file/d/19uEOh8Nx96moiHQk5JoF9KaCSM9Glrbh/view?usp=sharing\n",
        "\n",
        "\n",
        "\n"
      ]
    },
    {
      "cell_type": "code",
      "metadata": {
        "id": "9fD8P-VkOOqF"
      },
      "source": [
        ""
      ],
      "execution_count": null,
      "outputs": []
    }
  ]
}