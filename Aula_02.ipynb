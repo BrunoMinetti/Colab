{
  "nbformat": 4,
  "nbformat_minor": 0,
  "metadata": {
    "colab": {
      "name": "Aula 02.ipynb",
      "provenance": [],
      "collapsed_sections": [
        "YaHuTNM55nC7",
        "cxRWOLRtGIVn",
        "31TLhs3YGRCz",
        "l5Yu5rlZGd1d",
        "tT-bk1NaGZOj",
        "PGy_r-OBZl4c",
        "TNonrUkgbzIG",
        "5n9v2FZmdaEs",
        "XlkAzIIQfEub",
        "AogqzMzbiskD"
      ],
      "authorship_tag": "ABX9TyPFIi9OB3EnQ4glcoTkCkpl",
      "include_colab_link": true
    },
    "kernelspec": {
      "name": "python3",
      "display_name": "Python 3"
    }
  },
  "cells": [
    {
      "cell_type": "markdown",
      "metadata": {
        "id": "view-in-github",
        "colab_type": "text"
      },
      "source": [
        "<a href=\"https://colab.research.google.com/github/BrunoMinetti/Colab/blob/main/Aula_02.ipynb\" target=\"_parent\"><img src=\"https://colab.research.google.com/assets/colab-badge.svg\" alt=\"Open In Colab\"/></a>"
      ]
    },
    {
      "cell_type": "markdown",
      "metadata": {
        "id": "YaHuTNM55nC7"
      },
      "source": [
        "# F-String"
      ]
    },
    {
      "cell_type": "code",
      "metadata": {
        "id": "pnnYVyG_5SAB"
      },
      "source": [
        "primeiro_nome = 'bruno'"
      ],
      "execution_count": null,
      "outputs": []
    },
    {
      "cell_type": "code",
      "metadata": {
        "id": "TT6bTBdN5ze2"
      },
      "source": [
        "ultimo_nome = 'sanches'"
      ],
      "execution_count": null,
      "outputs": []
    },
    {
      "cell_type": "code",
      "metadata": {
        "id": "2tcO8AJt57SP",
        "outputId": "7685cc46-f9df-407e-bbb2-d48ceaf6eede",
        "colab": {
          "base_uri": "https://localhost:8080/"
        }
      },
      "source": [
        "print(primeiro_nome, ultimo_nome)"
      ],
      "execution_count": null,
      "outputs": [
        {
          "output_type": "stream",
          "text": [
            "bruno sanches\n"
          ],
          "name": "stdout"
        }
      ]
    },
    {
      "cell_type": "code",
      "metadata": {
        "id": "wC07d-pT_16v",
        "outputId": "a8dfd7f8-2073-4dfd-e2b4-ddd7cffc36b3",
        "colab": {
          "base_uri": "https://localhost:8080/"
        }
      },
      "source": [
        "print(f\"O nome completo é {primeiro_nome.title()} {ultimo_nome.title()}!\")"
      ],
      "execution_count": null,
      "outputs": [
        {
          "output_type": "stream",
          "text": [
            "O nome completo é Bruno Sanches!\n"
          ],
          "name": "stdout"
        }
      ]
    },
    {
      "cell_type": "markdown",
      "metadata": {
        "id": "cxRWOLRtGIVn"
      },
      "source": [
        "# TUPLAS, LISTAS E DICIONÁRIOS"
      ]
    },
    {
      "cell_type": "code",
      "metadata": {
        "id": "gCUqaZKpGpbI"
      },
      "source": [
        "produto = ('arroz', 'alimento')"
      ],
      "execution_count": null,
      "outputs": []
    },
    {
      "cell_type": "code",
      "metadata": {
        "id": "vXBZ1yulG_kK",
        "outputId": "f948e437-77cc-42d8-a7fd-044214667b62",
        "colab": {
          "base_uri": "https://localhost:8080/"
        }
      },
      "source": [
        "print(produto)"
      ],
      "execution_count": null,
      "outputs": [
        {
          "output_type": "stream",
          "text": [
            "('arroz', 'alimento')\n"
          ],
          "name": "stdout"
        }
      ]
    },
    {
      "cell_type": "code",
      "metadata": {
        "id": "UxlF4IoHHF6M"
      },
      "source": [
        "produtos = ['pão', 'manteiga', 'sal']"
      ],
      "execution_count": null,
      "outputs": []
    },
    {
      "cell_type": "code",
      "metadata": {
        "id": "qmZ9A53gHb5F",
        "outputId": "0137bedd-05b0-40d6-96e0-bcbff936770f",
        "colab": {
          "base_uri": "https://localhost:8080/"
        }
      },
      "source": [
        "print(produtos)"
      ],
      "execution_count": null,
      "outputs": [
        {
          "output_type": "stream",
          "text": [
            "['pão', 'manteiga', 'sal', 'queijo']\n"
          ],
          "name": "stdout"
        }
      ]
    },
    {
      "cell_type": "code",
      "metadata": {
        "id": "Y5bDvccsHga8"
      },
      "source": [
        "produtos.append('queijo')"
      ],
      "execution_count": null,
      "outputs": []
    },
    {
      "cell_type": "code",
      "metadata": {
        "id": "vKh2umzKHqKb"
      },
      "source": [
        "item_removido = produtos.pop()"
      ],
      "execution_count": null,
      "outputs": []
    },
    {
      "cell_type": "code",
      "metadata": {
        "id": "5mItnanXH5-t",
        "outputId": "14dbf209-8d4f-4954-eec2-6de2d547a6fb",
        "colab": {
          "base_uri": "https://localhost:8080/"
        }
      },
      "source": [
        "print(item_removido)"
      ],
      "execution_count": null,
      "outputs": [
        {
          "output_type": "stream",
          "text": [
            "queijo\n"
          ],
          "name": "stdout"
        }
      ]
    },
    {
      "cell_type": "code",
      "metadata": {
        "id": "mh5RRKKVIA56",
        "outputId": "7a2fa09b-e1cb-45dc-f569-bc5e6b11dff4",
        "colab": {
          "base_uri": "https://localhost:8080/"
        }
      },
      "source": [
        "produtos"
      ],
      "execution_count": null,
      "outputs": [
        {
          "output_type": "execute_result",
          "data": {
            "text/plain": [
              "['pão', 'manteiga', 'sal']"
            ]
          },
          "metadata": {
            "tags": []
          },
          "execution_count": 22
        }
      ]
    },
    {
      "cell_type": "code",
      "metadata": {
        "id": "DToP1psdIHRG"
      },
      "source": [
        "carro = {\n",
        "    'nome':'corolla', 'ano': 2015,\n",
        "'motor':2.0}"
      ],
      "execution_count": null,
      "outputs": []
    },
    {
      "cell_type": "code",
      "metadata": {
        "id": "Ef3SqegIIeXK",
        "outputId": "bf05178a-20d3-49a3-f45c-4ad5c012001b",
        "colab": {
          "base_uri": "https://localhost:8080/"
        }
      },
      "source": [
        "carro"
      ],
      "execution_count": null,
      "outputs": [
        {
          "output_type": "execute_result",
          "data": {
            "text/plain": [
              "{'ano': 2015, 'motor': 2.0, 'nome': 'corolla'}"
            ]
          },
          "metadata": {
            "tags": []
          },
          "execution_count": 25
        }
      ]
    },
    {
      "cell_type": "code",
      "metadata": {
        "id": "3WdQVyu2Ijcb",
        "outputId": "b5653084-4b17-486a-fa26-f8870a42d35d",
        "colab": {
          "base_uri": "https://localhost:8080/"
        }
      },
      "source": [
        "print(carro['motor'])"
      ],
      "execution_count": null,
      "outputs": [
        {
          "output_type": "stream",
          "text": [
            "2.0\n"
          ],
          "name": "stdout"
        }
      ]
    },
    {
      "cell_type": "markdown",
      "metadata": {
        "id": "yqrwHXJeIwq9"
      },
      "source": [
        "TUPLAS = ()\n",
        "LISTA = []\n",
        "DICIONÁRIOS = {}"
      ]
    },
    {
      "cell_type": "code",
      "metadata": {
        "id": "UNAfuyyPI8jv"
      },
      "source": [
        "casa = ('Rua 2, 100', 1970)"
      ],
      "execution_count": null,
      "outputs": []
    },
    {
      "cell_type": "code",
      "metadata": {
        "id": "u21yvWJyJPsJ",
        "outputId": "326a0924-80e6-46bb-df1d-9d7e30815c4d",
        "colab": {
          "base_uri": "https://localhost:8080/"
        }
      },
      "source": [
        "print(casa[0])"
      ],
      "execution_count": null,
      "outputs": [
        {
          "output_type": "stream",
          "text": [
            "Rua 2, 100\n"
          ],
          "name": "stdout"
        }
      ]
    },
    {
      "cell_type": "code",
      "metadata": {
        "id": "Iczi0VbEJD7t",
        "outputId": "23a1f22c-1db4-48cf-d9a8-fb4cbb01799e",
        "colab": {
          "base_uri": "https://localhost:8080/",
          "height": 168
        }
      },
      "source": [
        "print(casa[2])"
      ],
      "execution_count": null,
      "outputs": [
        {
          "output_type": "error",
          "ename": "IndexError",
          "evalue": "ignored",
          "traceback": [
            "\u001b[0;31m---------------------------------------------------------------------------\u001b[0m",
            "\u001b[0;31mIndexError\u001b[0m                                Traceback (most recent call last)",
            "\u001b[0;32m<ipython-input-40-35d056fc32fd>\u001b[0m in \u001b[0;36m<module>\u001b[0;34m()\u001b[0m\n\u001b[0;32m----> 1\u001b[0;31m \u001b[0mprint\u001b[0m\u001b[0;34m(\u001b[0m\u001b[0mcasa\u001b[0m\u001b[0;34m[\u001b[0m\u001b[0;36m2\u001b[0m\u001b[0;34m]\u001b[0m\u001b[0;34m)\u001b[0m\u001b[0;34m\u001b[0m\u001b[0;34m\u001b[0m\u001b[0m\n\u001b[0m",
            "\u001b[0;31mIndexError\u001b[0m: tuple index out of range"
          ]
        }
      ]
    },
    {
      "cell_type": "code",
      "metadata": {
        "id": "U6IyYomKJaRb"
      },
      "source": [
        "carros = ['fiesta','corolla','civic','gol','palio','fusion']\n",
        "###          0        1        2      3      4        5"
      ],
      "execution_count": null,
      "outputs": []
    },
    {
      "cell_type": "code",
      "metadata": {
        "id": "hwj2awKRJyMf",
        "outputId": "86039e8e-eadf-43fc-ab7f-d91400c10dd9",
        "colab": {
          "base_uri": "https://localhost:8080/",
          "height": 36
        }
      },
      "source": [
        "carros[5].upper()"
      ],
      "execution_count": null,
      "outputs": [
        {
          "output_type": "execute_result",
          "data": {
            "application/vnd.google.colaboratory.intrinsic+json": {
              "type": "string"
            },
            "text/plain": [
              "'FUSION'"
            ]
          },
          "metadata": {
            "tags": []
          },
          "execution_count": 43
        }
      ]
    },
    {
      "cell_type": "code",
      "metadata": {
        "id": "ea5AuWJgKgLa",
        "outputId": "55d61043-9588-4c84-f472-966830f4afee",
        "colab": {
          "base_uri": "https://localhost:8080/"
        }
      },
      "source": [
        "for i in carros:\n",
        "  print(i)"
      ],
      "execution_count": null,
      "outputs": [
        {
          "output_type": "stream",
          "text": [
            "fiesta\n",
            "corolla\n",
            "civic\n",
            "gol\n",
            "palio\n",
            "fusion\n"
          ],
          "name": "stdout"
        }
      ]
    },
    {
      "cell_type": "code",
      "metadata": {
        "id": "cG9zEYc7L5Fx",
        "outputId": "0fceec41-c3f0-48bb-834e-0acd1f77183f",
        "colab": {
          "base_uri": "https://localhost:8080/",
          "height": 36
        }
      },
      "source": [
        "carros[-1]"
      ],
      "execution_count": null,
      "outputs": [
        {
          "output_type": "execute_result",
          "data": {
            "application/vnd.google.colaboratory.intrinsic+json": {
              "type": "string"
            },
            "text/plain": [
              "'sorento'"
            ]
          },
          "metadata": {
            "tags": []
          },
          "execution_count": 51
        }
      ]
    },
    {
      "cell_type": "code",
      "metadata": {
        "id": "s69VfqfAOxiF"
      },
      "source": [
        "carros.append('sorento')"
      ],
      "execution_count": null,
      "outputs": []
    },
    {
      "cell_type": "code",
      "metadata": {
        "id": "QL5nAP3IO6SA",
        "outputId": "e39e6271-3765-4e47-aa31-418c1beafcb7",
        "colab": {
          "base_uri": "https://localhost:8080/"
        }
      },
      "source": [
        "carros"
      ],
      "execution_count": null,
      "outputs": [
        {
          "output_type": "execute_result",
          "data": {
            "text/plain": [
              "['fiesta', 'corolla', 'civic', 'gol', 'palio', 'fusion', 'sorento']"
            ]
          },
          "metadata": {
            "tags": []
          },
          "execution_count": 52
        }
      ]
    },
    {
      "cell_type": "code",
      "metadata": {
        "id": "1uFKiddMPLLs"
      },
      "source": [
        "cantor = {\n",
        "    'nome': 'Roberto Carlos',\n",
        "    'ano_nascimento': 1950,\n",
        "    'cidade':'Curitiba'\n",
        "}"
      ],
      "execution_count": null,
      "outputs": []
    },
    {
      "cell_type": "code",
      "metadata": {
        "id": "ahWXc1LMPcY5",
        "outputId": "147eb4fe-5f60-47ca-9dc7-fa012088addc",
        "colab": {
          "base_uri": "https://localhost:8080/",
          "height": 36
        }
      },
      "source": [
        "cantor['nome'].lower()"
      ],
      "execution_count": null,
      "outputs": [
        {
          "output_type": "execute_result",
          "data": {
            "application/vnd.google.colaboratory.intrinsic+json": {
              "type": "string"
            },
            "text/plain": [
              "'roberto carlos'"
            ]
          },
          "metadata": {
            "tags": []
          },
          "execution_count": 55
        }
      ]
    },
    {
      "cell_type": "code",
      "metadata": {
        "id": "a6OgXUgePpQM"
      },
      "source": [
        "cantor['estilo'] = 'romantico'"
      ],
      "execution_count": null,
      "outputs": []
    },
    {
      "cell_type": "code",
      "metadata": {
        "id": "WXqBxgZtQge4"
      },
      "source": [
        "cantor['cidade'] = 'Curitiba'"
      ],
      "execution_count": null,
      "outputs": []
    },
    {
      "cell_type": "code",
      "metadata": {
        "id": "33ysX3gePwXA",
        "outputId": "e16effc9-1d67-4b97-8fbf-53b118d5779a",
        "colab": {
          "base_uri": "https://localhost:8080/"
        }
      },
      "source": [
        "cantor"
      ],
      "execution_count": null,
      "outputs": [
        {
          "output_type": "execute_result",
          "data": {
            "text/plain": [
              "{'ano_nascimento': 1950,\n",
              " 'cidade': 'Curitiba',\n",
              " 'estilo': 'romantico',\n",
              " 'nome': 'Roberto Carlos'}"
            ]
          },
          "metadata": {
            "tags": []
          },
          "execution_count": 57
        }
      ]
    },
    {
      "cell_type": "code",
      "metadata": {
        "id": "C2icvAPPP955",
        "outputId": "2ef71b29-3c74-4581-9c56-0fb37a552cf3",
        "colab": {
          "base_uri": "https://localhost:8080/",
          "height": 36
        }
      },
      "source": [
        "cantor.pop('cidade', 'cidade não encontrada')"
      ],
      "execution_count": null,
      "outputs": [
        {
          "output_type": "execute_result",
          "data": {
            "application/vnd.google.colaboratory.intrinsic+json": {
              "type": "string"
            },
            "text/plain": [
              "'Curitiba'"
            ]
          },
          "metadata": {
            "tags": []
          },
          "execution_count": 62
        }
      ]
    },
    {
      "cell_type": "code",
      "metadata": {
        "id": "PmGCpapFQpRI",
        "outputId": "6ae510eb-2905-4b05-b299-c0a230de0ca2",
        "colab": {
          "base_uri": "https://localhost:8080/",
          "height": 36
        }
      },
      "source": [
        "cantor.pop('cidade', 'cidade não encontrada')"
      ],
      "execution_count": null,
      "outputs": [
        {
          "output_type": "execute_result",
          "data": {
            "application/vnd.google.colaboratory.intrinsic+json": {
              "type": "string"
            },
            "text/plain": [
              "'cidade não encontrada'"
            ]
          },
          "metadata": {
            "tags": []
          },
          "execution_count": 63
        }
      ]
    },
    {
      "cell_type": "code",
      "metadata": {
        "id": "Ox9S9C4qQtzV",
        "outputId": "17c71272-9ebc-4744-c5fe-7f59ecbcb862",
        "colab": {
          "base_uri": "https://localhost:8080/"
        }
      },
      "source": [
        "cantor.keys()"
      ],
      "execution_count": null,
      "outputs": [
        {
          "output_type": "execute_result",
          "data": {
            "text/plain": [
              "dict_keys(['nome', 'ano_nascimento', 'estilo'])"
            ]
          },
          "metadata": {
            "tags": []
          },
          "execution_count": 64
        }
      ]
    },
    {
      "cell_type": "code",
      "metadata": {
        "id": "js7FszZURclq",
        "outputId": "c9f3f3c5-bd0d-42c6-ce6a-c221a0b103f6",
        "colab": {
          "base_uri": "https://localhost:8080/"
        }
      },
      "source": [
        "cantor.values()"
      ],
      "execution_count": null,
      "outputs": [
        {
          "output_type": "execute_result",
          "data": {
            "text/plain": [
              "dict_values(['Roberto Carlos', 1950, 'romantico'])"
            ]
          },
          "metadata": {
            "tags": []
          },
          "execution_count": 65
        }
      ]
    },
    {
      "cell_type": "markdown",
      "metadata": {
        "id": "31TLhs3YGRCz"
      },
      "source": [
        "# BOOLEAN"
      ]
    },
    {
      "cell_type": "code",
      "metadata": {
        "id": "l4PtjymcRu5e"
      },
      "source": [
        "run = False"
      ],
      "execution_count": null,
      "outputs": []
    },
    {
      "cell_type": "code",
      "metadata": {
        "id": "RhJj9ENSR4qB",
        "outputId": "acf9836b-1e53-471e-c038-b6cae0641991",
        "colab": {
          "base_uri": "https://localhost:8080/"
        }
      },
      "source": [
        "print(run)"
      ],
      "execution_count": null,
      "outputs": [
        {
          "output_type": "stream",
          "text": [
            "False\n"
          ],
          "name": "stdout"
        }
      ]
    },
    {
      "cell_type": "code",
      "metadata": {
        "id": "OcBy4rEhR7ap",
        "outputId": "fa33252d-96b2-44a4-9b46-89c5225d3f32",
        "colab": {
          "base_uri": "https://localhost:8080/"
        }
      },
      "source": [
        "int(run)"
      ],
      "execution_count": null,
      "outputs": [
        {
          "output_type": "execute_result",
          "data": {
            "text/plain": [
              "0"
            ]
          },
          "metadata": {
            "tags": []
          },
          "execution_count": 68
        }
      ]
    },
    {
      "cell_type": "code",
      "metadata": {
        "id": "wsmecgcXSBIZ"
      },
      "source": [
        "run = not(run)"
      ],
      "execution_count": null,
      "outputs": []
    },
    {
      "cell_type": "code",
      "metadata": {
        "id": "tR1xUuz0SGQ4",
        "outputId": "80e9325f-3b60-4593-b358-c7b26ba99901",
        "colab": {
          "base_uri": "https://localhost:8080/"
        }
      },
      "source": [
        "print(run, int(run))"
      ],
      "execution_count": null,
      "outputs": [
        {
          "output_type": "stream",
          "text": [
            "True 1\n"
          ],
          "name": "stdout"
        }
      ]
    },
    {
      "cell_type": "markdown",
      "metadata": {
        "id": "l5Yu5rlZGd1d"
      },
      "source": [
        "# IF STATEMENT"
      ]
    },
    {
      "cell_type": "code",
      "metadata": {
        "id": "g8bbUT1RSj33",
        "outputId": "3fe8d48d-bfc5-4bff-a436-012c73464c43",
        "colab": {
          "base_uri": "https://localhost:8080/"
        }
      },
      "source": [
        "20 == 10"
      ],
      "execution_count": null,
      "outputs": [
        {
          "output_type": "execute_result",
          "data": {
            "text/plain": [
              "False"
            ]
          },
          "metadata": {
            "tags": []
          },
          "execution_count": 71
        }
      ]
    },
    {
      "cell_type": "code",
      "metadata": {
        "id": "ycERFtY6Ssum",
        "outputId": "66097630-c8dd-4aa3-f061-094dfbc0ea69",
        "colab": {
          "base_uri": "https://localhost:8080/"
        }
      },
      "source": [
        "10 == 10"
      ],
      "execution_count": null,
      "outputs": [
        {
          "output_type": "execute_result",
          "data": {
            "text/plain": [
              "True"
            ]
          },
          "metadata": {
            "tags": []
          },
          "execution_count": 72
        }
      ]
    },
    {
      "cell_type": "code",
      "metadata": {
        "id": "c1wx8WJHSuvQ",
        "outputId": "4559d58f-e85f-4c09-dd8b-a6ce9813e4d5",
        "colab": {
          "base_uri": "https://localhost:8080/"
        }
      },
      "source": [
        "2 > 3"
      ],
      "execution_count": null,
      "outputs": [
        {
          "output_type": "execute_result",
          "data": {
            "text/plain": [
              "False"
            ]
          },
          "metadata": {
            "tags": []
          },
          "execution_count": 73
        }
      ]
    },
    {
      "cell_type": "code",
      "metadata": {
        "id": "AHBkCZwDSx0w",
        "outputId": "1ffd4b63-acdf-47be-da6c-b1f5126675ae",
        "colab": {
          "base_uri": "https://localhost:8080/"
        }
      },
      "source": [
        "2 < 3"
      ],
      "execution_count": null,
      "outputs": [
        {
          "output_type": "execute_result",
          "data": {
            "text/plain": [
              "True"
            ]
          },
          "metadata": {
            "tags": []
          },
          "execution_count": 74
        }
      ]
    },
    {
      "cell_type": "code",
      "metadata": {
        "id": "UpwsGkx_S2G2"
      },
      "source": [
        "nome = 'Bruno Sanches'\n",
        "idade = 66"
      ],
      "execution_count": null,
      "outputs": []
    },
    {
      "cell_type": "code",
      "metadata": {
        "id": "6c_s3628TLVa",
        "outputId": "daca41b1-4e01-41c1-f71f-42d1a3979137",
        "colab": {
          "base_uri": "https://localhost:8080/"
        }
      },
      "source": [
        "if idade > 20: #  Essa declaração é VERDADEIRA\n",
        "  print (nome)\n",
        "else:\n",
        "  print(f\"A idade do {nome} é {idade}\")  "
      ],
      "execution_count": null,
      "outputs": [
        {
          "output_type": "stream",
          "text": [
            "Bruno Sanches\n"
          ],
          "name": "stdout"
        }
      ]
    },
    {
      "cell_type": "code",
      "metadata": {
        "id": "qQ5Ikg3vUHfh",
        "outputId": "a093ad5d-2768-443b-c351-b6a2b0a8e945",
        "colab": {
          "base_uri": "https://localhost:8080/"
        }
      },
      "source": [
        "if idade <= 2:\n",
        "  print('Passagem grátis!')\n",
        "elif idade <= 12:\n",
        "  print(\"Passagem tem 75% de desconto\")\n",
        "elif idade <= 65:\n",
        "  print(\"Passagem sem desconto\")\n",
        "else:\n",
        "  print(\"Passagem tem 25% de desconto\")"
      ],
      "execution_count": null,
      "outputs": [
        {
          "output_type": "stream",
          "text": [
            "Passagem tem 25% de desconto\n"
          ],
          "name": "stdout"
        }
      ]
    },
    {
      "cell_type": "markdown",
      "metadata": {
        "id": "tT-bk1NaGZOj"
      },
      "source": [
        "# FOR LOOP"
      ]
    },
    {
      "cell_type": "code",
      "metadata": {
        "id": "raiXyLoIV8rG"
      },
      "source": [
        "produtos = ['queijo','arroz','macarrão','azeite','ovo','manteiga']"
      ],
      "execution_count": null,
      "outputs": []
    },
    {
      "cell_type": "code",
      "metadata": {
        "id": "WrVkqeFNWXNg",
        "outputId": "c7a9686f-41ad-4a58-a070-a1741747a14b",
        "colab": {
          "base_uri": "https://localhost:8080/"
        }
      },
      "source": [
        "for produto in produtos:\n",
        "  print(f\"O produto {produto.upper()} tem em estoque.\")"
      ],
      "execution_count": null,
      "outputs": [
        {
          "output_type": "stream",
          "text": [
            "O produto QUEIJO tem em estoque.\n",
            "O produto ARROZ tem em estoque.\n",
            "O produto MACARRÃO tem em estoque.\n",
            "O produto AZEITE tem em estoque.\n",
            "O produto OVO tem em estoque.\n",
            "O produto MANTEIGA tem em estoque.\n"
          ],
          "name": "stdout"
        }
      ]
    },
    {
      "cell_type": "code",
      "metadata": {
        "id": "P2C4uCayX34G",
        "outputId": "fa27f4b2-3019-40bc-c666-98557b03703b",
        "colab": {
          "base_uri": "https://localhost:8080/"
        }
      },
      "source": [
        "for numero in range(1, 11):\n",
        "  print(numero/2)"
      ],
      "execution_count": null,
      "outputs": [
        {
          "output_type": "stream",
          "text": [
            "0.5\n",
            "1.0\n",
            "1.5\n",
            "2.0\n",
            "2.5\n",
            "3.0\n",
            "3.5\n",
            "4.0\n",
            "4.5\n",
            "5.0\n"
          ],
          "name": "stdout"
        }
      ]
    },
    {
      "cell_type": "markdown",
      "metadata": {
        "id": "PGy_r-OBZl4c"
      },
      "source": [
        "#FUNÇÕES"
      ]
    },
    {
      "cell_type": "code",
      "metadata": {
        "id": "3Fkbs7f4Y3re"
      },
      "source": [
        "def somar_dois_numeros(num1, num2):\n",
        "  return num1 + num2"
      ],
      "execution_count": null,
      "outputs": []
    },
    {
      "cell_type": "code",
      "metadata": {
        "id": "kRqUYJYoZ6nU"
      },
      "source": [
        "numero_1 = 5\n",
        "numero_2 = 13"
      ],
      "execution_count": null,
      "outputs": []
    },
    {
      "cell_type": "code",
      "metadata": {
        "id": "qdrKe1ZVaBVC",
        "outputId": "b83ad3a7-f54a-4f38-be7b-44e6d389108a",
        "colab": {
          "base_uri": "https://localhost:8080/"
        }
      },
      "source": [
        "print(somar_dois_numeros(numero_1,numero_2))"
      ],
      "execution_count": null,
      "outputs": [
        {
          "output_type": "stream",
          "text": [
            "18\n"
          ],
          "name": "stdout"
        }
      ]
    },
    {
      "cell_type": "code",
      "metadata": {
        "id": "gTrIPnk_aIaB",
        "outputId": "0aa35833-09b5-4d3b-d1d7-f4cee4748b38",
        "colab": {
          "base_uri": "https://localhost:8080/"
        }
      },
      "source": [
        "print(somar_dois_numeros(25,1))"
      ],
      "execution_count": null,
      "outputs": [
        {
          "output_type": "stream",
          "text": [
            "26\n"
          ],
          "name": "stdout"
        }
      ]
    },
    {
      "cell_type": "code",
      "metadata": {
        "id": "HswaABoyaZ-J"
      },
      "source": [
        "def saudacao(nome_usuario):\n",
        "  print(f\"{nome_usuario}, seja bem vindo!\")"
      ],
      "execution_count": null,
      "outputs": []
    },
    {
      "cell_type": "code",
      "metadata": {
        "id": "cPW89Dvpan92",
        "outputId": "6e4c5816-daa1-41a3-b200-85c2274d3f18",
        "colab": {
          "base_uri": "https://localhost:8080/"
        }
      },
      "source": [
        "saudacao('Pedro')"
      ],
      "execution_count": null,
      "outputs": [
        {
          "output_type": "stream",
          "text": [
            "Pedro, seja bem vindo!\n"
          ],
          "name": "stdout"
        }
      ]
    },
    {
      "cell_type": "code",
      "metadata": {
        "id": "Bp2996KvarxU",
        "outputId": "187e630f-3610-47e5-c559-cee3a493463d",
        "colab": {
          "base_uri": "https://localhost:8080/"
        }
      },
      "source": [
        "saudacao('Maria')"
      ],
      "execution_count": null,
      "outputs": [
        {
          "output_type": "stream",
          "text": [
            "Maria, seja bem vindo!\n"
          ],
          "name": "stdout"
        }
      ]
    },
    {
      "cell_type": "code",
      "metadata": {
        "id": "UnJrpriPavGx"
      },
      "source": [
        "usuario = 'Juca'"
      ],
      "execution_count": null,
      "outputs": []
    },
    {
      "cell_type": "code",
      "metadata": {
        "id": "ymE9wgrPay6-",
        "outputId": "70b29963-cd74-4b89-ab47-9c9218792e5a",
        "colab": {
          "base_uri": "https://localhost:8080/"
        }
      },
      "source": [
        "saudacao(usuario)"
      ],
      "execution_count": null,
      "outputs": [
        {
          "output_type": "stream",
          "text": [
            "Juca, seja bem vindo!\n"
          ],
          "name": "stdout"
        }
      ]
    },
    {
      "cell_type": "markdown",
      "metadata": {
        "id": "D13jgyXibpoY"
      },
      "source": [
        "# Exercícios"
      ]
    },
    {
      "cell_type": "markdown",
      "metadata": {
        "id": "TNonrUkgbzIG"
      },
      "source": [
        "## F-STRINGS E LISTAS"
      ]
    },
    {
      "cell_type": "code",
      "metadata": {
        "id": "i7vfFf0RbuoO",
        "outputId": "5ac0b9d3-6c64-488d-b283-78b9cd9a383b",
        "colab": {
          "base_uri": "https://localhost:8080/"
        }
      },
      "source": [
        "''' \n",
        "Crie uma lista de produtos com as seguintes strings:\n",
        "'computador', 'mouse', 'monitor', 'laptop'\n",
        "'''\n",
        "\n",
        "lista = ('computador', 'mouse', 'monitor', 'laptop')\n",
        "'''\n",
        "Usando essa mesma lista, acesse a cada item\n",
        "mostrando a mensagem com f-string:\n",
        "Ex: 'Mouse sem estoque.'\n",
        "'''\n",
        "\n",
        "for item in lista:\n",
        "  print(f\"{item} sem estoque.\")\n",
        "\n",
        "''' Crie outra lista de números de 1 a 5. Mostre o último e\n",
        " o primeiro dessa lista.\n",
        "'''\n",
        "\n",
        "numeros = (1, 2, 3, 4, 5)\n",
        "print()\n",
        "print(numeros[0], numeros[-1])"
      ],
      "execution_count": null,
      "outputs": [
        {
          "output_type": "stream",
          "text": [
            "computador sem estoque.\n",
            "mouse sem estoque.\n",
            "monitor sem estoque.\n",
            "laptop sem estoque.\n",
            "\n",
            "1 5\n"
          ],
          "name": "stdout"
        }
      ]
    },
    {
      "cell_type": "markdown",
      "metadata": {
        "id": "5n9v2FZmdaEs"
      },
      "source": [
        "## DICIONÁRIOS"
      ]
    },
    {
      "cell_type": "code",
      "metadata": {
        "id": "pfE4P_gScSUM",
        "outputId": "6092b448-53c8-4515-ec13-ba0c67884b2f",
        "colab": {
          "base_uri": "https://localhost:8080/"
        }
      },
      "source": [
        "'''\n",
        "Crie um dicionário chamado 'usuario', com as\n",
        "seguintes chaves: 'nome', 'sexo', 'idade', 'email'. Os\n",
        "valores de cada uma você mesmo define.\n",
        "'''\n",
        "usuario = {'nome':'Bruno Sanches', 'sexo': 'Masculino', 'idade':38, 'email':'brunominetti@email'}\n",
        "\n",
        "\"\"\"\n",
        "Após criado, adicione uma nova chave chamada\n",
        "'tipo' com o valor: 'administrador'\n",
        "\"\"\"\n",
        "usuario['tipo'] = 'administrador'\n",
        "\n",
        "'''\n",
        "Mostre na tela somente as chaves deste dicionário e\n",
        "depois mostre somente os valores deste dicionário\n",
        "'''\n",
        "\n",
        "print(usuario.keys())\n",
        "print(usuario.values())"
      ],
      "execution_count": null,
      "outputs": [
        {
          "output_type": "stream",
          "text": [
            "dict_keys(['nome', 'sexo', 'idade', 'email', 'tipo'])\n",
            "dict_values(['Bruno Sanches', 'Masculino', 38, 'brunominetti@email', 'administrador'])\n"
          ],
          "name": "stdout"
        }
      ]
    },
    {
      "cell_type": "markdown",
      "metadata": {
        "id": "XlkAzIIQfEub"
      },
      "source": [
        "## FOR LOOP"
      ]
    },
    {
      "cell_type": "code",
      "metadata": {
        "id": "mN61uqAyfHm1",
        "outputId": "b2501aa6-14e0-4c0f-bc29-eb60862603d1",
        "colab": {
          "base_uri": "https://localhost:8080/"
        }
      },
      "source": [
        "'''\n",
        "Pense em 5 carros que você gosta. Crie uma lista com\n",
        "eles , use FOR para mostrar todas elas na tela.\n",
        "'''\n",
        "\n",
        "carros = ('kombi', 'fusca', 'gol', 'passat', 'brasilia')\n",
        "\n",
        "for carro in carros:\n",
        "  print(carro)\n",
        "\n",
        "'''\n",
        "Agora dentro do FOR, use F-String para mostrar a\n",
        "mensagem:\n",
        "Ex: 'Meu Corolla tem motor 2.0'\n",
        "'''\n",
        "print()\n",
        "for carro in carros:\n",
        "  print(f'Meu {carro} tem motor 2.0')"
      ],
      "execution_count": null,
      "outputs": [
        {
          "output_type": "stream",
          "text": [
            "kombi\n",
            "fusca\n",
            "gol\n",
            "passat\n",
            "brasilia\n",
            "\n",
            "Meu kombi tem motor 2.0\n",
            "Meu fusca tem motor 2.0\n",
            "Meu gol tem motor 2.0\n",
            "Meu passat tem motor 2.0\n",
            "Meu brasilia tem motor 2.0\n"
          ],
          "name": "stdout"
        }
      ]
    },
    {
      "cell_type": "markdown",
      "metadata": {
        "id": "AogqzMzbiskD"
      },
      "source": [
        "## IF STATEMENT"
      ]
    },
    {
      "cell_type": "code",
      "metadata": {
        "id": "1HnXVPRBiwzc",
        "outputId": "00256217-1495-4bf7-e030-398484bf2b90",
        "colab": {
          "base_uri": "https://localhost:8080/"
        }
      },
      "source": [
        "'''\n",
        "Crie uma lista com 4 cores diferentes. Ex: azul,\n",
        "vermelho, amarelo e roxo.\n",
        "'''\n",
        "cores = ('azul turquesa','fucsia','verde oliva', 'amarelo')\n",
        "\n",
        "'''\n",
        "Use FOR para percorrer todos os itens e se for\n",
        "amarelo, mostre a mensagem:\n",
        "Ex: 'A cor do carro será amarelo.'\n",
        "'''\n",
        "'''\n",
        "E se a cor não for amarelo, mostre na tela:\n",
        "Ex: 'A cor do carro pode ser azul.'\n",
        "'''\n",
        "for cor in cores:\n",
        "  if cor == 'amarelo':\n",
        "    print('A cor do carro será amarelo.')\n",
        "  else:\n",
        "    print(f'A cor do carro pode ser {cor}')\n"
      ],
      "execution_count": null,
      "outputs": [
        {
          "output_type": "stream",
          "text": [
            "A cor do carro pode ser azul turquesa\n",
            "A cor do carro pode ser fucsia\n",
            "A cor do carro pode ser verde oliva\n",
            "A cor do carro será amarelo.\n"
          ],
          "name": "stdout"
        }
      ]
    }
  ]
}