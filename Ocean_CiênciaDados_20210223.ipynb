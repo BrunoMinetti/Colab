{
  "nbformat": 4,
  "nbformat_minor": 0,
  "metadata": {
    "colab": {
      "name": "Ocean_CiênciaDados_20210223.ipynb",
      "provenance": [],
      "authorship_tag": "ABX9TyOLljIUFkUFFZJgvgj9xsHz",
      "include_colab_link": true
    },
    "kernelspec": {
      "name": "python3",
      "display_name": "Python 3"
    }
  },
  "cells": [
    {
      "cell_type": "markdown",
      "metadata": {
        "id": "view-in-github",
        "colab_type": "text"
      },
      "source": [
        "<a href=\"https://colab.research.google.com/github/BrunoMinetti/Colab/blob/main/Ocean_Ci%C3%AAnciaDados_20210223.ipynb\" target=\"_parent\"><img src=\"https://colab.research.google.com/assets/colab-badge.svg\" alt=\"Open In Colab\"/></a>"
      ]
    },
    {
      "cell_type": "markdown",
      "metadata": {
        "id": "zuPl2KaEvjc4"
      },
      "source": [
        "#Ciência de Dados: Laboratório com Pandas e Python\r\n",
        "\r\n",
        "Aluno: Bruno Cesar Minetti Sanches\r\n",
        "\r\n",
        "HORÁRIO:das 13:30 às 16:30\r\n",
        "CARGA HORÁRIA:3 horas"
      ]
    },
    {
      "cell_type": "markdown",
      "metadata": {
        "id": "YJFbr7vdvpai"
      },
      "source": [
        "Conteúdo:\r\n",
        "\r\n",
        "Trabalhando com Dados de forma visual:\r\n",
        "\r\n",
        "- Acesso a dados\r\n",
        "\r\n",
        "- Manipulação de dados;\r\n",
        "\r\n",
        "- Limpeza de dados;\r\n",
        "\r\n",
        "- Visualização de dados\r\n",
        "\r\n",
        "Público Alvo: Estudantes, Profissionais, interessados em geral.\r\n",
        "Pré-Requisitos: Acima de 18 anos.\r\n",
        "Duração: 3 hora(s), das 13:30 às 16:30\r\n",
        "Palestrante: Prof. Paulo Salvatore\r\n",
        "Informações Adicionais: Horário de Brasília. Informações de acesso serão enviadas por e-mail."
      ]
    },
    {
      "cell_type": "code",
      "metadata": {
        "id": "a8BnS5v4vZHL"
      },
      "source": [
        ""
      ],
      "execution_count": null,
      "outputs": []
    }
  ]
}